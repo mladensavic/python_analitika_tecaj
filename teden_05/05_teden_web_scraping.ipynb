{
 "cells": [
  {
   "cell_type": "code",
   "execution_count": 1,
   "metadata": {},
   "outputs": [],
   "source": [
    "import pandas as pd"
   ]
  },
  {
   "cell_type": "markdown",
   "metadata": {},
   "source": [
    "# Web scraping - pridobivanje podatkov s spleta\n"
   ]
  },
  {
   "cell_type": "markdown",
   "metadata": {},
   "source": [
    "## What Is Web Scraping?"
   ]
  },
  {
   "cell_type": "markdown",
   "metadata": {},
   "source": [
    "<img class=\"progressiveMedia-image js-progressiveMedia-image\" data-src=\"https://cdn-images-1.medium.com/max/1600/1*GOyqaID2x1N5lD_rhTDKVQ.png\" src=\"https://cdn-images-1.medium.com/max/1600/1*GOyqaID2x1N5lD_rhTDKVQ.png\">"
   ]
  },
  {
   "cell_type": "markdown",
   "metadata": {},
   "source": [
    "### Why Web Scraping for Data Science?"
   ]
  },
  {
   "cell_type": "markdown",
   "metadata": {},
   "source": [
    "## Network complexity"
   ]
  },
  {
   "cell_type": "markdown",
   "metadata": {},
   "source": [
    "## HTTP"
   ]
  },
  {
   "cell_type": "markdown",
   "metadata": {},
   "source": [
    "## HTTP in Python: The Requests Library"
   ]
  },
  {
   "cell_type": "markdown",
   "metadata": {},
   "source": [
    "[Requests: HTTP for Humans](https://2.python-requests.org/en/master/)"
   ]
  },
  {
   "cell_type": "code",
   "execution_count": 2,
   "metadata": {},
   "outputs": [],
   "source": [
    "# robots.txt pove, kakšna je politika glede scrapanja te strani\n",
    "# nekatere knjižnice avtomatizirajo sprehajanje skozi stran in izpolnjevanje form (Selenium)\n",
    "# \n",
    "# "
   ]
  },
  {
   "cell_type": "code",
   "execution_count": 4,
   "metadata": {},
   "outputs": [],
   "source": [
    "# najprej bomo iz .html fajla dobili dataframe\n",
    "# uporabimo knjižnico Requests"
   ]
  },
  {
   "cell_type": "code",
   "execution_count": 5,
   "metadata": {},
   "outputs": [],
   "source": [
    "import requests"
   ]
  },
  {
   "cell_type": "code",
   "execution_count": 6,
   "metadata": {},
   "outputs": [],
   "source": [
    "url = 'http://example.com/'"
   ]
  },
  {
   "cell_type": "code",
   "execution_count": 7,
   "metadata": {},
   "outputs": [],
   "source": [
    "r = requests.get(url)"
   ]
  },
  {
   "cell_type": "code",
   "execution_count": 8,
   "metadata": {},
   "outputs": [
    {
     "data": {
      "text/plain": [
       "<Response [200]>"
      ]
     },
     "execution_count": 8,
     "metadata": {},
     "output_type": "execute_result"
    }
   ],
   "source": [
    "r"
   ]
  },
  {
   "cell_type": "code",
   "execution_count": 9,
   "metadata": {},
   "outputs": [
    {
     "data": {
      "text/plain": [
       "requests.models.Response"
      ]
     },
     "execution_count": 9,
     "metadata": {},
     "output_type": "execute_result"
    }
   ],
   "source": [
    "type(r)"
   ]
  },
  {
   "cell_type": "code",
   "execution_count": 11,
   "metadata": {},
   "outputs": [
    {
     "data": {
      "text/plain": [
       "'<!doctype html>\\n<html>\\n<head>\\n    <title>Example Domain</title>\\n\\n    <meta charset=\"utf-8\" />\\n    <meta http-equiv=\"Content-type\" content=\"text/html; charset=utf-8\" />\\n    <meta name=\"viewport\" content=\"width=device-width, initial-scale=1\" />\\n    <style type=\"text/css\">\\n    body {\\n        background-color: #f0f0f2;\\n        margin: 0;\\n        padding: 0;\\n        font-family: \"Open Sans\", \"Helvetica Neue\", Helvetica, Arial, sans-serif;\\n        \\n    }\\n    div {\\n        width: 600px;\\n        margin: 5em auto;\\n        padding: 50px;\\n        background-color: #fff;\\n        border-radius: 1em;\\n    }\\n    a:link, a:visited {\\n        color: #38488f;\\n        text-decoration: none;\\n    }\\n    @media (max-width: 700px) {\\n        body {\\n            background-color: #fff;\\n        }\\n        div {\\n            width: auto;\\n            margin: 0 auto;\\n            border-radius: 0;\\n            padding: 1em;\\n        }\\n    }\\n    </style>    \\n</head>\\n\\n<body>\\n<div>\\n    <h1>Example Domain</h1>\\n    <p>This domain is established to be used for illustrative examples in documents. You may use this\\n    domain in examples without prior coordination or asking for permission.</p>\\n    <p><a href=\"http://www.iana.org/domains/example\">More information...</a></p>\\n</div>\\n</body>\\n</html>\\n'"
      ]
     },
     "execution_count": 11,
     "metadata": {},
     "output_type": "execute_result"
    }
   ],
   "source": [
    "# da izpišemo HTML kodo strani, rečemo takole:\n",
    "r.text"
   ]
  },
  {
   "cell_type": "code",
   "execution_count": 12,
   "metadata": {},
   "outputs": [
    {
     "data": {
      "text/plain": [
       "200"
      ]
     },
     "execution_count": 12,
     "metadata": {},
     "output_type": "execute_result"
    }
   ],
   "source": [
    "r.status_code"
   ]
  },
  {
   "cell_type": "code",
   "execution_count": 14,
   "metadata": {},
   "outputs": [
    {
     "data": {
      "text/plain": [
       "'OK'"
      ]
     },
     "execution_count": 14,
     "metadata": {},
     "output_type": "execute_result"
    }
   ],
   "source": [
    "# besedni opis posamezne status kode\n",
    "r.reason"
   ]
  },
  {
   "cell_type": "code",
   "execution_count": 15,
   "metadata": {},
   "outputs": [
    {
     "data": {
      "text/plain": [
       "{'Content-Encoding': 'gzip', 'Cache-Control': 'max-age=604800', 'Content-Type': 'text/html; charset=UTF-8', 'Date': 'Wed, 22 May 2019 17:40:51 GMT', 'Etag': '\"1541025663+gzip\"', 'Expires': 'Wed, 29 May 2019 17:40:51 GMT', 'Last-Modified': 'Fri, 09 Aug 2013 23:54:35 GMT', 'Server': 'ECS (dcb/7EEA)', 'Vary': 'Accept-Encoding', 'X-Cache': 'HIT', 'Content-Length': '606'}"
      ]
     },
     "execution_count": 15,
     "metadata": {},
     "output_type": "execute_result"
    }
   ],
   "source": [
    "# respons headersi - kaj pride še zraven HTML-ja\n",
    "r.headers"
   ]
  },
  {
   "cell_type": "code",
   "execution_count": 16,
   "metadata": {},
   "outputs": [
    {
     "data": {
      "text/plain": [
       "<PreparedRequest [GET]>"
      ]
     },
     "execution_count": 16,
     "metadata": {},
     "output_type": "execute_result"
    }
   ],
   "source": [
    "r.request"
   ]
  },
  {
   "cell_type": "code",
   "execution_count": 18,
   "metadata": {},
   "outputs": [
    {
     "data": {
      "text/plain": [
       "{'User-Agent': 'python-requests/2.21.0', 'Accept-Encoding': 'gzip, deflate', 'Accept': '*/*', 'Connection': 'keep-alive'}"
      ]
     },
     "execution_count": 18,
     "metadata": {},
     "output_type": "execute_result"
    }
   ],
   "source": [
    "r.request.headers"
   ]
  },
  {
   "cell_type": "markdown",
   "metadata": {},
   "source": [
    "## HTML and CSS"
   ]
  },
  {
   "cell_type": "markdown",
   "metadata": {},
   "source": [
    "<img class=\"progressiveMedia-image js-progressiveMedia-image\" data-src=\"https://cdn-images-1.medium.com/max/1600/1*x9mxFBXnLU05iPy19dGj7g.png\" src=\"https://cdn-images-1.medium.com/max/1600/1*x9mxFBXnLU05iPy19dGj7g.png\">"
   ]
  },
  {
   "cell_type": "markdown",
   "metadata": {},
   "source": [
    "### Hypertext Markup Language: HTML"
   ]
  },
  {
   "cell_type": "markdown",
   "metadata": {},
   "source": [
    "Link strani: https://en.wikipedia.org/w/index.php?title=List_of_Game_of_Thrones_episodes&oldid=802553687"
   ]
  },
  {
   "cell_type": "code",
   "execution_count": 19,
   "metadata": {},
   "outputs": [],
   "source": [
    "# najprej downloadamo zgornjo spletno stran\n"
   ]
  },
  {
   "cell_type": "code",
   "execution_count": 2,
   "metadata": {},
   "outputs": [],
   "source": [
    "import requests\n"
   ]
  },
  {
   "cell_type": "code",
   "execution_count": 3,
   "metadata": {},
   "outputs": [],
   "source": [
    "url_got = 'https://en.wikipedia.org/w/index.php?title=List_of_Game_of_Thrones_episodes&oldid=802553687'"
   ]
  },
  {
   "cell_type": "code",
   "execution_count": 4,
   "metadata": {},
   "outputs": [],
   "source": [
    "r = requests.get(url_got)"
   ]
  },
  {
   "cell_type": "code",
   "execution_count": 5,
   "metadata": {},
   "outputs": [
    {
     "data": {
      "text/plain": [
       "'<!DOCTYPE html>\\n<html class=\"client-nojs\" lang=\"en\" dir=\"ltr\">\\n<head>\\n<meta charset=\"UTF-8\"/>\\n<title>List of Game of Thrones episodes - Wikipedia</title>\\n<script>document.documentElement.className=document.documentElement.className.replace(/(^|\\\\s)client-nojs(\\\\s|$)/,\"$1client-js$2\");RLCONF={\"wgCanonicalNamespace\":\"\",\"wgCanonicalSpecialPageName\":!1,\"wgNamespaceNumber\":0,\"wgPageName\":\"List_of_Game_of_Thrones_episodes\",\"wgTitle\":\"List of Game of Thrones episodes\",\"wgCurRevisionId\":898999050,\"wgRevisionId\":802553687,\"wgArticleId\":31120069,\"wgIsArticle\":!0,\"wgIsRedirect\":!1,\"wgAction\":\"view\",\"wgUserName\":null,\"wgUserGroups\":[\"*\"],\"wgCategories\":[\"Articles containing potentially dated statements from August 2017\",\"All articles containing potentially dated statements\",\"Official website not in Wikidata\",\"Featured lists\",\"Game of Thrones episodes\",\"Lists of American drama television series episodes\",\"Lists of fantasy television series episodes\"],\"wgBreakFrames\":!1,\"wgPageContentLanguage\":\"en\",\"w'"
      ]
     },
     "execution_count": 5,
     "metadata": {},
     "output_type": "execute_result"
    }
   ],
   "source": [
    "r.text[:1000]"
   ]
  },
  {
   "cell_type": "markdown",
   "metadata": {},
   "source": [
    "- `<p>...</p>` to enclose a paragraph;\n",
    "- `<br>` to set a line break;\n",
    "- `<table>...</table>` to start a table block, inside; `<tr>...<tr/>` is used for the rows; and `<td>...</td>` cells;\n",
    "- `<img>` for images;\n",
    "- `<h1>...</h1> to <h6>...</h6>` for headers;\n",
    "- `<div>...</div>` to indicate a “division” in an HTML document, basically used to group a set of elements;\n",
    "- `<a>...</a>` for hyperlinks;\n",
    "- `<ul>...</ul>, <ol>...</ol>` for unordered and ordered lists respectively; inside of these, `<li>...</li>` is used for each list item."
   ]
  },
  {
   "cell_type": "markdown",
   "metadata": {},
   "source": [
    "## Using Your Browser as a Development Tool"
   ]
  },
  {
   "cell_type": "markdown",
   "metadata": {},
   "source": [
    "## The Beautiful Soup Library"
   ]
  },
  {
   "cell_type": "code",
   "execution_count": 6,
   "metadata": {},
   "outputs": [],
   "source": [
    "html_content = r.text"
   ]
  },
  {
   "cell_type": "markdown",
   "metadata": {},
   "source": [
    "> **[beautifulsoup4](https://www.crummy.com/software/BeautifulSoup/bs4/doc/)**: Beautiful Soup tries to organize complexity: it helps to parse, structure and organize the oftentimes very messy web by fixing bad HTML and presenting us with an easy-to-work-with Python structure."
   ]
  },
  {
   "cell_type": "code",
   "execution_count": 7,
   "metadata": {},
   "outputs": [],
   "source": [
    "from bs4 import BeautifulSoup\n"
   ]
  },
  {
   "cell_type": "code",
   "execution_count": 8,
   "metadata": {},
   "outputs": [],
   "source": [
    "html_soup = BeautifulSoup(html_content, 'html.parser')"
   ]
  },
  {
   "cell_type": "code",
   "execution_count": 9,
   "metadata": {},
   "outputs": [],
   "source": [
    "# ponavadi imamo več parserjev, da preparsamo stran"
   ]
  },
  {
   "cell_type": "markdown",
   "metadata": {},
   "source": [
    "In Python, multiple parsers exist to do so:\n",
    "- `html.parser`: a built-in Python parser that is decent (especially when using recent versions of Python 3) and requires no extra installation.\n",
    "- `lxml`: which is very fast but requires an extra installation.\n",
    "- `html5lib`: which aims to parse web page in exactly the same way as a web browser does, but is a bit slower."
   ]
  },
  {
   "cell_type": "code",
   "execution_count": 10,
   "metadata": {},
   "outputs": [],
   "source": [
    "# mi bomo uporabili prvega (default). Ker ni vedno ta default povsod, je vedno dobro navesti parser"
   ]
  },
  {
   "cell_type": "markdown",
   "metadata": {},
   "source": [
    "- `find(name, attrs, recursive, string, **keywords)`\n",
    "- `find_all(name, attrs, recursive, string, limit, **keywords)`"
   ]
  },
  {
   "cell_type": "code",
   "execution_count": 11,
   "metadata": {},
   "outputs": [],
   "source": [
    "# glavni dve funkciji sta:\n",
    "# find (najde samo prvi element, ki pride na vrsto)\n",
    "# find_all najde vse elemente"
   ]
  },
  {
   "cell_type": "code",
   "execution_count": 12,
   "metadata": {},
   "outputs": [
    {
     "data": {
      "text/plain": [
       "<h1 class=\"firstHeading\" id=\"firstHeading\" lang=\"en\">List of <i>Game of Thrones</i> episodes</h1>"
      ]
     },
     "execution_count": 12,
     "metadata": {},
     "output_type": "execute_result"
    }
   ],
   "source": [
    "#iskanje po tagu\n",
    "html_soup.find('h1')"
   ]
  },
  {
   "cell_type": "code",
   "execution_count": 13,
   "metadata": {},
   "outputs": [
    {
     "data": {
      "text/plain": [
       "<h1 class=\"firstHeading\" id=\"firstHeading\" lang=\"en\">List of <i>Game of Thrones</i> episodes</h1>"
      ]
     },
     "execution_count": 13,
     "metadata": {},
     "output_type": "execute_result"
    }
   ],
   "source": [
    "# iskanje po atributu\n",
    "html_soup.find('',{'id': 'firstHeading'})"
   ]
  },
  {
   "cell_type": "code",
   "execution_count": 14,
   "metadata": {},
   "outputs": [],
   "source": [
    "all_h1 = html_soup.find_all('h1')"
   ]
  },
  {
   "cell_type": "code",
   "execution_count": 15,
   "metadata": {},
   "outputs": [
    {
     "data": {
      "text/plain": [
       "1"
      ]
     },
     "execution_count": 15,
     "metadata": {},
     "output_type": "execute_result"
    }
   ],
   "source": [
    "len(all_h1)"
   ]
  },
  {
   "cell_type": "code",
   "execution_count": 16,
   "metadata": {},
   "outputs": [],
   "source": [
    "all_h2 = html_soup.find_all('h2')"
   ]
  },
  {
   "cell_type": "code",
   "execution_count": 17,
   "metadata": {},
   "outputs": [
    {
     "data": {
      "text/plain": [
       "8"
      ]
     },
     "execution_count": 17,
     "metadata": {},
     "output_type": "execute_result"
    }
   ],
   "source": [
    "len(all_h2)"
   ]
  },
  {
   "cell_type": "code",
   "execution_count": 18,
   "metadata": {},
   "outputs": [
    {
     "name": "stdout",
     "output_type": "stream",
     "text": [
      "<h2>Contents</h2>\n",
      "<h2><span class=\"mw-headline\" id=\"Series_overview\">Series overview</span></h2>\n",
      "<h2><span class=\"mw-headline\" id=\"Episodes\">Episodes</span></h2>\n",
      "<h2><span class=\"mw-headline\" id=\"Home_media_releases\">Home media releases</span></h2>\n",
      "<h2><span class=\"mw-headline\" id=\"Ratings\">Ratings</span></h2>\n",
      "<h2><span class=\"mw-headline\" id=\"References\">References</span></h2>\n",
      "<h2><span class=\"mw-headline\" id=\"External_links\">External links</span></h2>\n",
      "<h2>Navigation menu</h2>\n"
     ]
    }
   ],
   "source": [
    "#loopanje skozi tage\n",
    "for found in html_soup.find_all('h2'):\n",
    "    print(found)"
   ]
  },
  {
   "cell_type": "code",
   "execution_count": 19,
   "metadata": {},
   "outputs": [],
   "source": [
    "first_h1 = html_soup.find('h1')"
   ]
  },
  {
   "cell_type": "code",
   "execution_count": 20,
   "metadata": {},
   "outputs": [
    {
     "data": {
      "text/plain": [
       "<h1 class=\"firstHeading\" id=\"firstHeading\" lang=\"en\">List of <i>Game of Thrones</i> episodes</h1>"
      ]
     },
     "execution_count": 20,
     "metadata": {},
     "output_type": "execute_result"
    }
   ],
   "source": [
    "first_h1"
   ]
  },
  {
   "cell_type": "code",
   "execution_count": 22,
   "metadata": {},
   "outputs": [
    {
     "data": {
      "text/plain": [
       "'h1'"
      ]
     },
     "execution_count": 22,
     "metadata": {},
     "output_type": "execute_result"
    }
   ],
   "source": [
    "# Izpiše tag tega elementa\n",
    "first_h1.name"
   ]
  },
  {
   "cell_type": "code",
   "execution_count": 25,
   "metadata": {},
   "outputs": [
    {
     "data": {
      "text/plain": [
       "['List of ', <i>Game of Thrones</i>, ' episodes']"
      ]
     },
     "execution_count": 25,
     "metadata": {},
     "output_type": "execute_result"
    }
   ],
   "source": [
    "# kaj se nahaja znotraj first_h1\n",
    "first_h1.contents"
   ]
  },
  {
   "cell_type": "code",
   "execution_count": 27,
   "metadata": {},
   "outputs": [
    {
     "data": {
      "text/plain": [
       "'List of Game of Thrones episodes'"
      ]
     },
     "execution_count": 27,
     "metadata": {},
     "output_type": "execute_result"
    }
   ],
   "source": [
    "#  kaj je v h1 ampak sammo tekst\n",
    "first_h1.text"
   ]
  },
  {
   "cell_type": "code",
   "execution_count": 28,
   "metadata": {},
   "outputs": [
    {
     "data": {
      "text/plain": [
       "'List of Game of Thrones episodes'"
      ]
     },
     "execution_count": 28,
     "metadata": {},
     "output_type": "execute_result"
    }
   ],
   "source": [
    "# isto dobimo tudi tako:\n",
    "first_h1.get_text()"
   ]
  },
  {
   "cell_type": "code",
   "execution_count": 30,
   "metadata": {},
   "outputs": [
    {
     "data": {
      "text/plain": [
       "{'id': 'firstHeading', 'class': ['firstHeading'], 'lang': 'en'}"
      ]
     },
     "execution_count": 30,
     "metadata": {},
     "output_type": "execute_result"
    }
   ],
   "source": [
    "# dictionary atributov\n",
    "first_h1.attrs"
   ]
  },
  {
   "cell_type": "code",
   "execution_count": 31,
   "metadata": {},
   "outputs": [
    {
     "data": {
      "text/plain": [
       "'firstHeading'"
      ]
     },
     "execution_count": 31,
     "metadata": {},
     "output_type": "execute_result"
    }
   ],
   "source": [
    "# če hočemo samo en atribut:\n",
    "first_h1.attrs['id']\n"
   ]
  },
  {
   "cell_type": "code",
   "execution_count": 32,
   "metadata": {},
   "outputs": [
    {
     "data": {
      "text/plain": [
       "'firstHeading'"
      ]
     },
     "execution_count": 32,
     "metadata": {},
     "output_type": "execute_result"
    }
   ],
   "source": [
    "#isto\n",
    "first_h1['id']"
   ]
  },
  {
   "cell_type": "code",
   "execution_count": 34,
   "metadata": {},
   "outputs": [
    {
     "data": {
      "text/plain": [
       "'firstHeading'"
      ]
     },
     "execution_count": 34,
     "metadata": {},
     "output_type": "execute_result"
    }
   ],
   "source": [
    "# isto\n",
    "first_h1.get('id')"
   ]
  },
  {
   "cell_type": "code",
   "execution_count": 35,
   "metadata": {},
   "outputs": [],
   "source": [
    "#zelo pogost atribut je 'class'\n",
    "# problem je, da je v Pythonu \"class\" že rezervirana beseda\n",
    "# zato pišemo \"class_\""
   ]
  },
  {
   "cell_type": "code",
   "execution_count": 38,
   "metadata": {},
   "outputs": [],
   "source": [
    "# npr. radi bi našli vse vire, ki imajo class=\"citation\" ( tag \"cite\")\n",
    "cites = html_soup.find_all('cite', class_='citation', limit = 4)\n",
    "\n"
   ]
  },
  {
   "cell_type": "code",
   "execution_count": 41,
   "metadata": {},
   "outputs": [
    {
     "data": {
      "text/plain": [
       "[<cite class=\"citation web\">Fowler, Matt (April 8, 2011). <a class=\"external text\" href=\"http://tv.ign.com/articles/116/1160215p1.html\" rel=\"nofollow\">\"Game of Thrones: \"Winter is Coming\" Review\"</a>. <a href=\"/wiki/IGN\" title=\"IGN\">IGN</a>. <a class=\"external text\" href=\"https://web.archive.org/web/20120817073932/http://tv.ign.com/articles/116/1160215p1.html\" rel=\"nofollow\">Archived</a> from the original on August 17, 2012<span class=\"reference-accessdate\">. Retrieved <span class=\"nowrap\">September 22,</span> 2016</span>.</cite>,\n",
       " <cite class=\"citation news\">Fleming, Michael (January 16, 2007). <a class=\"external text\" href=\"http://www.variety.com/article/VR1117957532.html?categoryid=14&amp;cs=1\" rel=\"nofollow\">\"HBO turns <i>Fire</i> into fantasy series\"</a>. <i><a href=\"/wiki/Variety_(magazine)\" title=\"Variety (magazine)\">Variety</a></i>. <a class=\"external text\" href=\"https://web.archive.org/web/20120516224747/http://www.variety.com/article/VR1117957532?refCatId=14\" rel=\"nofollow\">Archived</a> from the original on May 16, 2012<span class=\"reference-accessdate\">. Retrieved <span class=\"nowrap\">September 3,</span> 2016</span>.</cite>,\n",
       " <cite class=\"citation web\"><a class=\"external text\" href=\"http://www.emmys.com/shows/game-thrones\" rel=\"nofollow\">\"Game of Thrones\"</a>. <a href=\"/wiki/Emmy_Award\" title=\"Emmy Award\">Emmys.com</a><span class=\"reference-accessdate\">. Retrieved <span class=\"nowrap\">September 17,</span> 2016</span>.</cite>,\n",
       " <cite class=\"citation news\">Roberts, Josh (April 1, 2012). <a class=\"external text\" href=\"https://web.archive.org/web/20120401123724/http://travel.usatoday.com/destinations/story/2012-04-01/Where-the-HBO-hit-Game-of-Thrones-was-filmed/53876876/1\" rel=\"nofollow\">\"Where HBO's hit 'Game of Thrones' was filmed\"</a>. <i><a href=\"/wiki/USA_Today\" title=\"USA Today\">USA Today</a></i>. Archived from <a class=\"external text\" href=\"http://travel.usatoday.com/destinations/story/2012-04-01/Where-the-HBO-hit-Game-of-Thrones-was-filmed/53876876/1\" rel=\"nofollow\">the original</a> on April 1, 2012<span class=\"reference-accessdate\">. Retrieved <span class=\"nowrap\">March 8,</span> 2013</span>.</cite>]"
      ]
     },
     "execution_count": 41,
     "metadata": {},
     "output_type": "execute_result"
    }
   ],
   "source": [
    "cites"
   ]
  },
  {
   "cell_type": "code",
   "execution_count": 42,
   "metadata": {},
   "outputs": [
    {
     "data": {
      "text/plain": [
       "'Fowler, Matt (April 8, 2011). \"Game of Thrones: \"Winter is Coming\" Review\". IGN. Archived from the original on August 17, 2012. Retrieved September 22, 2016.'"
      ]
     },
     "execution_count": 42,
     "metadata": {},
     "output_type": "execute_result"
    }
   ],
   "source": [
    "# to bi radi malo uredili. Naj se izpiše samo vsebina, nato vejica in pripadajoči link\n",
    "# najprej samo za enega\n",
    "cites[0].get_text()"
   ]
  },
  {
   "cell_type": "code",
   "execution_count": 45,
   "metadata": {},
   "outputs": [
    {
     "data": {
      "text/plain": [
       "'http://tv.ign.com/articles/116/1160215p1.html'"
      ]
     },
     "execution_count": 45,
     "metadata": {},
     "output_type": "execute_result"
    }
   ],
   "source": [
    "cites[0].find('a').get('href')"
   ]
  },
  {
   "cell_type": "code",
   "execution_count": 49,
   "metadata": {},
   "outputs": [
    {
     "name": "stdout",
     "output_type": "stream",
     "text": [
      "---> Fowler, Matt (April 8, 2011). \"Game of Thrones: \"Winter is Coming\" Review\". IGN. Archived from the original on August 17, 2012. Retrieved September 22, 2016.\n",
      "http://tv.ign.com/articles/116/1160215p1.html\n",
      "\n",
      "---> Fleming, Michael (January 16, 2007). \"HBO turns Fire into fantasy series\". Variety. Archived from the original on May 16, 2012. Retrieved September 3, 2016.\n",
      "http://www.variety.com/article/VR1117957532.html?categoryid=14&cs=1\n",
      "\n",
      "---> \"Game of Thrones\". Emmys.com. Retrieved September 17, 2016.\n",
      "http://www.emmys.com/shows/game-thrones\n",
      "\n",
      "---> Roberts, Josh (April 1, 2012). \"Where HBO's hit 'Game of Thrones' was filmed\". USA Today. Archived from the original on April 1, 2012. Retrieved March 8, 2013.\n",
      "https://web.archive.org/web/20120401123724/http://travel.usatoday.com/destinations/story/2012-04-01/Where-the-HBO-hit-Game-of-Thrones-was-filmed/53876876/1\n",
      "\n"
     ]
    }
   ],
   "source": [
    "#zdaj to sestavimo v for zanko\n",
    "for citation in cites:\n",
    "    print('--->', citation.get_text())\n",
    "    print(citation.find('a').get('href'))\n",
    "    print()"
   ]
  },
  {
   "cell_type": "code",
   "execution_count": 50,
   "metadata": {},
   "outputs": [],
   "source": [
    "### Parsanje tabel"
   ]
  },
  {
   "cell_type": "code",
   "execution_count": 51,
   "metadata": {},
   "outputs": [
    {
     "data": {
      "text/plain": [
       "'\\n\\n\\n\\nList of Game of Thrones episodes - Wikipedia\\ndocument.documentElement.className=document.documentElement.className.replace(/(^|\\\\s)client-nojs(\\\\s|$)/,\"$1client-js$2\");RLCONF={\"wgCanonicalNamespace\":\"\",\"wgCanonicalSpecialPageName\":!1,\"wgNamespaceNumber\":0,\"wgPageName\":\"List_of_Game_of_Thrones_episodes\",\"wgTitle\":\"List of Game of Thrones episodes\",\"wgCurRevisionId\":898999050,\"wgRevisionId\":802553687,\"wgArticleId\":31120069,\"wgIsArticle\":!0,\"wgIsRedirect\":!1,\"wgAction\":\"view\",\"wgUserName\":null,\"wgUserGroups\":[\"*\"],\"wgCategories\":[\"Articles containing potentially dated statements from August 2017\",\"All articles containing potentially dated statements\",\"Official website not in Wikidata\",\"Featured lists\",\"Game of Thrones episodes\",\"Lists of American drama television series episodes\",\"Lists of fantasy television series episodes\"],\"wgBreakFrames\":!1,\"wgPageContentLanguage\":\"en\",\"wgPageContentModel\":\"wikitext\",\"wgSeparatorTransformTable\":[\"\",\"\"],\"wgDigitTransformTable\":[\"\",\"\"],\"wgDefaultDateF'"
      ]
     },
     "execution_count": 51,
     "metadata": {},
     "output_type": "execute_result"
    }
   ],
   "source": [
    "# na strani so tabele z epizodami. Vse te tabele bi dali v en sam pandas dataframe\n",
    "html_soup.text[:1000]"
   ]
  },
  {
   "cell_type": "code",
   "execution_count": 52,
   "metadata": {},
   "outputs": [],
   "source": [
    "# treba je najti neko lastnost, ki jo imajo samo tabele. To je npr. tag \"table\"\n",
    "# nato se moramo sprehoditi skozi vse tabele in znotraj tabel skozi vrstice in nato skozi celice\n",
    "episodes = []"
   ]
  },
  {
   "cell_type": "code",
   "execution_count": 53,
   "metadata": {},
   "outputs": [],
   "source": [
    "ep_tables = html_soup.find_all('table', class_=\"wikiepisodetable\")"
   ]
  },
  {
   "cell_type": "code",
   "execution_count": 54,
   "metadata": {},
   "outputs": [
    {
     "data": {
      "text/plain": [
       "7"
      ]
     },
     "execution_count": 54,
     "metadata": {},
     "output_type": "execute_result"
    }
   ],
   "source": [
    "len(ep_tables)"
   ]
  },
  {
   "cell_type": "code",
   "execution_count": 63,
   "metadata": {},
   "outputs": [],
   "source": [
    "for table in ep_tables[0]:\n",
    "    headers = []\n",
    "    rows = table.find_all('tr')\n",
    "    for header in table.find('tr').find_all('th'):\n",
    "        headers.append(header.text)\n",
    "    for row in rows[1:]:\n",
    "        values = []\n",
    "        for col in row.find_all(['th','td']):\n",
    "            values.append(col.text)\n",
    "        if values:\n",
    "            episode_dict = {headers[i]: values[i] for i in range(len(values))}\n",
    "            episodes.append(episode_dict)\n",
    "        "
   ]
  },
  {
   "cell_type": "code",
   "execution_count": 64,
   "metadata": {},
   "outputs": [
    {
     "data": {
      "text/plain": [
       "{'No.overall': '1',\n",
       " 'No. inseason': '1',\n",
       " 'Title': '\"Winter Is Coming\"',\n",
       " 'Directed by': 'Tim Van Patten',\n",
       " 'Written by': 'David Benioff & D. B. Weiss',\n",
       " 'Original air date': 'April\\xa017,\\xa02011\\xa0(2011-04-17)',\n",
       " 'U.S. viewers(millions)': '2.22[20]'}"
      ]
     },
     "execution_count": 64,
     "metadata": {},
     "output_type": "execute_result"
    }
   ],
   "source": [
    "episodes[0]"
   ]
  },
  {
   "cell_type": "code",
   "execution_count": 67,
   "metadata": {},
   "outputs": [
    {
     "name": "stdout",
     "output_type": "stream",
     "text": [
      "{'No.overall': '1', 'No. inseason': '1', 'Title': '\"Winter Is Coming\"', 'Directed by': 'Tim Van Patten', 'Written by': 'David Benioff & D. B. Weiss', 'Original air date': 'April\\xa017,\\xa02011\\xa0(2011-04-17)', 'U.S. viewers(millions)': '2.22[20]'}\n",
      "{'No.overall': '2', 'No. inseason': '2', 'Title': '\"The Kingsroad\"', 'Directed by': 'Tim Van Patten', 'Written by': 'David Benioff & D. B. Weiss', 'Original air date': 'April\\xa024,\\xa02011\\xa0(2011-04-24)', 'U.S. viewers(millions)': '2.20[21]'}\n",
      "{'No.overall': '3', 'No. inseason': '3', 'Title': '\"Lord Snow\"', 'Directed by': 'Brian Kirk', 'Written by': 'David Benioff & D. B. Weiss', 'Original air date': 'May\\xa01,\\xa02011\\xa0(2011-05-01)', 'U.S. viewers(millions)': '2.44[22]'}\n"
     ]
    }
   ],
   "source": [
    "for episode in episodes[:3]:\n",
    "    print(episode)"
   ]
  },
  {
   "cell_type": "code",
   "execution_count": 68,
   "metadata": {},
   "outputs": [
    {
     "data": {
      "text/html": [
       "<div>\n",
       "<style scoped>\n",
       "    .dataframe tbody tr th:only-of-type {\n",
       "        vertical-align: middle;\n",
       "    }\n",
       "\n",
       "    .dataframe tbody tr th {\n",
       "        vertical-align: top;\n",
       "    }\n",
       "\n",
       "    .dataframe thead th {\n",
       "        text-align: right;\n",
       "    }\n",
       "</style>\n",
       "<table border=\"1\" class=\"dataframe\">\n",
       "  <thead>\n",
       "    <tr style=\"text-align: right;\">\n",
       "      <th></th>\n",
       "      <th>Directed by</th>\n",
       "      <th>No. inseason</th>\n",
       "      <th>No.overall</th>\n",
       "      <th>Original air date</th>\n",
       "      <th>Title</th>\n",
       "      <th>U.S. viewers(millions)</th>\n",
       "      <th>Written by</th>\n",
       "    </tr>\n",
       "  </thead>\n",
       "  <tbody>\n",
       "    <tr>\n",
       "      <th>0</th>\n",
       "      <td>Tim Van Patten</td>\n",
       "      <td>1</td>\n",
       "      <td>1</td>\n",
       "      <td>April 17, 2011 (2011-04-17)</td>\n",
       "      <td>\"Winter Is Coming\"</td>\n",
       "      <td>2.22[20]</td>\n",
       "      <td>David Benioff &amp; D. B. Weiss</td>\n",
       "    </tr>\n",
       "    <tr>\n",
       "      <th>1</th>\n",
       "      <td>Tim Van Patten</td>\n",
       "      <td>2</td>\n",
       "      <td>2</td>\n",
       "      <td>April 24, 2011 (2011-04-24)</td>\n",
       "      <td>\"The Kingsroad\"</td>\n",
       "      <td>2.20[21]</td>\n",
       "      <td>David Benioff &amp; D. B. Weiss</td>\n",
       "    </tr>\n",
       "    <tr>\n",
       "      <th>2</th>\n",
       "      <td>Brian Kirk</td>\n",
       "      <td>3</td>\n",
       "      <td>3</td>\n",
       "      <td>May 1, 2011 (2011-05-01)</td>\n",
       "      <td>\"Lord Snow\"</td>\n",
       "      <td>2.44[22]</td>\n",
       "      <td>David Benioff &amp; D. B. Weiss</td>\n",
       "    </tr>\n",
       "    <tr>\n",
       "      <th>3</th>\n",
       "      <td>Brian Kirk</td>\n",
       "      <td>4</td>\n",
       "      <td>4</td>\n",
       "      <td>May 8, 2011 (2011-05-08)</td>\n",
       "      <td>\"Cripples, Bastards, and Broken Things\"</td>\n",
       "      <td>2.45[23]</td>\n",
       "      <td>Bryan Cogman</td>\n",
       "    </tr>\n",
       "    <tr>\n",
       "      <th>4</th>\n",
       "      <td>Brian Kirk</td>\n",
       "      <td>5</td>\n",
       "      <td>5</td>\n",
       "      <td>May 15, 2011 (2011-05-15)</td>\n",
       "      <td>\"The Wolf and the Lion\"</td>\n",
       "      <td>2.58[24]</td>\n",
       "      <td>David Benioff &amp; D. B. Weiss</td>\n",
       "    </tr>\n",
       "    <tr>\n",
       "      <th>5</th>\n",
       "      <td>Daniel Minahan</td>\n",
       "      <td>6</td>\n",
       "      <td>6</td>\n",
       "      <td>May 22, 2011 (2011-05-22)</td>\n",
       "      <td>\"A Golden Crown\"</td>\n",
       "      <td>2.44[25]</td>\n",
       "      <td>Story by : David Benioff &amp; D. B. Weiss Telepla...</td>\n",
       "    </tr>\n",
       "    <tr>\n",
       "      <th>6</th>\n",
       "      <td>Daniel Minahan</td>\n",
       "      <td>7</td>\n",
       "      <td>7</td>\n",
       "      <td>May 29, 2011 (2011-05-29)</td>\n",
       "      <td>\"You Win or You Die\"</td>\n",
       "      <td>2.40[26]</td>\n",
       "      <td>David Benioff &amp; D. B. Weiss</td>\n",
       "    </tr>\n",
       "    <tr>\n",
       "      <th>7</th>\n",
       "      <td>Daniel Minahan</td>\n",
       "      <td>8</td>\n",
       "      <td>8</td>\n",
       "      <td>June 5, 2011 (2011-06-05)</td>\n",
       "      <td>\"The Pointy End\"</td>\n",
       "      <td>2.72[27]</td>\n",
       "      <td>George R. R. Martin</td>\n",
       "    </tr>\n",
       "    <tr>\n",
       "      <th>8</th>\n",
       "      <td>Alan Taylor</td>\n",
       "      <td>9</td>\n",
       "      <td>9</td>\n",
       "      <td>June 12, 2011 (2011-06-12)</td>\n",
       "      <td>\"Baelor\"</td>\n",
       "      <td>2.66[28]</td>\n",
       "      <td>David Benioff &amp; D. B. Weiss</td>\n",
       "    </tr>\n",
       "    <tr>\n",
       "      <th>9</th>\n",
       "      <td>Alan Taylor</td>\n",
       "      <td>10</td>\n",
       "      <td>10</td>\n",
       "      <td>June 19, 2011 (2011-06-19)</td>\n",
       "      <td>\"Fire and Blood\"</td>\n",
       "      <td>3.04[29]</td>\n",
       "      <td>David Benioff &amp; D. B. Weiss</td>\n",
       "    </tr>\n",
       "  </tbody>\n",
       "</table>\n",
       "</div>"
      ],
      "text/plain": [
       "      Directed by No. inseason No.overall            Original air date  \\\n",
       "0  Tim Van Patten            1          1  April 17, 2011 (2011-04-17)   \n",
       "1  Tim Van Patten            2          2  April 24, 2011 (2011-04-24)   \n",
       "2      Brian Kirk            3          3     May 1, 2011 (2011-05-01)   \n",
       "3      Brian Kirk            4          4     May 8, 2011 (2011-05-08)   \n",
       "4      Brian Kirk            5          5    May 15, 2011 (2011-05-15)   \n",
       "5  Daniel Minahan            6          6    May 22, 2011 (2011-05-22)   \n",
       "6  Daniel Minahan            7          7    May 29, 2011 (2011-05-29)   \n",
       "7  Daniel Minahan            8          8    June 5, 2011 (2011-06-05)   \n",
       "8     Alan Taylor            9          9   June 12, 2011 (2011-06-12)   \n",
       "9     Alan Taylor           10         10   June 19, 2011 (2011-06-19)   \n",
       "\n",
       "                                     Title U.S. viewers(millions)  \\\n",
       "0                       \"Winter Is Coming\"               2.22[20]   \n",
       "1                          \"The Kingsroad\"               2.20[21]   \n",
       "2                              \"Lord Snow\"               2.44[22]   \n",
       "3  \"Cripples, Bastards, and Broken Things\"               2.45[23]   \n",
       "4                  \"The Wolf and the Lion\"               2.58[24]   \n",
       "5                         \"A Golden Crown\"               2.44[25]   \n",
       "6                     \"You Win or You Die\"               2.40[26]   \n",
       "7                         \"The Pointy End\"               2.72[27]   \n",
       "8                                 \"Baelor\"               2.66[28]   \n",
       "9                         \"Fire and Blood\"               3.04[29]   \n",
       "\n",
       "                                          Written by  \n",
       "0                        David Benioff & D. B. Weiss  \n",
       "1                        David Benioff & D. B. Weiss  \n",
       "2                        David Benioff & D. B. Weiss  \n",
       "3                                       Bryan Cogman  \n",
       "4                        David Benioff & D. B. Weiss  \n",
       "5  Story by : David Benioff & D. B. Weiss Telepla...  \n",
       "6                        David Benioff & D. B. Weiss  \n",
       "7                                George R. R. Martin  \n",
       "8                        David Benioff & D. B. Weiss  \n",
       "9                        David Benioff & D. B. Weiss  "
      ]
     },
     "execution_count": 68,
     "metadata": {},
     "output_type": "execute_result"
    }
   ],
   "source": [
    "pd.DataFrame(episodes)"
   ]
  },
  {
   "cell_type": "code",
   "execution_count": 69,
   "metadata": {},
   "outputs": [],
   "source": [
    "# ni preveč dela, ampak še vedno se ne splača vedno\n",
    "# kdaj imajo spletne strani že narejen izvoz tabel v obliki csv\n",
    "# ročno parsamo takrat, ko ne gre drugače\n",
    "# "
   ]
  },
  {
   "cell_type": "markdown",
   "metadata": {},
   "source": [
    "## Web APIs"
   ]
  },
  {
   "cell_type": "markdown",
   "metadata": {},
   "source": [
    "### Primer uporabe APIja"
   ]
  },
  {
   "cell_type": "markdown",
   "metadata": {},
   "source": [
    "https://github.com/HackerNews/API"
   ]
  },
  {
   "cell_type": "code",
   "execution_count": 70,
   "metadata": {},
   "outputs": [],
   "source": [
    "# če obstaja API, uporabimo kar to\n",
    "# velikokrat so API-ji plačljivi\n",
    "# včasih ima brezplačna verzija API-ja manj podatkov od plačljive\n"
   ]
  },
  {
   "cell_type": "code",
   "execution_count": 71,
   "metadata": {},
   "outputs": [],
   "source": [
    "articles = []"
   ]
  },
  {
   "cell_type": "code",
   "execution_count": 73,
   "metadata": {},
   "outputs": [],
   "source": [
    "#osnovni del URL-ja, brez dodatnih parametrov. Te dodajamo naknadno\n",
    "url = 'https://hacker-news.firebaseio.com/v0'"
   ]
  },
  {
   "cell_type": "code",
   "execution_count": 76,
   "metadata": {},
   "outputs": [],
   "source": [
    "# top stories\n",
    "top_stories = requests.get(url + '//topstories.json')"
   ]
  },
  {
   "cell_type": "code",
   "execution_count": 78,
   "metadata": {},
   "outputs": [
    {
     "data": {
      "text/plain": [
       "'[20019647,20019874,20019206,20019877,20021568,20019975,20014281,20022186,20020282,20021289,20022086,20019355,20020644,20021615,20014303,20020837,20014330,20015581,20021521,20014694,20014230,20014372,20012499,20017854,20019258,20015968,20020095,20014426,20018535,20012953,20015109,20017506,20021159,20013533,20008694,20017646,20011937,20012231,20016964,20016177,20014030,20017593,20016848,20014002,20016982,20015775,20017373,20016138,20014691,20009825,20016264,20015633,20010510,20012687,20014388,20010881,20011521,20018934,20016340,20016728,20008908,20008943,20017104,20013716,20016181,20014184,20017448,20016997,20013616,20015944,20019487,20017493,20014233,20016986,20008466,20016700,20020542,20007077,20015760,20017595,20016126,20003892,20013598,20007638,20013662,20013732,20009017,19998806,20021999,20010812,20013588,20017061,19997813,20015638,20013720,20020210,20007752,20013751,20009037,20014204,20008230,20015406,20017449,20001151,20012977,20011768,20013486,20015724,20016972,20018661,20006162,20020342,20004127,20015386,20011252,20007813,20011967,20006525,20000496,20014348,20014349,20010004,20013804,20012338,20012612,20010906,20014490,20013512,20019352,20017267,20014962,20012057,20009838,20007602,20006850,20010155,20016256,20013485,20015906,20011488,20008261,20014590,20000380,20008257,20008576,20014022,20001175,20019194,20005315,20000649,20005230,20009534,20008709,20015203,20010178,20003661,20000462,20012869,20020329,20016361,20018487,20001570,20013785,20004866,20008918,20010466,20006324,20010643,20012730,20007630,20003391,20001284,19999583,20003340,20003232,20014206,20011860,20018079,19997188,20016637,19998024,20004738,20004839,20007980,20004634,20014274,20006966,20000087,19999124,20006338,20000116,20016131,19999739,20016740,20002360,20001580,20017407,20016601,20008896,20013443,20000318,20009103,19998004,20005939,20017409,20001559,20000305,20000498,20017894,20000178,20020997,20000235,20008396,20013436,20006010,20016496,20011558,20000100,20001383,20004761,19999554,20006785,20014257,19998645,20018344,20012392,19998710,20004224,20004704,20011544,20003907,20018220,20016310,20006062,20003290,20001339,20001026,19997366,19997008,20017896,19997070,20009413,19996866,20011978,19997251,20009111,19999045,20007628,20008313,20000547,20003367,20011466,20008181,20007557,20013322,20015785,19997843,20005028,20010803,20000109,20004809,20000151,20016937,19997971,19997399,20005229,20016396,20000034,20005008,20010680,20002244,20007643,20006476,20009447,20005365,20011843,20000019,20010701,20007108,20007908,19997838,20007484,20014229,20012120,20008347,20017723,20017656,20012614,20009501,20018394,20007728,20006827,20006139,20013320,20010437,20006208,20000169,20002780,20013181,20007726,19998231,20012000,20013016,20005966,20005617,20001919,19999818,20006378,20002648,19999927,19998134,20002490,19997387,20008488,20001183,19998064,20001322,20004547,20005931,20009800,20001586,20008220,20013601,19998722,20007763,20002220,20015620,20001609,20016942,19997915,20010825,20008848,20016457,20001560,20007574,20003933,20010459,19998518,20002637,20012362,20003695,19997378,20012058,19997504,20000082,20015037,20011281,20008418,20008362,20007496,20002463,20016620,20006887,20003332,20010662,20008037,19997905,20003952,19999859,20005841,20010490,20005219,20008094,20000074,20008746,19998142,20010062,20003362,19997256,20008950,19998987,20001348,19998237,20009741,20002881,20007667,20007612,20003858,19999993,19999977,20007420,20003855,19998984,20007072,19998819,19998770,20006749,20010467,19997590,20006391,20006267,19998302,20007313,19996958,20007599,19996769,20005518,20006866,20004571,20004040,20007767,19997704,19997682,20003454,20001695,19996795,19996787,20006459,20000432,20010162,19999191,19998924,20012661,20006782,19997017,20000802,20003702,20010932,20002753,20011176,20019532,20013431,20009397,20017492,20001179,20010463,20000628,20022168,20007055,20003138,20004013]'"
      ]
     },
     "execution_count": 78,
     "metadata": {},
     "output_type": "execute_result"
    }
   ],
   "source": [
    "# dobili smo ID-je top zgodb (kot tudi piše v dokumentaciji na zgornjem linku)\n",
    "top_stories.text"
   ]
  },
  {
   "cell_type": "code",
   "execution_count": 79,
   "metadata": {},
   "outputs": [],
   "source": [
    "# request v json formatu\n",
    "top_stories = top_stories.json()"
   ]
  },
  {
   "cell_type": "code",
   "execution_count": 80,
   "metadata": {},
   "outputs": [],
   "source": [
    "# prenesli bi si prvih 5 zgodb (od prvih 5 ID-jev)"
   ]
  },
  {
   "cell_type": "code",
   "execution_count": 82,
   "metadata": {},
   "outputs": [],
   "source": [
    "for story_id in top_stories[:5]:\n",
    "    r = requests.get(url + f'/item/{story_id}.json')\n",
    "    story_dict = r.json()\n",
    "    articles.append(story_dict)"
   ]
  },
  {
   "cell_type": "code",
   "execution_count": 83,
   "metadata": {},
   "outputs": [
    {
     "data": {
      "text/plain": [
       "{'by': 'ChuckMcM',\n",
       " 'descendants': 107,\n",
       " 'id': 20019647,\n",
       " 'kids': [20019656,\n",
       "  20021798,\n",
       "  20019813,\n",
       "  20021427,\n",
       "  20020785,\n",
       "  20020158,\n",
       "  20020261,\n",
       "  20020167,\n",
       "  20019727,\n",
       "  20021141,\n",
       "  20019699],\n",
       " 'score': 224,\n",
       " 'time': 1558934592,\n",
       " 'title': 'Arm announces its new premium CPU and GPU designs',\n",
       " 'type': 'story',\n",
       " 'url': 'https://techcrunch.com/2019/05/26/arm-announces-its-new-premium-cpu-and-gpu-designs/'}"
      ]
     },
     "execution_count": 83,
     "metadata": {},
     "output_type": "execute_result"
    }
   ],
   "source": [
    "articles[0]"
   ]
  },
  {
   "cell_type": "code",
   "execution_count": 84,
   "metadata": {},
   "outputs": [
    {
     "data": {
      "text/plain": [
       "'On SQS'"
      ]
     },
     "execution_count": 84,
     "metadata": {},
     "output_type": "execute_result"
    }
   ],
   "source": [
    "articles[1]['title']"
   ]
  },
  {
   "cell_type": "code",
   "execution_count": 86,
   "metadata": {},
   "outputs": [
    {
     "name": "stdout",
     "output_type": "stream",
     "text": [
      "Arm announces its new premium CPU and GPU designs\n",
      "On SQS\n",
      "AMD Ryzen 3000 announced\n",
      "Show HN: Interactively select the quality and format for youtube-dl\n",
      "Chinese developers fear the tech war will cost them access to GitHub\n"
     ]
    }
   ],
   "source": [
    "for article in articles:\n",
    "    print(article['title'])"
   ]
  },
  {
   "cell_type": "code",
   "execution_count": null,
   "metadata": {},
   "outputs": [],
   "source": []
  },
  {
   "cell_type": "code",
   "execution_count": null,
   "metadata": {},
   "outputs": [],
   "source": []
  },
  {
   "cell_type": "code",
   "execution_count": null,
   "metadata": {},
   "outputs": [],
   "source": []
  },
  {
   "cell_type": "markdown",
   "metadata": {},
   "source": [
    "### Import data from web - pandas"
   ]
  },
  {
   "cell_type": "markdown",
   "metadata": {},
   "source": [
    "##### [Odprti podatki Slovenije](https://podatki.gov.si/)\n",
    "\n",
    "\n",
    "Na portalu OPSI boste našli vse od podatkov, orodij, do koristnih virov, s katerimi boste lahko razvijali spletne in mobilne aplikacije, oblikovali lastne infografike in drugo"
   ]
  },
  {
   "cell_type": "markdown",
   "metadata": {},
   "source": [
    "Primer: https://support.spatialkey.com/spatialkey-sample-csv-data/"
   ]
  },
  {
   "cell_type": "code",
   "execution_count": 87,
   "metadata": {},
   "outputs": [],
   "source": [
    "# csv z interneta direktno uvozimo v dataframe\n",
    "data = pd.read_csv('http://samplecsvs.s3.amazonaws.com/Sacramentorealestatetransactions.csv')"
   ]
  },
  {
   "cell_type": "code",
   "execution_count": 88,
   "metadata": {},
   "outputs": [
    {
     "data": {
      "text/html": [
       "<div>\n",
       "<style scoped>\n",
       "    .dataframe tbody tr th:only-of-type {\n",
       "        vertical-align: middle;\n",
       "    }\n",
       "\n",
       "    .dataframe tbody tr th {\n",
       "        vertical-align: top;\n",
       "    }\n",
       "\n",
       "    .dataframe thead th {\n",
       "        text-align: right;\n",
       "    }\n",
       "</style>\n",
       "<table border=\"1\" class=\"dataframe\">\n",
       "  <thead>\n",
       "    <tr style=\"text-align: right;\">\n",
       "      <th></th>\n",
       "      <th>street</th>\n",
       "      <th>city</th>\n",
       "      <th>zip</th>\n",
       "      <th>state</th>\n",
       "      <th>beds</th>\n",
       "      <th>baths</th>\n",
       "      <th>sq__ft</th>\n",
       "      <th>type</th>\n",
       "      <th>sale_date</th>\n",
       "      <th>price</th>\n",
       "      <th>latitude</th>\n",
       "      <th>longitude</th>\n",
       "    </tr>\n",
       "  </thead>\n",
       "  <tbody>\n",
       "    <tr>\n",
       "      <th>0</th>\n",
       "      <td>3526 HIGH ST</td>\n",
       "      <td>SACRAMENTO</td>\n",
       "      <td>95838</td>\n",
       "      <td>CA</td>\n",
       "      <td>2</td>\n",
       "      <td>1</td>\n",
       "      <td>836</td>\n",
       "      <td>Residential</td>\n",
       "      <td>Wed May 21 00:00:00 EDT 2008</td>\n",
       "      <td>59222</td>\n",
       "      <td>38.631913</td>\n",
       "      <td>-121.434879</td>\n",
       "    </tr>\n",
       "    <tr>\n",
       "      <th>1</th>\n",
       "      <td>51 OMAHA CT</td>\n",
       "      <td>SACRAMENTO</td>\n",
       "      <td>95823</td>\n",
       "      <td>CA</td>\n",
       "      <td>3</td>\n",
       "      <td>1</td>\n",
       "      <td>1167</td>\n",
       "      <td>Residential</td>\n",
       "      <td>Wed May 21 00:00:00 EDT 2008</td>\n",
       "      <td>68212</td>\n",
       "      <td>38.478902</td>\n",
       "      <td>-121.431028</td>\n",
       "    </tr>\n",
       "    <tr>\n",
       "      <th>2</th>\n",
       "      <td>2796 BRANCH ST</td>\n",
       "      <td>SACRAMENTO</td>\n",
       "      <td>95815</td>\n",
       "      <td>CA</td>\n",
       "      <td>2</td>\n",
       "      <td>1</td>\n",
       "      <td>796</td>\n",
       "      <td>Residential</td>\n",
       "      <td>Wed May 21 00:00:00 EDT 2008</td>\n",
       "      <td>68880</td>\n",
       "      <td>38.618305</td>\n",
       "      <td>-121.443839</td>\n",
       "    </tr>\n",
       "    <tr>\n",
       "      <th>3</th>\n",
       "      <td>2805 JANETTE WAY</td>\n",
       "      <td>SACRAMENTO</td>\n",
       "      <td>95815</td>\n",
       "      <td>CA</td>\n",
       "      <td>2</td>\n",
       "      <td>1</td>\n",
       "      <td>852</td>\n",
       "      <td>Residential</td>\n",
       "      <td>Wed May 21 00:00:00 EDT 2008</td>\n",
       "      <td>69307</td>\n",
       "      <td>38.616835</td>\n",
       "      <td>-121.439146</td>\n",
       "    </tr>\n",
       "    <tr>\n",
       "      <th>4</th>\n",
       "      <td>6001 MCMAHON DR</td>\n",
       "      <td>SACRAMENTO</td>\n",
       "      <td>95824</td>\n",
       "      <td>CA</td>\n",
       "      <td>2</td>\n",
       "      <td>1</td>\n",
       "      <td>797</td>\n",
       "      <td>Residential</td>\n",
       "      <td>Wed May 21 00:00:00 EDT 2008</td>\n",
       "      <td>81900</td>\n",
       "      <td>38.519470</td>\n",
       "      <td>-121.435768</td>\n",
       "    </tr>\n",
       "  </tbody>\n",
       "</table>\n",
       "</div>"
      ],
      "text/plain": [
       "             street        city    zip state  beds  baths  sq__ft  \\\n",
       "0      3526 HIGH ST  SACRAMENTO  95838    CA     2      1     836   \n",
       "1       51 OMAHA CT  SACRAMENTO  95823    CA     3      1    1167   \n",
       "2    2796 BRANCH ST  SACRAMENTO  95815    CA     2      1     796   \n",
       "3  2805 JANETTE WAY  SACRAMENTO  95815    CA     2      1     852   \n",
       "4   6001 MCMAHON DR  SACRAMENTO  95824    CA     2      1     797   \n",
       "\n",
       "          type                     sale_date  price   latitude   longitude  \n",
       "0  Residential  Wed May 21 00:00:00 EDT 2008  59222  38.631913 -121.434879  \n",
       "1  Residential  Wed May 21 00:00:00 EDT 2008  68212  38.478902 -121.431028  \n",
       "2  Residential  Wed May 21 00:00:00 EDT 2008  68880  38.618305 -121.443839  \n",
       "3  Residential  Wed May 21 00:00:00 EDT 2008  69307  38.616835 -121.439146  \n",
       "4  Residential  Wed May 21 00:00:00 EDT 2008  81900  38.519470 -121.435768  "
      ]
     },
     "execution_count": 88,
     "metadata": {},
     "output_type": "execute_result"
    }
   ],
   "source": [
    "data.head()"
   ]
  },
  {
   "cell_type": "markdown",
   "metadata": {},
   "source": [
    "## Web Scraping using pandas"
   ]
  },
  {
   "cell_type": "markdown",
   "metadata": {},
   "source": [
    "> Spletna stran: https://www.fdic.gov/bank/individual/failed/banklist.html"
   ]
  },
  {
   "cell_type": "markdown",
   "metadata": {},
   "source": [
    "`pandas.read_html: ` Read HTML tables into a list of DataFrame objects. -> [Dokumentacija](https://pandas.pydata.org/pandas-docs/version/0.23.4/generated/pandas.read_html.html)\n",
    "\n"
   ]
  },
  {
   "cell_type": "code",
   "execution_count": 89,
   "metadata": {},
   "outputs": [],
   "source": [
    "# read_html je zelo močna funkcija od pandasa. Preparsa tabelo iz html strani\n",
    "tables = pd.read_html('https://www.fdic.gov/bank/individual/failed/banklist.html')"
   ]
  },
  {
   "cell_type": "code",
   "execution_count": 95,
   "metadata": {},
   "outputs": [
    {
     "data": {
      "text/plain": [
       "1"
      ]
     },
     "execution_count": 95,
     "metadata": {},
     "output_type": "execute_result"
    }
   ],
   "source": [
    "#tables je kar seznam tabel\n",
    "len(tables)"
   ]
  },
  {
   "cell_type": "code",
   "execution_count": 96,
   "metadata": {},
   "outputs": [],
   "source": [
    "banks = tables[0]"
   ]
  },
  {
   "cell_type": "code",
   "execution_count": 98,
   "metadata": {},
   "outputs": [
    {
     "data": {
      "text/html": [
       "<div>\n",
       "<style scoped>\n",
       "    .dataframe tbody tr th:only-of-type {\n",
       "        vertical-align: middle;\n",
       "    }\n",
       "\n",
       "    .dataframe tbody tr th {\n",
       "        vertical-align: top;\n",
       "    }\n",
       "\n",
       "    .dataframe thead th {\n",
       "        text-align: right;\n",
       "    }\n",
       "</style>\n",
       "<table border=\"1\" class=\"dataframe\">\n",
       "  <thead>\n",
       "    <tr style=\"text-align: right;\">\n",
       "      <th></th>\n",
       "      <th>Bank Name</th>\n",
       "      <th>City</th>\n",
       "      <th>ST</th>\n",
       "      <th>CERT</th>\n",
       "      <th>Acquiring Institution</th>\n",
       "      <th>Closing Date</th>\n",
       "      <th>Updated Date</th>\n",
       "    </tr>\n",
       "  </thead>\n",
       "  <tbody>\n",
       "    <tr>\n",
       "      <th>0</th>\n",
       "      <td>Washington Federal Bank for Savings</td>\n",
       "      <td>Chicago</td>\n",
       "      <td>IL</td>\n",
       "      <td>30570</td>\n",
       "      <td>Royal Savings Bank</td>\n",
       "      <td>December 15, 2017</td>\n",
       "      <td>February 1, 2019</td>\n",
       "    </tr>\n",
       "    <tr>\n",
       "      <th>1</th>\n",
       "      <td>The Farmers and Merchants State Bank of Argonia</td>\n",
       "      <td>Argonia</td>\n",
       "      <td>KS</td>\n",
       "      <td>17719</td>\n",
       "      <td>Conway Bank</td>\n",
       "      <td>October 13, 2017</td>\n",
       "      <td>February 21, 2018</td>\n",
       "    </tr>\n",
       "    <tr>\n",
       "      <th>2</th>\n",
       "      <td>Fayette County Bank</td>\n",
       "      <td>Saint Elmo</td>\n",
       "      <td>IL</td>\n",
       "      <td>1802</td>\n",
       "      <td>United Fidelity Bank, fsb</td>\n",
       "      <td>May 26, 2017</td>\n",
       "      <td>January 29, 2019</td>\n",
       "    </tr>\n",
       "    <tr>\n",
       "      <th>3</th>\n",
       "      <td>Guaranty Bank, (d/b/a BestBank in Georgia &amp; Mi...</td>\n",
       "      <td>Milwaukee</td>\n",
       "      <td>WI</td>\n",
       "      <td>30003</td>\n",
       "      <td>First-Citizens Bank &amp; Trust Company</td>\n",
       "      <td>May 5, 2017</td>\n",
       "      <td>March 22, 2018</td>\n",
       "    </tr>\n",
       "    <tr>\n",
       "      <th>4</th>\n",
       "      <td>First NBC Bank</td>\n",
       "      <td>New Orleans</td>\n",
       "      <td>LA</td>\n",
       "      <td>58302</td>\n",
       "      <td>Whitney Bank</td>\n",
       "      <td>April 28, 2017</td>\n",
       "      <td>January 29, 2019</td>\n",
       "    </tr>\n",
       "  </tbody>\n",
       "</table>\n",
       "</div>"
      ],
      "text/plain": [
       "                                           Bank Name         City  ST   CERT  \\\n",
       "0                Washington Federal Bank for Savings      Chicago  IL  30570   \n",
       "1    The Farmers and Merchants State Bank of Argonia      Argonia  KS  17719   \n",
       "2                                Fayette County Bank   Saint Elmo  IL   1802   \n",
       "3  Guaranty Bank, (d/b/a BestBank in Georgia & Mi...    Milwaukee  WI  30003   \n",
       "4                                     First NBC Bank  New Orleans  LA  58302   \n",
       "\n",
       "                 Acquiring Institution       Closing Date       Updated Date  \n",
       "0                   Royal Savings Bank  December 15, 2017   February 1, 2019  \n",
       "1                          Conway Bank   October 13, 2017  February 21, 2018  \n",
       "2            United Fidelity Bank, fsb       May 26, 2017   January 29, 2019  \n",
       "3  First-Citizens Bank & Trust Company        May 5, 2017     March 22, 2018  \n",
       "4                         Whitney Bank     April 28, 2017   January 29, 2019  "
      ]
     },
     "execution_count": 98,
     "metadata": {},
     "output_type": "execute_result"
    }
   ],
   "source": [
    "#c pandas je celo upošteval paginacijo na tabeli in jo je celo uvozil\n",
    "banks.head()"
   ]
  },
  {
   "cell_type": "code",
   "execution_count": 101,
   "metadata": {},
   "outputs": [],
   "source": [
    "close_timestamps = pd.to_datetime(banks['Closing Date'])"
   ]
  },
  {
   "cell_type": "code",
   "execution_count": 102,
   "metadata": {},
   "outputs": [
    {
     "data": {
      "text/plain": [
       "2010    157\n",
       "2009    140\n",
       "2011     92\n",
       "2012     51\n",
       "2008     25\n",
       "2013     24\n",
       "2014     18\n",
       "2002     11\n",
       "2017      8\n",
       "2015      8\n",
       "2016      5\n",
       "2004      4\n",
       "2001      4\n",
       "2007      3\n",
       "2003      3\n",
       "2000      2\n",
       "Name: Closing Date, dtype: int64"
      ]
     },
     "execution_count": 102,
     "metadata": {},
     "output_type": "execute_result"
    }
   ],
   "source": [
    "close_timestamps.dt.year.value_counts()"
   ]
  },
  {
   "cell_type": "markdown",
   "metadata": {},
   "source": [
    "## Primeri"
   ]
  },
  {
   "cell_type": "markdown",
   "metadata": {},
   "source": [
    "### Scraping and Visualizing IMDB Ratings"
   ]
  },
  {
   "cell_type": "markdown",
   "metadata": {},
   "source": [
    "Stran: http://www.imdb.com/title/tt0944947/episodes"
   ]
  },
  {
   "cell_type": "code",
   "execution_count": 103,
   "metadata": {},
   "outputs": [],
   "source": [
    "import requests\n",
    "from bs4 import BeautifulSoup\n",
    "url = 'http://www.imdb.com/title/tt0944947/episodes'"
   ]
  },
  {
   "cell_type": "code",
   "execution_count": 104,
   "metadata": {},
   "outputs": [],
   "source": [
    "# zanima nas število zvezdic za vse epizode v vseh sezonah"
   ]
  },
  {
   "cell_type": "code",
   "execution_count": 106,
   "metadata": {},
   "outputs": [],
   "source": [
    "episodes = []\n",
    "rankings = []"
   ]
  },
  {
   "cell_type": "code",
   "execution_count": 113,
   "metadata": {},
   "outputs": [
    {
     "name": "stdout",
     "output_type": "stream",
     "text": [
      "1.1 <span class=\"ipl-rating-star__rating\">9.1</span>\n",
      "-----------------\n",
      "1.2 <span class=\"ipl-rating-star__rating\">8.8</span>\n",
      "-----------------\n",
      "1.3 <span class=\"ipl-rating-star__rating\">8.7</span>\n",
      "-----------------\n",
      "1.4 <span class=\"ipl-rating-star__rating\">8.8</span>\n",
      "-----------------\n",
      "1.5 <span class=\"ipl-rating-star__rating\">9.1</span>\n",
      "-----------------\n",
      "1.6 <span class=\"ipl-rating-star__rating\">9.2</span>\n",
      "-----------------\n",
      "1.7 <span class=\"ipl-rating-star__rating\">9.3</span>\n",
      "-----------------\n",
      "1.8 <span class=\"ipl-rating-star__rating\">9.1</span>\n",
      "-----------------\n",
      "1.9 <span class=\"ipl-rating-star__rating\">9.6</span>\n",
      "-----------------\n",
      "1.10 <span class=\"ipl-rating-star__rating\">9.5</span>\n",
      "-----------------\n",
      "2.1 <span class=\"ipl-rating-star__rating\">8.9</span>\n",
      "-----------------\n",
      "2.2 <span class=\"ipl-rating-star__rating\">8.6</span>\n",
      "-----------------\n",
      "2.3 <span class=\"ipl-rating-star__rating\">8.9</span>\n",
      "-----------------\n",
      "2.4 <span class=\"ipl-rating-star__rating\">8.9</span>\n",
      "-----------------\n",
      "2.5 <span class=\"ipl-rating-star__rating\">8.9</span>\n",
      "-----------------\n",
      "2.6 <span class=\"ipl-rating-star__rating\">9.1</span>\n",
      "-----------------\n",
      "2.7 <span class=\"ipl-rating-star__rating\">9.0</span>\n",
      "-----------------\n",
      "2.8 <span class=\"ipl-rating-star__rating\">8.9</span>\n",
      "-----------------\n",
      "2.9 <span class=\"ipl-rating-star__rating\">9.7</span>\n",
      "-----------------\n",
      "2.10 <span class=\"ipl-rating-star__rating\">9.5</span>\n",
      "-----------------\n",
      "3.1 <span class=\"ipl-rating-star__rating\">8.9</span>\n",
      "-----------------\n",
      "3.2 <span class=\"ipl-rating-star__rating\">8.7</span>\n",
      "-----------------\n",
      "3.3 <span class=\"ipl-rating-star__rating\">8.9</span>\n",
      "-----------------\n",
      "3.4 <span class=\"ipl-rating-star__rating\">9.6</span>\n",
      "-----------------\n",
      "3.5 <span class=\"ipl-rating-star__rating\">9.1</span>\n",
      "-----------------\n",
      "3.6 <span class=\"ipl-rating-star__rating\">8.9</span>\n",
      "-----------------\n",
      "3.7 <span class=\"ipl-rating-star__rating\">8.8</span>\n",
      "-----------------\n",
      "3.8 <span class=\"ipl-rating-star__rating\">9.1</span>\n",
      "-----------------\n",
      "3.9 <span class=\"ipl-rating-star__rating\">9.9</span>\n",
      "-----------------\n",
      "3.10 <span class=\"ipl-rating-star__rating\">9.2</span>\n",
      "-----------------\n",
      "4.1 <span class=\"ipl-rating-star__rating\">9.1</span>\n",
      "-----------------\n",
      "4.2 <span class=\"ipl-rating-star__rating\">9.7</span>\n",
      "-----------------\n",
      "4.3 <span class=\"ipl-rating-star__rating\">8.9</span>\n",
      "-----------------\n",
      "4.4 <span class=\"ipl-rating-star__rating\">8.9</span>\n",
      "-----------------\n",
      "4.5 <span class=\"ipl-rating-star__rating\">8.8</span>\n",
      "-----------------\n",
      "4.6 <span class=\"ipl-rating-star__rating\">9.7</span>\n",
      "-----------------\n",
      "4.7 <span class=\"ipl-rating-star__rating\">9.2</span>\n",
      "-----------------\n",
      "4.8 <span class=\"ipl-rating-star__rating\">9.7</span>\n",
      "-----------------\n",
      "4.9 <span class=\"ipl-rating-star__rating\">9.6</span>\n",
      "-----------------\n",
      "4.10 <span class=\"ipl-rating-star__rating\">9.7</span>\n",
      "-----------------\n",
      "5.1 <span class=\"ipl-rating-star__rating\">8.6</span>\n",
      "-----------------\n",
      "5.2 <span class=\"ipl-rating-star__rating\">8.6</span>\n",
      "-----------------\n",
      "5.3 <span class=\"ipl-rating-star__rating\">8.6</span>\n",
      "-----------------\n",
      "5.4 <span class=\"ipl-rating-star__rating\">8.8</span>\n",
      "-----------------\n",
      "5.5 <span class=\"ipl-rating-star__rating\">8.7</span>\n",
      "-----------------\n",
      "5.6 <span class=\"ipl-rating-star__rating\">8.1</span>\n",
      "-----------------\n",
      "5.7 <span class=\"ipl-rating-star__rating\">9.1</span>\n",
      "-----------------\n",
      "5.8 <span class=\"ipl-rating-star__rating\">9.9</span>\n",
      "-----------------\n",
      "5.9 <span class=\"ipl-rating-star__rating\">9.5</span>\n",
      "-----------------\n",
      "5.10 <span class=\"ipl-rating-star__rating\">9.1</span>\n",
      "-----------------\n",
      "6.1 <span class=\"ipl-rating-star__rating\">8.6</span>\n",
      "-----------------\n",
      "6.2 <span class=\"ipl-rating-star__rating\">9.4</span>\n",
      "-----------------\n",
      "6.3 <span class=\"ipl-rating-star__rating\">8.8</span>\n",
      "-----------------\n",
      "6.4 <span class=\"ipl-rating-star__rating\">9.2</span>\n",
      "-----------------\n",
      "6.5 <span class=\"ipl-rating-star__rating\">9.7</span>\n",
      "-----------------\n",
      "6.6 <span class=\"ipl-rating-star__rating\">8.5</span>\n",
      "-----------------\n",
      "6.7 <span class=\"ipl-rating-star__rating\">8.7</span>\n",
      "-----------------\n",
      "6.8 <span class=\"ipl-rating-star__rating\">8.5</span>\n",
      "-----------------\n",
      "6.9 <span class=\"ipl-rating-star__rating\">9.9</span>\n",
      "-----------------\n",
      "6.10 <span class=\"ipl-rating-star__rating\">9.9</span>\n",
      "-----------------\n",
      "7.1 <span class=\"ipl-rating-star__rating\">8.7</span>\n",
      "-----------------\n",
      "7.2 <span class=\"ipl-rating-star__rating\">9.0</span>\n",
      "-----------------\n",
      "7.3 <span class=\"ipl-rating-star__rating\">9.3</span>\n",
      "-----------------\n",
      "7.4 <span class=\"ipl-rating-star__rating\">9.8</span>\n",
      "-----------------\n",
      "7.5 <span class=\"ipl-rating-star__rating\">8.9</span>\n",
      "-----------------\n",
      "7.6 <span class=\"ipl-rating-star__rating\">9.1</span>\n",
      "-----------------\n",
      "7.7 <span class=\"ipl-rating-star__rating\">9.5</span>\n",
      "-----------------\n",
      "8.1 <span class=\"ipl-rating-star__rating\">7.7</span>\n",
      "-----------------\n",
      "8.2 <span class=\"ipl-rating-star__rating\">8.0</span>\n",
      "-----------------\n",
      "8.3 <span class=\"ipl-rating-star__rating\">7.6</span>\n",
      "-----------------\n",
      "8.4 <span class=\"ipl-rating-star__rating\">5.6</span>\n",
      "-----------------\n",
      "8.5 <span class=\"ipl-rating-star__rating\">6.2</span>\n",
      "-----------------\n",
      "8.6 <span class=\"ipl-rating-star__rating\">4.3</span>\n",
      "-----------------\n"
     ]
    }
   ],
   "source": [
    "for season in range(1,9):\n",
    "    r = requests.get(url, params = {'season': season})\n",
    "    soup = BeautifulSoup(r.text, 'html.parser')\n",
    "    listing = soup.find('div', class_='eplist')\n",
    "    #elemente bomo oštevilčili, da bomo potem imeli tudi oštevilčene epizode in sezone\n",
    "    for epnr, div in enumerate(listing.find_all('div', recursive = False)):\n",
    "        episode = f'{season}.{epnr + 1}'\n",
    "        rating_el = div.find(class_ = 'ipl-rating-star__rating')\n",
    "        print(episode,rating_el)\n",
    "        print('-----------------')\n",
    "        rating = float(rating_el.get_text(strip=True))\n",
    "        episodes.append(episode)\n",
    "        rankings.append(rating)"
   ]
  },
  {
   "cell_type": "code",
   "execution_count": 115,
   "metadata": {},
   "outputs": [
    {
     "data": {
      "text/plain": [
       "<BarContainer object of 219 artists>"
      ]
     },
     "execution_count": 115,
     "metadata": {},
     "output_type": "execute_result"
    },
    {
     "data": {
      "image/png": "[encoded data removed]",
      "text/plain": [
       "<Figure size 432x288 with 1 Axes>"
      ]
     },
     "metadata": {
      "needs_background": "light"
     },
     "output_type": "display_data"
    }
   ],
   "source": [
    "import matplotlib.pylab as plt\n",
    "plt.figure()\n",
    "positions = [a for a in range(len(rankings))]\n",
    "plt.bar(positions, rankings, align = 'center')"
   ]
  },
  {
   "cell_type": "code",
   "execution_count": null,
   "metadata": {},
   "outputs": [],
   "source": []
  },
  {
   "cell_type": "code",
   "execution_count": null,
   "metadata": {},
   "outputs": [],
   "source": []
  },
  {
   "cell_type": "code",
   "execution_count": null,
   "metadata": {},
   "outputs": [],
   "source": []
  },
  {
   "cell_type": "code",
   "execution_count": null,
   "metadata": {},
   "outputs": [],
   "source": []
  },
  {
   "cell_type": "markdown",
   "metadata": {},
   "source": [
    "### Scraping Fast Track data"
   ]
  },
  {
   "cell_type": "markdown",
   "metadata": {},
   "source": [
    "Stran: https://www.fasttrack.co.uk/league-tables/tech-track-100/league-table/"
   ]
  },
  {
   "cell_type": "code",
   "execution_count": 116,
   "metadata": {},
   "outputs": [],
   "source": [
    "# import libraries\n",
    "from bs4 import BeautifulSoup\n",
    "import requests\n",
    "import csv"
   ]
  },
  {
   "cell_type": "code",
   "execution_count": 117,
   "metadata": {},
   "outputs": [],
   "source": [
    "# specify the url\n",
    "urlpage =  'http://www.fasttrack.co.uk/league-tables/tech-track-100/league-table/'"
   ]
  },
  {
   "cell_type": "code",
   "execution_count": 125,
   "metadata": {},
   "outputs": [],
   "source": [
    "#najprej request na stran\n",
    "page = requests.get(urlpage)"
   ]
  },
  {
   "cell_type": "code",
   "execution_count": 126,
   "metadata": {},
   "outputs": [],
   "source": [
    "soup = BeautifulSoup(page.text, 'html.parser')"
   ]
  },
  {
   "cell_type": "code",
   "execution_count": 127,
   "metadata": {},
   "outputs": [
    {
     "data": {
      "text/plain": [
       "<!-- Template Name: League Table page\n",
       "-->\n",
       "<!DOCTYPE html>\n",
       "\n",
       "<!--[if lt IE 7 ]> <html class=\"ie ie6 no-js\" lang=\"en-GB\"> <![endif]-->\n",
       "<!--[if IE 7 ]>    <html class=\"ie ie7 no-js\" lang=\"en-GB\"> <![endif]-->\n",
       "<!--[if IE 8 ]>    <html class=\"ie ie8 no-js\" lang=\"en-GB\"> <![endif]-->\n",
       "<!--[if IE 9 ]>    <html class=\"ie ie9 no-js\" lang=\"en-GB\"> <![endif]-->\n",
       "<!--[if gt IE 9]><!-->\n",
       "<html class=\"no-js\" lang=\"en-GB\">\n",
       "<!--<![endif]-->\n",
       "<!-- the \"no-js\" class is for Modernizr. -->\n",
       "<head id=\"live2-fasttrack-com\"><link data-minify=\"1\" href=\"https://www.fasttrack.co.uk/wp-content/cache/min/1/ab9ddba4334c4be39326abf47e9c4d3f.css\" rel=\"stylesheet\"/>\n",
       "<meta charset=\"utf-8\"/>\n",
       "<!-- Always force latest IE rendering engine (even in intranet) & Chrome Frame -->\n",
       "<meta content=\"IE=edge,chrome=1\" http-equiv=\"X-UA-Compatible\"/>\n",
       "<title>\n",
       "        League table - Fast Track    </title>\n",
       "<meta content=\"League table - Fast Track\" name=\"title\"/>\n",
       "<meta content=\"\" name=\"description\"/>\n",
       "<meta content=\"\" name=\"keyword\"/>\n",
       "<meta content=\"ZYBMlezF37FAeJwYQIBdbJtogbNm9zRcb4fCelYavj8\" name=\"google-site-verification\">\n",
       "<!-- Speaking of Google, don't forget to set your site up: http://google.com/webmasters -->\n",
       "<!-- Start of Google Analytics Code -->\n",
       "<script>\n",
       "        (function(i,s,o,g,r,a,m){i['GoogleAnalyticsObject']=r;i[r]=i[r]||function(){\n",
       "  (i[r].q=i[r].q||[]).push(arguments)},i[r].l=1*new Date();a=s.createElement(o),\n",
       "  m=s.getElementsByTagName(o)[0];a.async=1;a.src=g;m.parentNode.insertBefore(a,m)\n",
       "  })(window,document,'script','https://www.google-analytics.com/analytics.js','ga');\n",
       "\n",
       "  ga('create', 'UA-37401296-1', 'auto');\n",
       "ga('set', 'anonymizeIp', true);\n",
       "  ga('send', 'pageview');\n",
       "\n",
       "</script>\n",
       "<!-- End of Google Analytics Code -->\n",
       "<meta content=\"Fast Track\" name=\"author\"/>\n",
       "<meta content=\"Copyright Fast Track 2011. All Rights Reserved.\" name=\"Copyright\"/>\n",
       "<!-- Dublin Core Metadata : http://dublincore.org/ -->\n",
       "<meta content=\"Fast Track\" name=\"DC.title\"/>\n",
       "<!--\t<meta name=\"DC.subject\" content=\"What you're about.\">-->\n",
       "<meta content=\"TWK\" name=\"DC.creator\"/>\n",
       "<meta content=\"width=device-width, initial-scale=1.0, maximum-scale=1.0\" name=\"viewport\"/>\n",
       "<link href=\"https://www.fasttrack.co.uk/wp-content/themes/fast_track/assets/img/favicon/apple-touch-icon-57x57.png\" rel=\"apple-touch-icon\" sizes=\"57x57\"/>\n",
       "<link href=\"https://www.fasttrack.co.uk/wp-content/themes/fast_track/assets/img/favicon/apple-touch-icon-60x60.png\" rel=\"apple-touch-icon\" sizes=\"60x60\"/>\n",
       "<link href=\"https://www.fasttrack.co.uk/wp-content/themes/fast_track/assets/img/favicon/apple-touch-icon-72x72.png\" rel=\"apple-touch-icon\" sizes=\"72x72\"/>\n",
       "<link href=\"https://www.fasttrack.co.uk/wp-content/themes/fast_track/assets/img/favicon/apple-touch-icon-76x76.png\" rel=\"apple-touch-icon\" sizes=\"76x76\"/>\n",
       "<link href=\"https://www.fasttrack.co.uk/wp-content/themes/fast_track/assets/img/favicon/apple-touch-icon-114x114.png\" rel=\"apple-touch-icon\" sizes=\"114x114\"/>\n",
       "<link href=\"https://www.fasttrack.co.uk/wp-content/themes/fast_track/assets/img/favicon/apple-touch-icon-120x120.png\" rel=\"apple-touch-icon\" sizes=\"120x120\"/>\n",
       "<link href=\"https://www.fasttrack.co.uk/wp-content/themes/fast_track/assets/img/favicon/apple-touch-icon-144x144.png\" rel=\"apple-touch-icon\" sizes=\"144x144\"/>\n",
       "<link href=\"https://www.fasttrack.co.uk/wp-content/themes/fast_track/assets/img/favicon/apple-touch-icon-152x152.png\" rel=\"apple-touch-icon\" sizes=\"152x152\"/>\n",
       "<link href=\"https://www.fasttrack.co.uk/wp-content/themes/fast_track/assets/img/favicon/apple-touch-icon-180x180.png\" rel=\"apple-touch-icon\" sizes=\"180x180\"/>\n",
       "<link href=\"https://www.fasttrack.co.uk/wp-content/themes/fast_track/assets/img/favicon/favicon-32x32.png\" rel=\"icon\" sizes=\"32x32\" type=\"image/png\"/>\n",
       "<link href=\"https://www.fasttrack.co.uk/wp-content/themes/fast_track/assets/img/favicon/android-chrome-192x192.png\" rel=\"icon\" sizes=\"192x192\" type=\"image/png\"/>\n",
       "<link href=\"https://www.fasttrack.co.uk/wp-content/themes/fast_track/assets/img/favicon/favicon-96x96.png\" rel=\"icon\" sizes=\"96x96\" type=\"image/png\"/>\n",
       "<link href=\"https://www.fasttrack.co.uk/wp-content/themes/fast_track/assets/img/favicon/favicon-16x16.png\" rel=\"icon\" sizes=\"16x16\" type=\"image/png\"/>\n",
       "<link href=\"https://www.fasttrack.co.uk/wp-content/themes/fast_track/assets/img/favicon/manifest.json\" rel=\"manifest\"/>\n",
       "<link color=\"#5bbad5\" href=\"https://www.fasttrack.co.uk/wp-content/themes/fast_track/assets/img/favicon/safari-pinned-tab.svg\" rel=\"mask-icon\"/>\n",
       "<link href=\"https://www.fasttrack.co.uk/wp-content/themes/fast_track/assets/img/favicon/favicon.ico\" rel=\"shortcut icon\"/>\n",
       "<meta content=\"#da532c\" name=\"msapplication-TileColor\"/>\n",
       "<meta content=\"https://www.fasttrack.co.uk/wp-content/themes/fast_track/assets/img/favicon/mstile-144x144.png\" name=\"msapplication-TileImage\"/>\n",
       "<meta content=\"https://www.fasttrack.co.uk/wp-content/themes/fast_track/assets/img/favicon/browserconfig.xml\" name=\"msapplication-config\"/>\n",
       "<meta content=\"#ffffff\" name=\"theme-color\"/>\n",
       "<link href=\"https://fonts.googleapis.com/css?family=Open+Sans:400,300,300italic,400italic,600,600italic,700,700italic\" rel=\"stylesheet\" type=\"text/css\"/>\n",
       "<!-- CSS: screen, mobile & print are all in the same file -->\n",
       "<link href=\"https://www.fasttrack.co.uk/wp-content/themes/fast_track/assets/css/bootstrap.min.css\" rel=\"stylesheet\"/>\n",
       "<link href=\"https://www.fasttrack.co.uk/wp-content/themes/fast_track/assets/css/owl.carousel.css\" rel=\"stylesheet\"/>\n",
       "<link href=\"https://www.fasttrack.co.uk/wp-content/themes/fast_track/assets/css/magnific-popup.css\" rel=\"stylesheet\"/>\n",
       "<link href=\"https://www.fasttrack.co.uk/wp-content/themes/fast_track/assets/css/unslider.css\" rel=\"stylesheet\"/>\n",
       "<link href=\"https://www.fasttrack.co.uk/wp-content/themes/fast_track/assets/css/tsort.css\" rel=\"stylesheet\"/>\n",
       "<link href=\"https://www.fasttrack.co.uk/wp-content/themes/fast_track/assets/css/slick.css\" rel=\"stylesheet\"/>\n",
       "<link href=\"https://www.fasttrack.co.uk/wp-content/themes/fast_track/assets/css/slick-theme.css\" rel=\"stylesheet\"/>\n",
       "<link href=\"https://www.fasttrack.co.uk/wp-content/themes/fast_track/assets/css/screen.css\" rel=\"stylesheet\"/>\n",
       "<link href=\"https://www.fasttrack.co.uk/xmlrpc.php\" rel=\"pingback\">\n",
       "<style type=\"text/css\">\n",
       "        .hiring-link {\n",
       "            display: inline-block;\n",
       "            position: relative;\n",
       "            top: -23px;\n",
       "            margin-right: 15px;\n",
       "        }\n",
       "\n",
       "        .hiring-link span a {\n",
       "            color: white;\n",
       "            font-size: 1.2em;\n",
       "        }\n",
       "\n",
       "        .hiring-link span a:hover {\n",
       "            color: #b1b1b1;\n",
       "        }\n",
       "\n",
       "        @media only screen and (max-width: 700px) {\n",
       "            .hiring-link {\n",
       "                display: none;\n",
       "            }\n",
       "        }\n",
       "\n",
       "        #wrap-search input[type=\"text\"]:focus {\n",
       "            background: black !important;\n",
       "        }\n",
       "\n",
       "    </style>\n",
       "<!-- ADD GA CODE HERE -->\n",
       "<!-- This site is optimized with the Yoast SEO plugin v11.2.1 - https://yoast.com/wordpress/plugins/seo/ -->\n",
       "<link href=\"https://www.fasttrack.co.uk/league-tables/tech-track-100/league-table/\" rel=\"canonical\">\n",
       "<meta content=\"en_GB\" property=\"og:locale\">\n",
       "<meta content=\"article\" property=\"og:type\">\n",
       "<meta content=\"League table - Fast Track\" property=\"og:title\">\n",
       "<meta content=\"https://www.fasttrack.co.uk/league-tables/tech-track-100/league-table/\" property=\"og:url\">\n",
       "<meta content=\"Fast Track\" property=\"og:site_name\">\n",
       "<meta content=\"summary\" name=\"twitter:card\">\n",
       "<meta content=\"League table - Fast Track\" name=\"twitter:title\">\n",
       "<script class=\"yoast-schema-graph yoast-schema-graph--main\" type=\"application/ld+json\">{\"@context\":\"https://schema.org\",\"@graph\":[{\"@type\":\"Organization\",\"@id\":\"https://www.fasttrack.co.uk/#organization\",\"name\":\"\",\"url\":\"https://www.fasttrack.co.uk/\",\"sameAs\":[]},{\"@type\":\"WebSite\",\"@id\":\"https://www.fasttrack.co.uk/#website\",\"url\":\"https://www.fasttrack.co.uk/\",\"name\":\"Fast Track\",\"publisher\":{\"@id\":\"https://www.fasttrack.co.uk/#organization\"},\"potentialAction\":{\"@type\":\"SearchAction\",\"target\":\"https://www.fasttrack.co.uk/?s={search_term_string}\",\"query-input\":\"required name=search_term_string\"}},{\"@type\":\"WebPage\",\"@id\":\"https://www.fasttrack.co.uk/league-tables/tech-track-100/league-table/#webpage\",\"url\":\"https://www.fasttrack.co.uk/league-tables/tech-track-100/league-table/\",\"inLanguage\":\"en-GB\",\"name\":\"League table - Fast Track\",\"isPartOf\":{\"@id\":\"https://www.fasttrack.co.uk/#website\"},\"datePublished\":\"2015-12-03T16:53:49+00:00\",\"dateModified\":\"2018-09-06T12:09:08+00:00\"}]}</script>\n",
       "<!-- / Yoast SEO plugin. -->\n",
       "<link href=\"//ajax.googleapis.com\" rel=\"dns-prefetch\">\n",
       "<link href=\"//s.w.org\" rel=\"dns-prefetch\">\n",
       "<script type=\"text/javascript\">\n",
       "\t\t\twindow._wpemojiSettings = {\"baseUrl\":\"https:\\/\\/s.w.org\\/images\\/core\\/emoji\\/12.0.0-1\\/72x72\\/\",\"ext\":\".png\",\"svgUrl\":\"https:\\/\\/s.w.org\\/images\\/core\\/emoji\\/12.0.0-1\\/svg\\/\",\"svgExt\":\".svg\",\"source\":{\"concatemoji\":\"https:\\/\\/www.fasttrack.co.uk\\/wp-includes\\/js\\/wp-emoji-release.min.js?ver=5.2.1\"}};\n",
       "\t\t\t!function(a,b,c){function d(a,b){var c=String.fromCharCode;l.clearRect(0,0,k.width,k.height),l.fillText(c.apply(this,a),0,0);var d=k.toDataURL();l.clearRect(0,0,k.width,k.height),l.fillText(c.apply(this,b),0,0);var e=k.toDataURL();return d===e}function e(a){var b;if(!l||!l.fillText)return!1;switch(l.textBaseline=\"top\",l.font=\"600 32px Arial\",a){case\"flag\":return!(b=d([55356,56826,55356,56819],[55356,56826,8203,55356,56819]))&&(b=d([55356,57332,56128,56423,56128,56418,56128,56421,56128,56430,56128,56423,56128,56447],[55356,57332,8203,56128,56423,8203,56128,56418,8203,56128,56421,8203,56128,56430,8203,56128,56423,8203,56128,56447]),!b);case\"emoji\":return b=d([55357,56424,55356,57342,8205,55358,56605,8205,55357,56424,55356,57340],[55357,56424,55356,57342,8203,55358,56605,8203,55357,56424,55356,57340]),!b}return!1}function f(a){var c=b.createElement(\"script\");c.src=a,c.defer=c.type=\"text/javascript\",b.getElementsByTagName(\"head\")[0].appendChild(c)}var g,h,i,j,k=b.createElement(\"canvas\"),l=k.getContext&&k.getContext(\"2d\");for(j=Array(\"flag\",\"emoji\"),c.supports={everything:!0,everythingExceptFlag:!0},i=0;i<j.length;i++)c.supports[j[i]]=e(j[i]),c.supports.everything=c.supports.everything&&c.supports[j[i]],\"flag\"!==j[i]&&(c.supports.everythingExceptFlag=c.supports.everythingExceptFlag&&c.supports[j[i]]);c.supports.everythingExceptFlag=c.supports.everythingExceptFlag&&!c.supports.flag,c.DOMReady=!1,c.readyCallback=function(){c.DOMReady=!0},c.supports.everything||(h=function(){c.readyCallback()},b.addEventListener?(b.addEventListener(\"DOMContentLoaded\",h,!1),a.addEventListener(\"load\",h,!1)):(a.attachEvent(\"onload\",h),b.attachEvent(\"onreadystatechange\",function(){\"complete\"===b.readyState&&c.readyCallback()})),g=c.source||{},g.concatemoji?f(g.concatemoji):g.wpemoji&&g.twemoji&&(f(g.twemoji),f(g.wpemoji)))}(window,document,window._wpemojiSettings);\n",
       "\t\t</script>\n",
       "<style type=\"text/css\">\n",
       "img.wp-smiley,\n",
       "img.emoji {\n",
       "\tdisplay: inline !important;\n",
       "\tborder: none !important;\n",
       "\tbox-shadow: none !important;\n",
       "\theight: 1em !important;\n",
       "\twidth: 1em !important;\n",
       "\tmargin: 0 .07em !important;\n",
       "\tvertical-align: -0.1em !important;\n",
       "\tbackground: none !important;\n",
       "\tpadding: 0 !important;\n",
       "}\n",
       "</style>\n",
       "<script src=\"https://ajax.googleapis.com/ajax/libs/jquery/1.10.2/jquery.min.js\" type=\"text/javascript\"></script>\n",
       "<script type=\"text/javascript\">\n",
       "/* <![CDATA[ */\n",
       "var sdm_ajax_script = {\"ajaxurl\":\"https:\\/\\/www.fasttrack.co.uk\\/wp-admin\\/admin-ajax.php\"};\n",
       "/* ]]> */\n",
       "</script>\n",
       "<script src=\"https://www.fasttrack.co.uk/wp-content/plugins/simple-download-monitor/js/sdm_wp_scripts.js?ver=-b-modified-1558604443\" type=\"text/javascript\"></script>\n",
       "<script src=\"https://www.fasttrack.co.uk/wp-content/themes/fast_track/assets/js/modernizr-2.6.2.min.js?ver=-b-modified-1558604255\" type=\"text/javascript\"></script>\n",
       "<link href=\"https://www.fasttrack.co.uk/wp-json/\" rel=\"https://api.w.org/\">\n",
       "<link href=\"https://www.fasttrack.co.uk/?p=359\" rel=\"shortlink\">\n",
       "<link href=\"https://www.fasttrack.co.uk/wp-json/oembed/1.0/embed?url=https%3A%2F%2Fwww.fasttrack.co.uk%2Fleague-tables%2Ftech-track-100%2Fleague-table%2F\" rel=\"alternate\" type=\"application/json+oembed\">\n",
       "<link href=\"https://www.fasttrack.co.uk/wp-json/oembed/1.0/embed?url=https%3A%2F%2Fwww.fasttrack.co.uk%2Fleague-tables%2Ftech-track-100%2Fleague-table%2F&amp;format=xml\" rel=\"alternate\" type=\"text/xml+oembed\">\n",
       "<style type=\"text/css\">.recentcomments a{display:inline !important;padding:0 !important;margin:0 !important;}</style>\n",
       "<link href=\"https://www.fasttrack.co.uk/wp-content/uploads/Fast-Track-favicon-66x66.jpg\" rel=\"icon\" sizes=\"32x32\">\n",
       "<link href=\"https://www.fasttrack.co.uk/wp-content/uploads/Fast-Track-favicon-300x300.jpg\" rel=\"icon\" sizes=\"192x192\">\n",
       "<link href=\"https://www.fasttrack.co.uk/wp-content/uploads/Fast-Track-favicon-300x300.jpg\" rel=\"apple-touch-icon-precomposed\">\n",
       "<meta content=\"https://www.fasttrack.co.uk/wp-content/uploads/Fast-Track-favicon-300x300.jpg\" name=\"msapplication-TileImage\">\n",
       "</meta></link></link></link></link></link></link></link></link></link></meta></meta></meta></meta></meta></meta></meta></link></link></meta></head>\n",
       "<body class=\"page-template page-template-page-league-table page-template-page-league-table-php page page-id-359 page-child parent-pageid-159\">\n",
       "<div id=\"page-wrap\">\n",
       "<!-- not needed? up to you: http://camendesign.com/code/developpeurs_sans_frontieres -->\n",
       "<header id=\"header\">\n",
       "<nav class=\"navbar navbar-fixed-top\">\n",
       "<div class=\"container-fluid\">\n",
       "<a class=\"navbar-brand active hidden-md hidden-lg\" href=\"https://www.fasttrack.co.uk\">\n",
       "                        Tech Track 100</a>\n",
       "<a class=\"navbar-brand fast-track active hidden-sm hidden-xs\" href=\"https://www.fasttrack.co.uk\">FAST TRACK</a>\n",
       "<div class=\"navbar-right\">\n",
       "<div class=\"hiring-link\">\n",
       "<span>\n",
       "<a href=\"https://www.fasttrack.co.uk/about-us/careers/\">\n",
       "                                    We are hiring</a>\n",
       "</span>\n",
       "</div>\n",
       "<div id=\"wrap-search\">\n",
       "<form action=\"https://www.fasttrack.co.uk\" autocomplete=\"on\" id=\"searchform\" method=\"get\" name=\"searchbar_form\">\n",
       "<input name=\"post_type[]\" type=\"hidden\" value=\"company_profile\"/>\n",
       "<input id=\"search\" name=\"s\" placeholder=\"Company search...\" type=\"text\"/><input id=\"search_submit\" type=\"submit\" value=\"Rechercher\"/>\n",
       "</form>\n",
       "</div>\n",
       "<div id=\"menu_button\"><span></span></div>\n",
       "</div>\n",
       "<div id=\"side_menu\">\n",
       "<ul>\n",
       "<li><a href=\"https://www.fasttrack.co.uk/\">\n",
       "                                    Home</a>\n",
       "</li>\n",
       "<li><a href=\"https://www.fasttrack.co.uk/blog/\">\n",
       "                                    News</a>\n",
       "</li>\n",
       "<li>\n",
       "                                League tables                                <ul>\n",
       "<li class=\"menu-dropdown\"><a href=\"https://www.fasttrack.co.uk/league-tables/sme-export-track-100/\">\n",
       "                                            SME Export Track 100</a>\n",
       "<ul>\n",
       "<li><a href=\"https://www.fasttrack.co.uk/league-tables/sme-export-track-100/\">Overview</a></li>\n",
       "<li><a href=\"https://www.fasttrack.co.uk/league-tables/sme-export-track-100/league-table/\">\n",
       "                                                    League table</a></li>\n",
       "<li><a href=\"https://www.fasttrack.co.uk/league-tables/sme-export-track-100/supplement/\">\n",
       "                                                    Supplement &amp; research</a></li>\n",
       "<li><a href=\"https://www.fasttrack.co.uk/league-tables/sme-export-track-100/awards/\">\n",
       "                                                    Awards dinner</a></li>\n",
       "<li><a href=\"https://www.fasttrack.co.uk/league-tables/sme-export-track-100/nominate-a-company/\">\n",
       "                                                    Nominate a company</a></li>\n",
       "<li><a href=\"https://www.fasttrack.co.uk/league-tables/sme-export-track-100/sponsorship/\">\n",
       "                                                    Sponsorship</a></li>\n",
       "</ul>\n",
       "</li>\n",
       "<li class=\"menu-dropdown\"><a href=\"https://www.fasttrack.co.uk/league-tables/tech-track-100/\">\n",
       "                                            Tech Track 100</a>\n",
       "<ul>\n",
       "<li><a href=\"https://www.fasttrack.co.uk/league-tables/tech-track-100/\">Overview</a></li>\n",
       "<li><a href=\"https://www.fasttrack.co.uk/league-tables/tech-track-100/league-table/\">\n",
       "                                                    League table</a></li>\n",
       "<li><a href=\"https://www.fasttrack.co.uk/league-tables/tech-track-100/supplement/\">\n",
       "                                                    Supplement &amp; research</a></li>\n",
       "<li><a href=\"https://www.fasttrack.co.uk/league-tables/tech-track-100/awards/\">\n",
       "                                                    Awards dinner</a></li>\n",
       "<li><a href=\"https://www.fasttrack.co.uk/league-tables/tech-track-100/ones-to-watch/\">\n",
       "                                                    Ones to Watch</a></li>\n",
       "<li><a href=\"https://www.fasttrack.co.uk/league-tables/tech-track-100/alumni/\">\n",
       "                                                    Alumni dinners</a></li>\n",
       "<li><a href=\"https://www.fasttrack.co.uk/league-tables/tech-track-100/nominate-a-company/\">\n",
       "                                                    Nominate a company</a></li>\n",
       "<li><a href=\"https://www.fasttrack.co.uk/league-tables/tech-track-100/sponsorship/\">\n",
       "                                                    Sponsorship</a></li>\n",
       "</ul>\n",
       "</li>\n",
       "<li class=\"menu-dropdown\"><a href=\"https://www.fasttrack.co.uk/league-tables/fast-track-100/\">\n",
       "                                            Fast Track 100</a>\n",
       "<ul>\n",
       "<li><a href=\"https://www.fasttrack.co.uk/league-tables/fast-track-100/\">Overview</a></li>\n",
       "<li><a href=\"https://www.fasttrack.co.uk/league-tables/fast-track-100/league-table/\">\n",
       "                                                    League table</a></li>\n",
       "<li><a href=\"https://www.fasttrack.co.uk/league-tables/fast-track-100/supplement/\">\n",
       "                                                    Supplement &amp; research</a></li>\n",
       "<li><a href=\"https://www.fasttrack.co.uk/league-tables/fast-track-100/awards-dinners/\">\n",
       "                                                    Awards dinner</a></li>\n",
       "<li><a href=\"https://www.fasttrack.co.uk/league-tables/fast-track-100/ones-to-watch/\">\n",
       "                                                    Disruptors/Ones to Watch</a></li>\n",
       "<li><a href=\"https://www.fasttrack.co.uk/league-tables/fast-track-100/alumni/\">\n",
       "                                                    Alumni dinners</a></li>\n",
       "<li><a href=\"https://www.fasttrack.co.uk/league-tables/fast-track-100/nominate-a-company/\">\n",
       "                                                    Nominate a company</a></li>\n",
       "<li><a href=\"https://www.fasttrack.co.uk/league-tables/fast-track-100/sponsorship/\">\n",
       "                                                    Sponsorship</a></li>\n",
       "</ul>\n",
       "</li>\n",
       "<li class=\"menu-dropdown\"><a href=\"https://www.fasttrack.co.uk/league-tables/international-track-200/\">\n",
       "                                            International Track 200</a>\n",
       "<ul>\n",
       "<li><a href=\"https://www.fasttrack.co.uk/league-tables/international-track-200/\">Overview</a></li>\n",
       "<li><a href=\"https://www.fasttrack.co.uk/league-tables/international-track-200/league-table/\">\n",
       "                                                    League table</a></li>\n",
       "<li><a href=\"https://www.fasttrack.co.uk/league-tables/international-track-200/supplement/\">\n",
       "                                                    Supplement &amp; research</a></li>\n",
       "<li><a href=\"https://www.fasttrack.co.uk/league-tables/international-track-200/awards-dinners/\">\n",
       "                                                    Awards dinner</a></li>\n",
       "<li><a href=\"https://www.fasttrack.co.uk/league-tables/international-track-200/alumni/\">\n",
       "                                                    Alumni dinners</a></li>\n",
       "<li><a href=\"https://www.fasttrack.co.uk/league-tables/international-track-200/nominate-a-company/\">\n",
       "                                                    Nominate a company</a></li>\n",
       "<li><a href=\"https://www.fasttrack.co.uk/league-tables/international-track-200/sponsorship/\">\n",
       "                                                    Sponsorship</a></li>\n",
       "</ul>\n",
       "</li>\n",
       "<li class=\"menu-dropdown\"><a href=\"https://www.fasttrack.co.uk/league-tables/profit-track-100/\">\n",
       "                                            Profit Track 100</a>\n",
       "<ul>\n",
       "<li><a href=\"https://www.fasttrack.co.uk/league-tables/profit-track-100/\">Overview</a></li>\n",
       "<li><a href=\"https://www.fasttrack.co.uk/league-tables/profit-track-100/league-table/\">\n",
       "                                                    League table</a></li>\n",
       "<li><a href=\"https://www.fasttrack.co.uk/league-tables/profit-track-100/supplement/\">\n",
       "                                                    Supplement &amp; research</a></li>\n",
       "<li><a href=\"https://www.fasttrack.co.uk/league-tables/profit-track-100/awards-dinners/\">\n",
       "                                                    Awards dinner</a></li>\n",
       "<li><a href=\"https://www.fasttrack.co.uk/league-tables/profit-track-100/ones-to-watch/\">\n",
       "                                                    Ones to Watch</a></li>\n",
       "<li><a href=\"https://www.fasttrack.co.uk/league-tables/profit-track-100/alumni/\">\n",
       "                                                    Alumni dinners</a></li>\n",
       "<li><a href=\"https://www.fasttrack.co.uk/league-tables/profit-track-100/nominate-a-company/\">\n",
       "                                                    Nominate a company</a></li>\n",
       "<li><a href=\"https://www.fasttrack.co.uk/league-tables/profit-track-100/sponsorship/\">\n",
       "                                                    Sponsorship</a></li>\n",
       "</ul>\n",
       "</li>\n",
       "<li class=\"menu-dropdown\"><a href=\"https://www.fasttrack.co.uk/league-tables/top-track-250/\">\n",
       "                                            Top Track 250</a>\n",
       "<ul>\n",
       "<li><a href=\"https://www.fasttrack.co.uk/league-tables/top-track-250/\">Overview</a></li>\n",
       "<li><a href=\"https://www.fasttrack.co.uk/league-tables/top-track-250/league-table/\">\n",
       "                                                    League table</a></li>\n",
       "<li><a href=\"https://www.fasttrack.co.uk/league-tables/top-track-250/supplement/\">\n",
       "                                                    Supplement &amp; research</a></li>\n",
       "<li><a href=\"https://www.fasttrack.co.uk/league-tables/top-track-250/awards/\">\n",
       "                                                    Awards dinner</a></li>\n",
       "<li><a href=\"https://www.fasttrack.co.uk/league-tables/top-track-250/top-track-250-ones-to-watch/\">\n",
       "                                                    Ones to Watch</a></li>\n",
       "<li><a href=\"https://www.fasttrack.co.uk/league-tables/top-track-250/alumni/\">\n",
       "                                                    Alumni dinners</a></li>\n",
       "<li><a href=\"https://www.fasttrack.co.uk/league-tables/top-track-250/nominate-a-company/\">\n",
       "                                                    Nominate a company</a></li>\n",
       "<li><a href=\"https://www.fasttrack.co.uk/league-tables/top-track-250/sponsorship/\">\n",
       "                                                    Sponsorship</a></li>\n",
       "</ul>\n",
       "</li>\n",
       "<li class=\"menu-dropdown\"><a href=\"https://www.fasttrack.co.uk/league-tables/top-track-100/\">\n",
       "                                            Top Track 100</a>\n",
       "<ul>\n",
       "<li><a href=\"https://www.fasttrack.co.uk/league-tables/top-track-100/\">Overview</a></li>\n",
       "<li><a href=\"https://www.fasttrack.co.uk/league-tables/top-track-100/league-table/\">\n",
       "                                                    League table</a></li>\n",
       "<li><a href=\"https://www.fasttrack.co.uk/league-tables/top-track-100/supplement/\">\n",
       "                                                    Supplement &amp; research</a></li>\n",
       "<li><a href=\"https://www.fasttrack.co.uk/league-tables/top-track-100/awards/\">\n",
       "                                                    Directors' dinners</a></li>\n",
       "<li><a href=\"https://www.fasttrack.co.uk/league-tables/top-track-100/nominate-a-company/\">\n",
       "                                                    Nominate a company</a></li>\n",
       "<li><a href=\"https://www.fasttrack.co.uk/league-tables/top-track-100/sponsorship/\">\n",
       "                                                    Sponsorship</a></li>\n",
       "</ul>\n",
       "</li>\n",
       "</ul>\n",
       "</li>\n",
       "<li class=\"menu-dropdown\"><a href=\"https://www.fasttrack.co.uk/about-us/\">\n",
       "                                    About us</a>\n",
       "<ul>\n",
       "<li><a href=\"https://www.fasttrack.co.uk/about-us/\">\n",
       "</a></li>\n",
       "<li><a href=\"https://www.fasttrack.co.uk/about-us/the-team/\">\n",
       "                                            The team</a></li>\n",
       "<li><a href=\"https://www.fasttrack.co.uk/about-us/careers/\">\n",
       "                                            Careers</a></li>\n",
       "<li><a href=\"https://www.fasttrack.co.uk/about-us/charity/\">\n",
       "                                            Charity</a></li>\n",
       "<li><a href=\"https://www.fasttrack.co.uk/about-us/data-partners/\">\n",
       "                                            Data partners</a></li>\n",
       "</ul>\n",
       "</li>\n",
       "<li><a href=\"https://www.fasttrack.co.uk/about-us/careers/\">\n",
       "                                    Careers</a>\n",
       "</li>\n",
       "<li><a href=\"https://www.fasttrack.co.uk/nominate-a-company/\">\n",
       "                                    Nominate a company</a>\n",
       "</li>\n",
       "<li><a href=\"https://www.fasttrack.co.uk/sponsorship/\">\n",
       "                                    Sponsorship</a>\n",
       "</li>\n",
       "<li class=\"menu-dropdown\"><a href=\"https://www.fasttrack.co.uk/media-centre/\">\n",
       "                                    Media and logos</a>\n",
       "<ul>\n",
       "<li><a href=\"https://www.fasttrack.co.uk/media-centre/\">\n",
       "                                            Videos</a></li>\n",
       "<li><a href=\"https://www.fasttrack.co.uk/media-centre/press-releases/\">\n",
       "                                            Press releases</a></li>\n",
       "<li><a href=\"https://www.fasttrack.co.uk/media-centre/downloads/\">\n",
       "                                            Downloads and logos</a></li>\n",
       "</ul>\n",
       "</li>\n",
       "<li><a href=\"https://www.fasttrack.co.uk/contact-us/\">\n",
       "                                    Contact us</a>\n",
       "</li>\n",
       "</ul>\n",
       "<a href=\"https://www.linkedin.com/company/sunday-times-fast-track\" target=\"_blank\"><img alt=\"linkedIn\" src=\"https://www.fasttrack.co.uk/wp-content/themes/fast_track/assets/img/linkedin_circle_icon.png\"/></a>\n",
       "<a href=\"https://twitter.com/ST_FastTrack\" target=\"_blank\"><img alt=\"twitter\" src=\"https://www.fasttrack.co.uk/wp-content/themes/fast_track/assets/img/twitter_circle_icon.png\"/></a>\n",
       "<a href=\"https://www.instagram.com/thesundaytimesfasttrack\" target=\"_blank\"><img alt=\"instagram\" src=\"https://www.fasttrack.co.uk/wp-content/themes/fast_track/assets/img/instagram_circle_icon.png\" style=\"width: 40px; height: 35px;\"/></a>\n",
       "</div>\n",
       "</div>\n",
       "</nav>\n",
       "</header>\n",
       "<div id=\"content-wrap\">\n",
       "<section class=\"subpage-header hidden-xs hidden-sm\">\n",
       "<div class=\"main-title-header\">\n",
       "\t\t\t  \n",
       "\tTech Track 100\t\t\n",
       "\t</div>\n",
       "<div class=\"container\"><div class=\"row\">\n",
       "<div class=\"col-sm-4\"><img src=\"https://www.fasttrack.co.uk/wp-content/uploads/TechTrack100-logo-masthead1.png\"/></div>\n",
       "<div class=\"col-sm-8 text-right\">\n",
       "<div class=\"title_sponsor\">\n",
       "<a href=\"https://www.fasttrack.co.uk/sponsor-profiles/hiscox/\">\n",
       "<div class=\"image\" style=\"background-image: url('https://www.fasttrack.co.uk/wp-content/uploads/Hiscox-logo-1.png');\"></div></a>\n",
       "</div>\n",
       "<div class=\"supported\">\n",
       "<a href=\"https://www.fasttrack.co.uk/sponsor-profiles/barclays/\">\n",
       "<div class=\"image\" style=\"background-image: url('https://www.fasttrack.co.uk/wp-content/uploads/Barclays-logo-1.png');\" title=\"\"></div>\n",
       "</a>\n",
       "</div>\n",
       "<div class=\"supported\">\n",
       "<a href=\"https://www.fasttrack.co.uk/sponsor-profiles/bdo/\">\n",
       "<div class=\"image\" style=\"background-image: url('https://www.fasttrack.co.uk/wp-content/uploads/BDO-logo-1.png');\" title=\"\"></div>\n",
       "</a>\n",
       "</div>\n",
       "<div class=\"supported\">\n",
       "<a href=\"https://www.fasttrack.co.uk/sponsor-profiles/bgf/\">\n",
       "<div class=\"image\" style=\"background-image: url('https://www.fasttrack.co.uk/wp-content/uploads/BGF-logo-no-strapline-padding-2018.png');\" title=\"\"></div>\n",
       "</a>\n",
       "</div>\n",
       "<div class=\"supported\">\n",
       "<a href=\"https://www.fasttrack.co.uk/sponsor-profiles/n1-singer/\">\n",
       "<div class=\"image\" style=\"background-image: url('https://www.fasttrack.co.uk/wp-content/uploads/n1singer.png');\" title=\"\"></div>\n",
       "</a>\n",
       "</div>\n",
       "</div>\n",
       "</div>\n",
       "</div>\n",
       "<div class=\"league_navigation\">\n",
       "<div class=\"mobile-league-btn\">Menu</div>\n",
       "<ul>\n",
       "<li><a class=\"\" href=\"https://www.fasttrack.co.uk/league-tables/tech-track-100/\">Overview</a></li>\n",
       "<li><a class=\"active\" href=\"https://www.fasttrack.co.uk/league-tables/tech-track-100/league-table/\">League table</a></li>\n",
       "<li><a class=\"\" href=\"https://www.fasttrack.co.uk/league-tables/tech-track-100/supplement/\">Supplement &amp; research</a></li>\n",
       "<li><a class=\"\" href=\"https://www.fasttrack.co.uk/league-tables/tech-track-100/awards/\">Awards dinner</a></li>\n",
       "<li><a class=\"\" href=\"https://www.fasttrack.co.uk/league-tables/tech-track-100/ones-to-watch/\">Ones to Watch</a></li>\n",
       "<li><a class=\"\" href=\"https://www.fasttrack.co.uk/league-tables/tech-track-100/alumni/\">Alumni dinners</a></li>\n",
       "<li><a class=\"\" href=\"https://www.fasttrack.co.uk/league-tables/tech-track-100/nominate-a-company/\">Nominate a company</a></li>\n",
       "<li><a class=\"\" href=\"https://www.fasttrack.co.uk/league-tables/tech-track-100/sponsorship/\">Sponsorship</a></li>\n",
       "</ul>\n",
       "</div>\n",
       "</section>\n",
       "<div class=\"container\">\n",
       "<article class=\"post\" id=\"post-359\">\n",
       "<h2>Tech Track 100 league table <div class=\"dropdown\">\n",
       "<button class=\"dropbtn button skew_forward\">2018</button>\n",
       "<div class=\"dropdown-content\">\n",
       "<a href=\"?leagueyear=2018\">2018</a>\n",
       "<a href=\"?leagueyear=2017\">2017</a>\n",
       "<a href=\"?leagueyear=2016\">2016</a>\n",
       "<a href=\"?leagueyear=2015\">2015</a>\n",
       "<a href=\"?leagueyear=2014\">2014</a>\n",
       "<a href=\"?leagueyear=2013\">2013</a>\n",
       "<a href=\"?leagueyear=2012\">2012</a>\n",
       "<a href=\"?leagueyear=2011\">2011</a>\n",
       "<a href=\"?leagueyear=2010\">2010</a>\n",
       "<a href=\"?leagueyear=2009\">2009</a>\n",
       "<a href=\"?leagueyear=2008\">2008</a>\n",
       "<a href=\"?leagueyear=2007\">2007</a>\n",
       "<a href=\"?leagueyear=2006\">2006</a>\n",
       "<a href=\"?leagueyear=2005\">2005</a>\n",
       "<a href=\"?leagueyear=2004\">2004</a>\n",
       "<a href=\"?leagueyear=2003\">2003</a>\n",
       "<a href=\"?leagueyear=2002\">2002</a>\n",
       "<a href=\"?leagueyear=2001\">2001</a>\n",
       "</div>\n",
       "</div>\n",
       "</h2>\n",
       "</article>\n",
       "<!--\t\t\t\tPull in data from the current year selected in page -->\n",
       "<div class=\"responsive-tabble-wrapper\">\n",
       "<table class=\"tableSorter\">\n",
       "<tbody>\n",
       "<tr>\n",
       "<th>Rank</th>\n",
       "<th>Company</th>\n",
       "<th class=\"\">Location</th>\n",
       "<th class=\"no-word-wrap\">Year end</th>\n",
       "<th class=\"\" style=\"text-align:right;\">Annual sales rise over 3 years</th>\n",
       "<th class=\"\" style=\"text-align:right;\">Latest sales £000s</th>\n",
       "<th class=\"\" style=\"text-align:right;\">Staff</th>\n",
       "<th class=\"\">Comment</th>\n",
       "<!--\t\t\t\t<th>FYE</th>-->\n",
       "</tr>\n",
       "<tr>\n",
       "<td>1</td>\n",
       "<td><a href=\"https://www.fasttrack.co.uk/company_profile/plan-com/\"><span class=\"company-name\">Plan.com</span></a>Communications provider</td>\n",
       "<td>Isle of Man</td>\n",
       "<td>Sep-17</td>\n",
       "<td style=\"text-align:right;\">364.38%</td>\n",
       "<td style=\"text-align:right;\">*35,418</td>\n",
       "<td style=\"text-align:right;\">90</td>\n",
       "<td>About 650 partners use its telecoms platform to support more than 100,000 UK business customers</td>\n",
       "<!--\t\t\t\t\t\t<td>Sep-17</td>-->\n",
       "</tr>\n",
       "<tr>\n",
       "<td>2</td>\n",
       "<td><a href=\"https://www.fasttrack.co.uk/company_profile/psioxus-2/\"><span class=\"company-name\">PsiOxus</span></a>Biotechnology developer</td>\n",
       "<td>Oxfordshire</td>\n",
       "<td>Dec-17</td>\n",
       "<td style=\"text-align:right;\">311.67%</td>\n",
       "<td style=\"text-align:right;\">53,136</td>\n",
       "<td style=\"text-align:right;\">54</td>\n",
       "<td>Received a $15m milestone payment from its development partner Bristol-Myers Squibb in December</td>\n",
       "<!--\t\t\t\t\t\t<td>Dec-17</td>-->\n",
       "</tr>\n",
       "<tr>\n",
       "<td>3</td>\n",
       "<td><a href=\"https://www.fasttrack.co.uk/company_profile/censornet/\"><span class=\"company-name\">CensorNet</span></a>Cloud security software developer</td>\n",
       "<td>Basingstoke</td>\n",
       "<td>Dec-17</td>\n",
       "<td style=\"text-align:right;\">210.17%</td>\n",
       "<td style=\"text-align:right;\">*7,535</td>\n",
       "<td style=\"text-align:right;\">77</td>\n",
       "<td>Has more than 4,000 customers, including McDonald’s in France and the European Central Bank</td>\n",
       "<!--\t\t\t\t\t\t<td>Dec-17</td>-->\n",
       "</tr>\n",
       "<tr>\n",
       "<td>4</td>\n",
       "<td><a href=\"https://www.fasttrack.co.uk/company_profile/thoughtonomy/\"><span class=\"company-name\">thoughtonomy</span></a>Automation software developer</td>\n",
       "<td>East London</td>\n",
       "<td>May-18</td>\n",
       "<td style=\"text-align:right;\">205.20%</td>\n",
       "<td style=\"text-align:right;\">*16,916</td>\n",
       "<td style=\"text-align:right;\">100</td>\n",
       "<td>It sells to 28 countries and 50% of revenue is generated from overseas</td>\n",
       "<!--\t\t\t\t\t\t<td>May-18</td>-->\n",
       "</tr>\n",
       "<tr>\n",
       "<td>5</td>\n",
       "<td><a href=\"https://www.fasttrack.co.uk/company_profile/perkbox-2/\"><span class=\"company-name\">Perkbox</span></a>Employee engagement services</td>\n",
       "<td>Central London</td>\n",
       "<td>Dec-17</td>\n",
       "<td style=\"text-align:right;\">204.12%</td>\n",
       "<td style=\"text-align:right;\">*34,700</td>\n",
       "<td style=\"text-align:right;\">200</td>\n",
       "<td>Acquired software platform Loyalty Bay for an undisclosed sum in November</td>\n",
       "<!--\t\t\t\t\t\t<td>Dec-17</td>-->\n",
       "</tr>\n",
       "<tr>\n",
       "<td>6</td>\n",
       "<td><a href=\"https://www.fasttrack.co.uk/company_profile/ogury/\"><span class=\"company-name\">Ogury</span></a>Mobile data marketing</td>\n",
       "<td>North London</td>\n",
       "<td>Dec-17</td>\n",
       "<td style=\"text-align:right;\">204.09%</td>\n",
       "<td style=\"text-align:right;\">33,760</td>\n",
       "<td style=\"text-align:right;\">133</td>\n",
       "<td>It has access to data from more than 400m mobile phone users in 120 countries</td>\n",
       "<!--\t\t\t\t\t\t<td>Dec-17</td>-->\n",
       "</tr>\n",
       "<tr>\n",
       "<td>7</td>\n",
       "<td><a href=\"https://www.fasttrack.co.uk/company_profile/verve/\"><span class=\"company-name\">Verve</span></a>Marketing software developer</td>\n",
       "<td>Central London</td>\n",
       "<td>Dec-17</td>\n",
       "<td style=\"text-align:right;\">202.15%</td>\n",
       "<td style=\"text-align:right;\">*10,747</td>\n",
       "<td style=\"text-align:right;\">130</td>\n",
       "<td>Its network of 25,000 ‘micro-influencers’ have sold half a million event tickets since 2014</td>\n",
       "<!--\t\t\t\t\t\t<td>Dec-17</td>-->\n",
       "</tr>\n",
       "<tr>\n",
       "<td>8</td>\n",
       "<td><a href=\"https://www.fasttrack.co.uk/company_profile/gohenry/\"><span class=\"company-name\">goHenry</span></a>Children's pre-paid card developer</td>\n",
       "<td>Central London</td>\n",
       "<td>Dec-17</td>\n",
       "<td style=\"text-align:right;\">200.87%</td>\n",
       "<td style=\"text-align:right;\">*6,116</td>\n",
       "<td style=\"text-align:right;\">61</td>\n",
       "<td>The company is named after the first child to make a transaction with one of its cards</td>\n",
       "<!--\t\t\t\t\t\t<td>Dec-17</td>-->\n",
       "</tr>\n",
       "<tr>\n",
       "<td>9</td>\n",
       "<td><a href=\"https://www.fasttrack.co.uk/company_profile/darktrace-3/\"><span class=\"company-name\">Darktrace</span></a>Cybersecurity developer</td>\n",
       "<td>Cambridge</td>\n",
       "<td>Jun-18</td>\n",
       "<td style=\"text-align:right;\">195.51%</td>\n",
       "<td style=\"text-align:right;\">*58,573</td>\n",
       "<td style=\"text-align:right;\">694</td>\n",
       "<td>Was reportedly valued at $1.25bn in April when Vitruvian Partners bought a small stake</td>\n",
       "<!--\t\t\t\t\t\t<td>Jun-18</td>-->\n",
       "</tr>\n",
       "<tr>\n",
       "<td>10</td>\n",
       "<td><a href=\"https://www.fasttrack.co.uk/company_profile/bizuma/\"><span class=\"company-name\">Bizuma</span></a>B2B e-commerce platform</td>\n",
       "<td>Central London</td>\n",
       "<td>Mar-18</td>\n",
       "<td style=\"text-align:right;\">181.75%</td>\n",
       "<td style=\"text-align:right;\">*9,608</td>\n",
       "<td style=\"text-align:right;\">48</td>\n",
       "<td>Originally founded as a flash sales website before changing direction in 2014</td>\n",
       "<!--\t\t\t\t\t\t<td>Mar-18</td>-->\n",
       "</tr>\n",
       "<tr>\n",
       "<td>11</td>\n",
       "<td><a href=\"https://www.fasttrack.co.uk/company_profile/depop/\"><span class=\"company-name\">Depop</span></a>Social shopping app</td>\n",
       "<td>Central London</td>\n",
       "<td>Dec-17</td>\n",
       "<td style=\"text-align:right;\">175.70%</td>\n",
       "<td style=\"text-align:right;\">*94,300</td>\n",
       "<td style=\"text-align:right;\">95</td>\n",
       "<td>More than 10m people use its platform to buy and sell vintage clothing</td>\n",
       "<!--\t\t\t\t\t\t<td>Dec-17</td>-->\n",
       "</tr>\n",
       "<tr>\n",
       "<td>12</td>\n",
       "<td><a href=\"https://www.fasttrack.co.uk/company_profile/laser-wire-solutions/\"><span class=\"company-name\">Laser Wire Solutions</span></a>Laser wire-stripping machinery</td>\n",
       "<td>Pontypridd</td>\n",
       "<td>Dec-17</td>\n",
       "<td style=\"text-align:right;\">173.41%</td>\n",
       "<td style=\"text-align:right;\">*5,114</td>\n",
       "<td style=\"text-align:right;\">26</td>\n",
       "<td>Swiss technology group Schleuniger took a 20% stake in 2016</td>\n",
       "<!--\t\t\t\t\t\t<td>Dec-17</td>-->\n",
       "</tr>\n",
       "<tr>\n",
       "<td>13</td>\n",
       "<td><a href=\"https://www.fasttrack.co.uk/company_profile/bought-by-many-2/\"><span class=\"company-name\">Bought By Many</span></a>Specialist insurance platform</td>\n",
       "<td>Central London</td>\n",
       "<td>Mar-18</td>\n",
       "<td style=\"text-align:right;\">170.20%</td>\n",
       "<td style=\"text-align:right;\">*19,727</td>\n",
       "<td style=\"text-align:right;\">78</td>\n",
       "<td>Launched its own travel insurance policy for people with severe medical conditions in December</td>\n",
       "<!--\t\t\t\t\t\t<td>Mar-18</td>-->\n",
       "</tr>\n",
       "<tr>\n",
       "<td>14</td>\n",
       "<td><a href=\"https://www.fasttrack.co.uk/company_profile/optal-5/\"><span class=\"company-name\">Optal</span></a>Payment services provider</td>\n",
       "<td>Central London</td>\n",
       "<td>Dec-17</td>\n",
       "<td style=\"text-align:right;\">169.29%</td>\n",
       "<td style=\"text-align:right;\">177,653</td>\n",
       "<td style=\"text-align:right;\">65</td>\n",
       "<td>Uses the Mastercard processing network to facilitate payments in 34 currencies</td>\n",
       "<!--\t\t\t\t\t\t<td>Dec-17</td>-->\n",
       "</tr>\n",
       "<tr>\n",
       "<td>15</td>\n",
       "<td><a href=\"https://www.fasttrack.co.uk/company_profile/infinox-2/\"><span class=\"company-name\">Infinox</span></a>Currency trading platform</td>\n",
       "<td>Central London</td>\n",
       "<td>Mar-18</td>\n",
       "<td style=\"text-align:right;\">155.18%</td>\n",
       "<td style=\"text-align:right;\">*41,700</td>\n",
       "<td style=\"text-align:right;\">48</td>\n",
       "<td>Provides users with an AI-generated news feed that could affect currency trades</td>\n",
       "<!--\t\t\t\t\t\t<td>Mar-18</td>-->\n",
       "</tr>\n",
       "<tr>\n",
       "<td>16</td>\n",
       "<td><a href=\"https://www.fasttrack.co.uk/company_profile/oakbrook-2/\"><span class=\"company-name\">Oakbrook</span></a>Consumer finance provider</td>\n",
       "<td>Nottingham</td>\n",
       "<td>Dec-17</td>\n",
       "<td style=\"text-align:right;\">154.54%</td>\n",
       "<td style=\"text-align:right;\">*40,400</td>\n",
       "<td style=\"text-align:right;\">98</td>\n",
       "<td>Uses machine learning to help estimate borrowers’ credit risk</td>\n",
       "<!--\t\t\t\t\t\t<td>Dec-17</td>-->\n",
       "</tr>\n",
       "<tr>\n",
       "<td>17</td>\n",
       "<td><a href=\"https://www.fasttrack.co.uk/company_profile/carwow/\"><span class=\"company-name\">Carwow</span></a>Car sales platform</td>\n",
       "<td>Central London</td>\n",
       "<td>Dec-17</td>\n",
       "<td style=\"text-align:right;\">147.21%</td>\n",
       "<td style=\"text-align:right;\">*15,276</td>\n",
       "<td style=\"text-align:right;\">127</td>\n",
       "<td>Claims its car review videos have more viewers than the hit BBC series Top Gear</td>\n",
       "<!--\t\t\t\t\t\t<td>Dec-17</td>-->\n",
       "</tr>\n",
       "<tr>\n",
       "<td>18</td>\n",
       "<td><a href=\"https://www.fasttrack.co.uk/company_profile/receipt-bank-2/\"><span class=\"company-name\">Receipt Bank</span></a>Book-keeping automation services</td>\n",
       "<td>Central London</td>\n",
       "<td>Dec-17</td>\n",
       "<td style=\"text-align:right;\">146.07%</td>\n",
       "<td style=\"text-align:right;\">*11,667</td>\n",
       "<td style=\"text-align:right;\">341</td>\n",
       "<td>Says 150,000 businesses in America, Europe and Australia use its book-keeping software</td>\n",
       "<!--\t\t\t\t\t\t<td>Dec-17</td>-->\n",
       "</tr>\n",
       "<tr>\n",
       "<td>19</td>\n",
       "<td><a href=\"https://www.fasttrack.co.uk/company_profile/db-broadcast-2/\"><span class=\"company-name\">dB Broadcast</span></a>Broadcast technology provider</td>\n",
       "<td>Cambridgeshire</td>\n",
       "<td>Sep-17</td>\n",
       "<td style=\"text-align:right;\">143.58%</td>\n",
       "<td style=\"text-align:right;\">34,943</td>\n",
       "<td style=\"text-align:right;\">50</td>\n",
       "<td>Its key customers include Sky, YouTube, Bloomberg and the BBC</td>\n",
       "<!--\t\t\t\t\t\t<td>Sep-17</td>-->\n",
       "</tr>\n",
       "<tr>\n",
       "<td>20</td>\n",
       "<td><a href=\"https://www.fasttrack.co.uk/company_profile/the-car-buying-group/\"><span class=\"company-name\">The Car Buying Group</span></a>Car sales platform</td>\n",
       "<td>Wakefield</td>\n",
       "<td>Mar-18</td>\n",
       "<td style=\"text-align:right;\">140.89%</td>\n",
       "<td style=\"text-align:right;\">*39,140</td>\n",
       "<td style=\"text-align:right;\">31</td>\n",
       "<td>Runs a free nationwide doorstep vehicle collection service</td>\n",
       "<!--\t\t\t\t\t\t<td>Mar-18</td>-->\n",
       "</tr>\n",
       "<tr>\n",
       "<td>21</td>\n",
       "<td><a href=\"https://www.fasttrack.co.uk/company_profile/festicket-2/\"><span class=\"company-name\">Festicket</span></a>Festival booking platform</td>\n",
       "<td>Central London</td>\n",
       "<td>Dec-17</td>\n",
       "<td style=\"text-align:right;\">139.86%</td>\n",
       "<td style=\"text-align:right;\">35,839</td>\n",
       "<td style=\"text-align:right;\">88</td>\n",
       "<td>Sells tickets and packages to more than 1,000 festivals worldwide</td>\n",
       "<!--\t\t\t\t\t\t<td>Dec-17</td>-->\n",
       "</tr>\n",
       "<tr>\n",
       "<td>22</td>\n",
       "<td><a href=\"https://www.fasttrack.co.uk/company_profile/planixs/\"><span class=\"company-name\">Planixs</span></a>Software developer</td>\n",
       "<td>Manchester</td>\n",
       "<td>Mar-17</td>\n",
       "<td style=\"text-align:right;\">133.70%</td>\n",
       "<td style=\"text-align:right;\">*7,240</td>\n",
       "<td style=\"text-align:right;\">67</td>\n",
       "<td>More than £200bn worth of transactions have been analysed using its systems</td>\n",
       "<!--\t\t\t\t\t\t<td>Mar-17</td>-->\n",
       "</tr>\n",
       "<tr>\n",
       "<td>23</td>\n",
       "<td><a href=\"https://www.fasttrack.co.uk/company_profile/gigaclear/\"><span class=\"company-name\">Gigaclear</span></a>Internet services provider</td>\n",
       "<td>Oxfordshire</td>\n",
       "<td>Dec-17</td>\n",
       "<td style=\"text-align:right;\">130.17%</td>\n",
       "<td style=\"text-align:right;\">7,402</td>\n",
       "<td style=\"text-align:right;\">210</td>\n",
       "<td>Has connected more than 16,000 rural customers to broadband in 22 counties</td>\n",
       "<!--\t\t\t\t\t\t<td>Dec-17</td>-->\n",
       "</tr>\n",
       "<tr>\n",
       "<td>24</td>\n",
       "<td><a href=\"https://www.fasttrack.co.uk/company_profile/transferwise-4/\"><span class=\"company-name\">TransferWise</span></a>Currency transfer provider</td>\n",
       "<td>East London</td>\n",
       "<td>Mar-18</td>\n",
       "<td style=\"text-align:right;\">129.39%</td>\n",
       "<td style=\"text-align:right;\">*117,283</td>\n",
       "<td style=\"text-align:right;\">1000</td>\n",
       "<td>Was valued at $1.6bn in November after it raised $280m, taking its funding total to $396m</td>\n",
       "<!--\t\t\t\t\t\t<td>Mar-18</td>-->\n",
       "</tr>\n",
       "<tr>\n",
       "<td>25</td>\n",
       "<td><a href=\"https://www.fasttrack.co.uk/company_profile/patsnap/\"><span class=\"company-name\">PatSnap</span></a>R&amp;D data platform</td>\n",
       "<td>West London</td>\n",
       "<td>Dec-17</td>\n",
       "<td style=\"text-align:right;\">126.18%</td>\n",
       "<td style=\"text-align:right;\">*17,977</td>\n",
       "<td style=\"text-align:right;\">752</td>\n",
       "<td>Has raised more than $100m from investors including Sequoia and Shunwei Capital</td>\n",
       "<!--\t\t\t\t\t\t<td>Dec-17</td>-->\n",
       "</tr>\n",
       "<tr>\n",
       "<td>26</td>\n",
       "<td><a href=\"https://www.fasttrack.co.uk/company_profile/hyperoptic-2/\"><span class=\"company-name\">Hyperoptic</span></a>Internet services provider</td>\n",
       "<td>West London</td>\n",
       "<td>Dec-17</td>\n",
       "<td style=\"text-align:right;\">119.90%</td>\n",
       "<td style=\"text-align:right;\">16,572</td>\n",
       "<td style=\"text-align:right;\">411</td>\n",
       "<td>Aims to provide superfast broadband to more than 2m homes by 2022</td>\n",
       "<!--\t\t\t\t\t\t<td>Dec-17</td>-->\n",
       "</tr>\n",
       "<tr>\n",
       "<td>27</td>\n",
       "<td><a href=\"https://www.fasttrack.co.uk/company_profile/gocardless-2/\"><span class=\"company-name\">GoCardless</span></a>Payment services provider</td>\n",
       "<td>Central London</td>\n",
       "<td>Dec-17</td>\n",
       "<td style=\"text-align:right;\">112.99%</td>\n",
       "<td style=\"text-align:right;\">*11,896</td>\n",
       "<td style=\"text-align:right;\">165</td>\n",
       "<td>International expansion plans include targeting Australia, New Zealand, Canada and the US</td>\n",
       "<!--\t\t\t\t\t\t<td>Dec-17</td>-->\n",
       "</tr>\n",
       "<tr>\n",
       "<td>28</td>\n",
       "<td><a href=\"https://www.fasttrack.co.uk/company_profile/purple/\"><span class=\"company-name\">Purple</span></a>Wifi services provider</td>\n",
       "<td>Oldham</td>\n",
       "<td>Jan-18</td>\n",
       "<td style=\"text-align:right;\">112.88%</td>\n",
       "<td style=\"text-align:right;\">*5,586</td>\n",
       "<td style=\"text-align:right;\">93</td>\n",
       "<td>Its technology is used in every public airport in Spain and in a 21,000-capacity stadium in Miami</td>\n",
       "<!--\t\t\t\t\t\t<td>Jan-18</td>-->\n",
       "</tr>\n",
       "<tr>\n",
       "<td>29</td>\n",
       "<td><a href=\"https://www.fasttrack.co.uk/company_profile/trustpay-global/\"><span class=\"company-name\">Trustpay Global</span></a>Online payment provider</td>\n",
       "<td>Guildford</td>\n",
       "<td>Mar-18</td>\n",
       "<td style=\"text-align:right;\">110.45%</td>\n",
       "<td style=\"text-align:right;\">*9,796</td>\n",
       "<td style=\"text-align:right;\">25</td>\n",
       "<td>The Premier Lotto in Nigeria uses the company’s platform to prevent money laundering</td>\n",
       "<!--\t\t\t\t\t\t<td>Mar-18</td>-->\n",
       "</tr>\n",
       "<tr>\n",
       "<td>30</td>\n",
       "<td><a href=\"https://www.fasttrack.co.uk/company_profile/iwoca-2/\"><span class=\"company-name\">iwoca</span></a>Business finance provider</td>\n",
       "<td>Central London</td>\n",
       "<td>Dec-17</td>\n",
       "<td style=\"text-align:right;\">109.27%</td>\n",
       "<td style=\"text-align:right;\">*25,000</td>\n",
       "<td style=\"text-align:right;\">200</td>\n",
       "<td>Its 140 employees include three former Olympians</td>\n",
       "<!--\t\t\t\t\t\t<td>Dec-17</td>-->\n",
       "</tr>\n",
       "<tr>\n",
       "<td>31</td>\n",
       "<td><a href=\"https://www.fasttrack.co.uk/company_profile/ladbible-group-2/\"><span class=\"company-name\">LADBible Group</span></a>Online entertainment community</td>\n",
       "<td>Manchester</td>\n",
       "<td>Dec-17</td>\n",
       "<td style=\"text-align:right;\">108.91%</td>\n",
       "<td style=\"text-align:right;\">*15,500</td>\n",
       "<td style=\"text-align:right;\">133</td>\n",
       "<td>Claims its flagship brand reaches more than half of all millennials in the UK every month</td>\n",
       "<!--\t\t\t\t\t\t<td>Dec-17</td>-->\n",
       "</tr>\n",
       "<tr>\n",
       "<td>32</td>\n",
       "<td><a href=\"https://www.fasttrack.co.uk/company_profile/threads-styling-2/\"><span class=\"company-name\">Threads Styling</span></a>Online fashion services</td>\n",
       "<td>East London</td>\n",
       "<td>Dec-17</td>\n",
       "<td style=\"text-align:right;\">107.88%</td>\n",
       "<td style=\"text-align:right;\">*12,672</td>\n",
       "<td style=\"text-align:right;\">55</td>\n",
       "<td>Some three-quarters of its sales are to fashionistas in the Middle East</td>\n",
       "<!--\t\t\t\t\t\t<td>Dec-17</td>-->\n",
       "</tr>\n",
       "<tr>\n",
       "<td>33</td>\n",
       "<td><a href=\"https://www.fasttrack.co.uk/company_profile/prodigy-finance-2/\"><span class=\"company-name\">Prodigy Finance</span></a>Student finance provider</td>\n",
       "<td>Central London</td>\n",
       "<td>Dec-17</td>\n",
       "<td style=\"text-align:right;\">105.94%</td>\n",
       "<td style=\"text-align:right;\">*10,273</td>\n",
       "<td style=\"text-align:right;\">133</td>\n",
       "<td>More than 10,000 students have used its platform to fund their postgraduate studies</td>\n",
       "<!--\t\t\t\t\t\t<td>Dec-17</td>-->\n",
       "</tr>\n",
       "<tr>\n",
       "<td>34</td>\n",
       "<td><a href=\"https://www.fasttrack.co.uk/company_profile/azimo/\"><span class=\"company-name\">Azimo</span></a>Online money transfers</td>\n",
       "<td>Central London</td>\n",
       "<td>Jun-17</td>\n",
       "<td style=\"text-align:right;\">103.79%</td>\n",
       "<td style=\"text-align:right;\">5,870</td>\n",
       "<td style=\"text-align:right;\">115</td>\n",
       "<td>Recently launched its international money transfer service for businesses</td>\n",
       "<!--\t\t\t\t\t\t<td>Jun-17</td>-->\n",
       "</tr>\n",
       "<tr>\n",
       "<td>35</td>\n",
       "<td><a href=\"https://www.fasttrack.co.uk/company_profile/chameleon-2/\"><span class=\"company-name\">Chameleon</span></a>Smart energy monitoring</td>\n",
       "<td>Harrogate</td>\n",
       "<td>Dec-17</td>\n",
       "<td style=\"text-align:right;\">101.10%</td>\n",
       "<td style=\"text-align:right;\">19,890</td>\n",
       "<td style=\"text-align:right;\">32</td>\n",
       "<td>About 2.5m of its energy display units have been installed in UK homes</td>\n",
       "<!--\t\t\t\t\t\t<td>Dec-17</td>-->\n",
       "</tr>\n",
       "<tr>\n",
       "<td>36</td>\n",
       "<td><a href=\"https://www.fasttrack.co.uk/company_profile/superawesome-2/\"><span class=\"company-name\">SuperAwesome</span></a>Children's privacy protection</td>\n",
       "<td>Central London</td>\n",
       "<td>Dec-17</td>\n",
       "<td style=\"text-align:right;\">97.91%</td>\n",
       "<td style=\"text-align:right;\">*14,935</td>\n",
       "<td style=\"text-align:right;\">130</td>\n",
       "<td>Last month it signed a deal with Pokémon Go, allowing parents to manage their child’s privacy settings</td>\n",
       "<!--\t\t\t\t\t\t<td>Dec-17</td>-->\n",
       "</tr>\n",
       "<tr>\n",
       "<td>37</td>\n",
       "<td><a href=\"https://www.fasttrack.co.uk/company_profile/gousto/\"><span class=\"company-name\">Gousto</span></a>Meal kit delivery services</td>\n",
       "<td>West London</td>\n",
       "<td>Dec-17</td>\n",
       "<td style=\"text-align:right;\">97.32%</td>\n",
       "<td style=\"text-align:right;\">*23,300</td>\n",
       "<td style=\"text-align:right;\">400</td>\n",
       "<td>Aims to provide the ingredients for 400m meals in UK homes by 2025</td>\n",
       "<!--\t\t\t\t\t\t<td>Dec-17</td>-->\n",
       "</tr>\n",
       "<tr>\n",
       "<td>38</td>\n",
       "<td><a href=\"https://www.fasttrack.co.uk/company_profile/vizolution/\"><span class=\"company-name\">Vizolution</span></a>Business software developer</td>\n",
       "<td>Swansea</td>\n",
       "<td>Dec-17</td>\n",
       "<td style=\"text-align:right;\">94.99%</td>\n",
       "<td style=\"text-align:right;\">*6,965</td>\n",
       "<td style=\"text-align:right;\">118</td>\n",
       "<td>Its DigiDocs software lets RBS customers complete mortgage applications digitally</td>\n",
       "<!--\t\t\t\t\t\t<td>Dec-17</td>-->\n",
       "</tr>\n",
       "<tr>\n",
       "<td>39</td>\n",
       "<td><a href=\"https://www.fasttrack.co.uk/company_profile/movegb/\"><span class=\"company-name\">MoveGB</span></a>Activity membership</td>\n",
       "<td>Bath</td>\n",
       "<td>Dec-17</td>\n",
       "<td style=\"text-align:right;\">94.93%</td>\n",
       "<td style=\"text-align:right;\">*5,029</td>\n",
       "<td style=\"text-align:right;\">41</td>\n",
       "<td>Has 300,000 subscribers gaining access to more than 6,000 fitness venues</td>\n",
       "<!--\t\t\t\t\t\t<td>Dec-17</td>-->\n",
       "</tr>\n",
       "<tr>\n",
       "<td>40</td>\n",
       "<td><a href=\"https://www.fasttrack.co.uk/company_profile/bboxx-3/\"><span class=\"company-name\">BBOXX</span></a>Solar system manufacturer</td>\n",
       "<td>West London</td>\n",
       "<td>Dec-17</td>\n",
       "<td style=\"text-align:right;\">93.35%</td>\n",
       "<td style=\"text-align:right;\">*20,416</td>\n",
       "<td style=\"text-align:right;\">443</td>\n",
       "<td>Has raised almost $70m in venture funding and debt financing</td>\n",
       "<!--\t\t\t\t\t\t<td>Dec-17</td>-->\n",
       "</tr>\n",
       "<tr>\n",
       "<td>41</td>\n",
       "<td><a href=\"https://www.fasttrack.co.uk/company_profile/funding-circle-4/\"><span class=\"company-name\">Funding Circle</span></a>Peer-to-peer lending platform</td>\n",
       "<td>Central London</td>\n",
       "<td>Dec-17</td>\n",
       "<td style=\"text-align:right;\">93.21%</td>\n",
       "<td style=\"text-align:right;\">*94,500</td>\n",
       "<td style=\"text-align:right;\">790</td>\n",
       "<td>Is planning an IPO in London this autumn that will value it at more than £1.5bn </td>\n",
       "<!--\t\t\t\t\t\t<td>Dec-17</td>-->\n",
       "</tr>\n",
       "<tr>\n",
       "<td>42</td>\n",
       "<td><a href=\"https://www.fasttrack.co.uk/company_profile/loopme-2/\"><span class=\"company-name\">LoopMe</span></a>Advertising technology developer</td>\n",
       "<td>Central London</td>\n",
       "<td>Dec-17</td>\n",
       "<td style=\"text-align:right;\">93.04%</td>\n",
       "<td style=\"text-align:right;\">24,493</td>\n",
       "<td style=\"text-align:right;\">91</td>\n",
       "<td>Says its AI technology reaches 2bn devices around the world</td>\n",
       "<!--\t\t\t\t\t\t<td>Dec-17</td>-->\n",
       "</tr>\n",
       "<tr>\n",
       "<td>43</td>\n",
       "<td><a href=\"https://www.fasttrack.co.uk/company_profile/kano-3/\"><span class=\"company-name\">Kano</span></a>Educational computer developer</td>\n",
       "<td>East London</td>\n",
       "<td>Dec-17</td>\n",
       "<td style=\"text-align:right;\">91.81%</td>\n",
       "<td style=\"text-align:right;\">*13,000</td>\n",
       "<td style=\"text-align:right;\">60</td>\n",
       "<td>Has customers in 150 countries and aims to have 100m global users by 2020</td>\n",
       "<!--\t\t\t\t\t\t<td>Dec-17</td>-->\n",
       "</tr>\n",
       "<tr>\n",
       "<td>44</td>\n",
       "<td><a href=\"https://www.fasttrack.co.uk/company_profile/capital-on-tap-2/\"><span class=\"company-name\">Capital on Tap</span></a>Business finance provider</td>\n",
       "<td>West London</td>\n",
       "<td>Mar-18</td>\n",
       "<td style=\"text-align:right;\">88.73%</td>\n",
       "<td style=\"text-align:right;\">17,318</td>\n",
       "<td style=\"text-align:right;\">56</td>\n",
       "<td>This company’s founders also set up Paymentsense, No 91 in the league table</td>\n",
       "<!--\t\t\t\t\t\t<td>Mar-18</td>-->\n",
       "</tr>\n",
       "<tr>\n",
       "<td>45</td>\n",
       "<td><a href=\"https://www.fasttrack.co.uk/company_profile/hutch/\"><span class=\"company-name\">Hutch</span></a>Video games developer</td>\n",
       "<td>Central London</td>\n",
       "<td>Sep-17</td>\n",
       "<td style=\"text-align:right;\">88.63%</td>\n",
       "<td style=\"text-align:right;\">*8,766 (2017)</td>\n",
       "<td style=\"text-align:right;\">51</td>\n",
       "<td>Its Hot Wheels Race Off game has been played in 190 countries including Antarctica and Vatican City</td>\n",
       "<!--\t\t\t\t\t\t<td>Sep-17</td>-->\n",
       "</tr>\n",
       "<tr>\n",
       "<td>46</td>\n",
       "<td><a href=\"https://www.fasttrack.co.uk/company_profile/ensek/\"><span class=\"company-name\">ENSEK</span></a>Energy software developer</td>\n",
       "<td>Nottingham</td>\n",
       "<td>Mar-18</td>\n",
       "<td style=\"text-align:right;\">87.56%</td>\n",
       "<td style=\"text-align:right;\">*6,161</td>\n",
       "<td style=\"text-align:right;\">110</td>\n",
       "<td>A fifth of the UK’s energy suppliers are said to use this company’s software</td>\n",
       "<!--\t\t\t\t\t\t<td>Mar-18</td>-->\n",
       "</tr>\n",
       "<tr>\n",
       "<td>47</td>\n",
       "<td><a href=\"https://www.fasttrack.co.uk/company_profile/miq-3/\"><span class=\"company-name\">MiQ</span></a>Digital marketing agency</td>\n",
       "<td>Central London</td>\n",
       "<td>Dec-17</td>\n",
       "<td style=\"text-align:right;\">87.36%</td>\n",
       "<td style=\"text-align:right;\">*155,876</td>\n",
       "<td style=\"text-align:right;\">561</td>\n",
       "<td>Relocated its New York base in April, tripling its office space</td>\n",
       "<!--\t\t\t\t\t\t<td>Dec-17</td>-->\n",
       "</tr>\n",
       "<tr>\n",
       "<td>48</td>\n",
       "<td><a href=\"https://www.fasttrack.co.uk/company_profile/starleaf-2/\"><span class=\"company-name\">StarLeaf</span></a>Video conferencing platform</td>\n",
       "<td>Watford</td>\n",
       "<td>Dec-17</td>\n",
       "<td style=\"text-align:right;\">86.89%</td>\n",
       "<td style=\"text-align:right;\">11,427</td>\n",
       "<td style=\"text-align:right;\">133</td>\n",
       "<td>Its founders set up the Tech Track 100 alumnus Codian and sold it for $270m in 2007</td>\n",
       "<!--\t\t\t\t\t\t<td>Dec-17</td>-->\n",
       "</tr>\n",
       "<tr>\n",
       "<td>49</td>\n",
       "<td><a href=\"https://www.fasttrack.co.uk/company_profile/bigchange/\"><span class=\"company-name\">BigChange</span></a>Management software developer</td>\n",
       "<td>Leeds</td>\n",
       "<td>Dec-17</td>\n",
       "<td style=\"text-align:right;\">86.45%</td>\n",
       "<td style=\"text-align:right;\">*6,566</td>\n",
       "<td style=\"text-align:right;\">41</td>\n",
       "<td>Last year its technology saved 15m sheets of paper and facilitated 9m tasks</td>\n",
       "<!--\t\t\t\t\t\t<td>Dec-17</td>-->\n",
       "</tr>\n",
       "<tr>\n",
       "<td>50</td>\n",
       "<td><a href=\"https://www.fasttrack.co.uk/company_profile/the-lead-agency/\"><span class=\"company-name\">The Lead Agency</span></a>Lead generation developer</td>\n",
       "<td>Liverpool</td>\n",
       "<td>Dec-17</td>\n",
       "<td style=\"text-align:right;\">80.38%</td>\n",
       "<td style=\"text-align:right;\">†6,383</td>\n",
       "<td style=\"text-align:right;\">96</td>\n",
       "<td>Works with every large automotive brand in the UK</td>\n",
       "<!--\t\t\t\t\t\t<td>Dec-17</td>-->\n",
       "</tr>\n",
       "<tr>\n",
       "<td>51</td>\n",
       "<td><a href=\"https://www.fasttrack.co.uk/company_profile/unidays-3/\"><span class=\"company-name\">UNiDAYS</span></a>Student verification services</td>\n",
       "<td>Nottingham</td>\n",
       "<td>Apr-18</td>\n",
       "<td style=\"text-align:right;\">80.03%</td>\n",
       "<td style=\"text-align:right;\">*27,400</td>\n",
       "<td style=\"text-align:right;\">210</td>\n",
       "<td>Connects brands with 10m students in 114 countries</td>\n",
       "<!--\t\t\t\t\t\t<td>Apr-18</td>-->\n",
       "</tr>\n",
       "<tr>\n",
       "<td>52</td>\n",
       "<td><a href=\"https://www.fasttrack.co.uk/company_profile/farfetch-3/\"><span class=\"company-name\">Farfetch</span></a>Online fashion platform</td>\n",
       "<td>East London</td>\n",
       "<td>Dec-17</td>\n",
       "<td style=\"text-align:right;\">78.31%</td>\n",
       "<td style=\"text-align:right;\">*299,812</td>\n",
       "<td style=\"text-align:right;\">2,700</td>\n",
       "<td>Has announced plans to float in the US with a reported $5bn valuation</td>\n",
       "<!--\t\t\t\t\t\t<td>Dec-17</td>-->\n",
       "</tr>\n",
       "<tr>\n",
       "<td>53</td>\n",
       "<td><a href=\"https://www.fasttrack.co.uk/company_profile/assetz-capital/\"><span class=\"company-name\">Assetz Capital</span></a>Peer-to-peer lending platform</td>\n",
       "<td>Manchester</td>\n",
       "<td>Mar-18</td>\n",
       "<td style=\"text-align:right;\">77.91%</td>\n",
       "<td style=\"text-align:right;\">*13,700</td>\n",
       "<td style=\"text-align:right;\">98</td>\n",
       "<td>Has funded the construction of 1,800 new homes since 2013</td>\n",
       "<!--\t\t\t\t\t\t<td>Mar-18</td>-->\n",
       "</tr>\n",
       "<tr>\n",
       "<td>54</td>\n",
       "<td><a href=\"https://www.fasttrack.co.uk/company_profile/ipulse-3/\"><span class=\"company-name\">iPulse</span></a>Hair removal technology</td>\n",
       "<td>Swansea</td>\n",
       "<td>Dec-17</td>\n",
       "<td style=\"text-align:right;\">77.12%</td>\n",
       "<td style=\"text-align:right;\">*32,874</td>\n",
       "<td style=\"text-align:right;\">39</td>\n",
       "<td>Almost 95% of its hair removal devices are sold overseas</td>\n",
       "<!--\t\t\t\t\t\t<td>Dec-17</td>-->\n",
       "</tr>\n",
       "<tr>\n",
       "<td>55</td>\n",
       "<td><a href=\"https://www.fasttrack.co.uk/company_profile/giacom-2/\"><span class=\"company-name\">Giacom</span></a>Cloud services provider</td>\n",
       "<td>Hull</td>\n",
       "<td>Jul-17</td>\n",
       "<td style=\"text-align:right;\">76.14%</td>\n",
       "<td style=\"text-align:right;\">13,883</td>\n",
       "<td style=\"text-align:right;\">49</td>\n",
       "<td>It now reaches more than 500,000 end users across the UK</td>\n",
       "<!--\t\t\t\t\t\t<td>Jul-17</td>-->\n",
       "</tr>\n",
       "<tr>\n",
       "<td>56</td>\n",
       "<td><a href=\"https://www.fasttrack.co.uk/company_profile/arcus-global/\"><span class=\"company-name\">Arcus Global</span></a>Cloud IT developer</td>\n",
       "<td>Cambridge</td>\n",
       "<td>Jun-17</td>\n",
       "<td style=\"text-align:right;\">75.57%</td>\n",
       "<td style=\"text-align:right;\">*9,681</td>\n",
       "<td style=\"text-align:right;\">110</td>\n",
       "<td>In May it secured a £3m investment from the private equity firm YFM, valuing it at £27m</td>\n",
       "<!--\t\t\t\t\t\t<td>Jun-17</td>-->\n",
       "</tr>\n",
       "<tr>\n",
       "<td>57</td>\n",
       "<td><a href=\"https://www.fasttrack.co.uk/company_profile/disguise/\"><span class=\"company-name\">disguise</span></a>Live event technology provider</td>\n",
       "<td>Central London</td>\n",
       "<td>Dec-17</td>\n",
       "<td style=\"text-align:right;\">75.46%</td>\n",
       "<td style=\"text-align:right;\">*17,971</td>\n",
       "<td style=\"text-align:right;\">59</td>\n",
       "<td>Customers include the likes of Disney and Universal Studios</td>\n",
       "<!--\t\t\t\t\t\t<td>Dec-17</td>-->\n",
       "</tr>\n",
       "<tr>\n",
       "<td>58</td>\n",
       "<td><a href=\"https://www.fasttrack.co.uk/company_profile/tech21-7/\"><span class=\"company-name\">Tech21</span></a>Device impact protection maker</td>\n",
       "<td>Southwest London</td>\n",
       "<td>May-17</td>\n",
       "<td style=\"text-align:right;\">75.34%</td>\n",
       "<td style=\"text-align:right;\">121,576</td>\n",
       "<td style=\"text-align:right;\">81</td>\n",
       "<td>Became an inaugural member of Google’s certified accessories programme last year</td>\n",
       "<!--\t\t\t\t\t\t<td>May-17</td>-->\n",
       "</tr>\n",
       "<tr>\n",
       "<td>59</td>\n",
       "<td><a href=\"https://www.fasttrack.co.uk/company_profile/victor-5/\"><span class=\"company-name\">Victor</span></a>Online private jet hire</td>\n",
       "<td>Central London</td>\n",
       "<td>Dec-17</td>\n",
       "<td style=\"text-align:right;\">74.13%</td>\n",
       "<td style=\"text-align:right;\">*41,508</td>\n",
       "<td style=\"text-align:right;\">113</td>\n",
       "<td>Counts Sir Elton John among its investors</td>\n",
       "<!--\t\t\t\t\t\t<td>Dec-17</td>-->\n",
       "</tr>\n",
       "<tr>\n",
       "<td>60</td>\n",
       "<td><a href=\"https://www.fasttrack.co.uk/company_profile/cinesite-2/\"><span class=\"company-name\">Cinesite</span></a>Visual effects and animation</td>\n",
       "<td>Central London</td>\n",
       "<td>Apr-17</td>\n",
       "<td style=\"text-align:right;\">74.11%</td>\n",
       "<td style=\"text-align:right;\">43,888</td>\n",
       "<td style=\"text-align:right;\">699</td>\n",
       "<td>Is producing visual effects for Mary Poppins Returns and the Marvel franchise</td>\n",
       "<!--\t\t\t\t\t\t<td>Apr-17</td>-->\n",
       "</tr>\n",
       "<tr>\n",
       "<td>61</td>\n",
       "<td><a href=\"https://www.fasttrack.co.uk/company_profile/biosite-systems/\"><span class=\"company-name\">Biosite Systems</span></a>Workforce management software</td>\n",
       "<td>Solihull</td>\n",
       "<td>Jul-17</td>\n",
       "<td style=\"text-align:right;\">74.04%</td>\n",
       "<td style=\"text-align:right;\">*6,401</td>\n",
       "<td style=\"text-align:right;\">117</td>\n",
       "<td>More than 200,000 of the UK’s construction workers are registered on its systems</td>\n",
       "<!--\t\t\t\t\t\t<td>Jul-17</td>-->\n",
       "</tr>\n",
       "<tr>\n",
       "<td>62</td>\n",
       "<td><a href=\"https://www.fasttrack.co.uk/company_profile/ecometrica/\"><span class=\"company-name\">Ecometrica</span></a>Environmental reporting software</td>\n",
       "<td>Edinburgh</td>\n",
       "<td>Mar-18</td>\n",
       "<td style=\"text-align:right;\">71.67%</td>\n",
       "<td style=\"text-align:right;\">5,496</td>\n",
       "<td style=\"text-align:right;\">40</td>\n",
       "<td>Helps 250 companies on five continents to manage their environmental impacts</td>\n",
       "<!--\t\t\t\t\t\t<td>Mar-18</td>-->\n",
       "</tr>\n",
       "<tr>\n",
       "<td>63</td>\n",
       "<td><a href=\"https://www.fasttrack.co.uk/company_profile/qualasept-pharmaxo-3/\"><span class=\"company-name\">Qualasept Pharmaxo</span></a>Pharmaceuticals manufacturer</td>\n",
       "<td>Wiltshire</td>\n",
       "<td>Apr-17</td>\n",
       "<td style=\"text-align:right;\">70.89%</td>\n",
       "<td style=\"text-align:right;\">152,744</td>\n",
       "<td style=\"text-align:right;\">156</td>\n",
       "<td>Its manufacturing facility and offices have a zero carbon footprint</td>\n",
       "<!--\t\t\t\t\t\t<td>Apr-17</td>-->\n",
       "</tr>\n",
       "<tr>\n",
       "<td>64</td>\n",
       "<td><a href=\"https://www.fasttrack.co.uk/company_profile/edesix/\"><span class=\"company-name\">Edesix</span></a>Body camera manufacturer</td>\n",
       "<td>Edinburgh</td>\n",
       "<td>Dec-17</td>\n",
       "<td style=\"text-align:right;\">70.52%</td>\n",
       "<td style=\"text-align:right;\">*5,900</td>\n",
       "<td style=\"text-align:right;\">47</td>\n",
       "<td>Founders Richie McBride and Robin Iddon competed on the TV show Robot Wars</td>\n",
       "<!--\t\t\t\t\t\t<td>Dec-17</td>-->\n",
       "</tr>\n",
       "<tr>\n",
       "<td>65</td>\n",
       "<td><a href=\"https://www.fasttrack.co.uk/company_profile/lendinvest-3/\"><span class=\"company-name\">LendInvest</span></a>Property finance provider</td>\n",
       "<td>Central London</td>\n",
       "<td>Mar-18</td>\n",
       "<td style=\"text-align:right;\">70.13%</td>\n",
       "<td style=\"text-align:right;\">35,617</td>\n",
       "<td style=\"text-align:right;\">128</td>\n",
       "<td>Has facilitated more than £1.4bn of property loans</td>\n",
       "<!--\t\t\t\t\t\t<td>Mar-18</td>-->\n",
       "</tr>\n",
       "<tr>\n",
       "<td>66</td>\n",
       "<td><a href=\"https://www.fasttrack.co.uk/company_profile/e3d-online/\"><span class=\"company-name\">E3D Online</span></a>3D printer developer</td>\n",
       "<td>Oxfordshire</td>\n",
       "<td>Apr-18</td>\n",
       "<td style=\"text-align:right;\">69.08%</td>\n",
       "<td style=\"text-align:right;\">*5,800</td>\n",
       "<td style=\"text-align:right;\">41</td>\n",
       "<td>Has grown its exports to account for 75% of its total sales</td>\n",
       "<!--\t\t\t\t\t\t<td>Apr-18</td>-->\n",
       "</tr>\n",
       "<tr>\n",
       "<td>67</td>\n",
       "<td><a href=\"https://www.fasttrack.co.uk/company_profile/lyst-2/\"><span class=\"company-name\">Lyst</span></a>Fashion search platform</td>\n",
       "<td>East London</td>\n",
       "<td>Mar-18</td>\n",
       "<td style=\"text-align:right;\">68.34%</td>\n",
       "<td style=\"text-align:right;\">*15,300</td>\n",
       "<td style=\"text-align:right;\">100</td>\n",
       "<td>LVMH, the owner of Christian Dior and Louis Vuitton, invested an undisclosed amount in May</td>\n",
       "<!--\t\t\t\t\t\t<td>Mar-18</td>-->\n",
       "</tr>\n",
       "<tr>\n",
       "<td>68</td>\n",
       "<td><a href=\"https://www.fasttrack.co.uk/company_profile/diaceutics/\"><span class=\"company-name\">Diaceutics</span></a>Medtech research provider</td>\n",
       "<td>Belfast</td>\n",
       "<td>Dec-17</td>\n",
       "<td style=\"text-align:right;\">67.80%</td>\n",
       "<td style=\"text-align:right;\">*7,390</td>\n",
       "<td style=\"text-align:right;\">57</td>\n",
       "<td>Works with 31 of the top 35 pharmaceutical companies in the world</td>\n",
       "<!--\t\t\t\t\t\t<td>Dec-17</td>-->\n",
       "</tr>\n",
       "<tr>\n",
       "<td>69</td>\n",
       "<td><a href=\"https://www.fasttrack.co.uk/company_profile/amplience/\"><span class=\"company-name\">Amplience</span></a>Digital media technology</td>\n",
       "<td>Central London</td>\n",
       "<td>Jun-17</td>\n",
       "<td style=\"text-align:right;\">66.25%</td>\n",
       "<td style=\"text-align:right;\">*8,147</td>\n",
       "<td style=\"text-align:right;\">85</td>\n",
       "<td>Helps retailers such as Argos and Mulberry to create and manage online content</td>\n",
       "<!--\t\t\t\t\t\t<td>Jun-17</td>-->\n",
       "</tr>\n",
       "<tr>\n",
       "<td>70</td>\n",
       "<td><a href=\"https://www.fasttrack.co.uk/company_profile/glucorx/\"><span class=\"company-name\">GlucoRx</span></a>Diabetes product manufacturer</td>\n",
       "<td>Woking</td>\n",
       "<td>Mar-17</td>\n",
       "<td style=\"text-align:right;\">65.52%</td>\n",
       "<td style=\"text-align:right;\">24,885</td>\n",
       "<td style=\"text-align:right;\">26</td>\n",
       "<td>Claims to have saved the NHS £150m in the past three years</td>\n",
       "<!--\t\t\t\t\t\t<td>Mar-17</td>-->\n",
       "</tr>\n",
       "<tr>\n",
       "<td>71</td>\n",
       "<td><a href=\"https://www.fasttrack.co.uk/company_profile/love-energy-savings-2/\"><span class=\"company-name\">Love Energy Savings</span></a>Price comparison website</td>\n",
       "<td>Bolton</td>\n",
       "<td>Dec-17</td>\n",
       "<td style=\"text-align:right;\">64.26%</td>\n",
       "<td style=\"text-align:right;\">17,361</td>\n",
       "<td style=\"text-align:right;\">183</td>\n",
       "<td>Has helped 145,000 UK homes and businesses save on energy costs since 2007</td>\n",
       "<!--\t\t\t\t\t\t<td>Dec-17</td>-->\n",
       "</tr>\n",
       "<tr>\n",
       "<td>72</td>\n",
       "<td><a href=\"https://www.fasttrack.co.uk/company_profile/creative-virtual/\"><span class=\"company-name\">Creative Virtual</span></a>Chatbot developer</td>\n",
       "<td>East London</td>\n",
       "<td>Dec-17</td>\n",
       "<td style=\"text-align:right;\">63.30%</td>\n",
       "<td style=\"text-align:right;\">*8,400</td>\n",
       "<td style=\"text-align:right;\">99</td>\n",
       "<td>Its trademarked chatbot can be used through Facebook Messenger and Amazon Alexa</td>\n",
       "<!--\t\t\t\t\t\t<td>Dec-17</td>-->\n",
       "</tr>\n",
       "<tr>\n",
       "<td>73</td>\n",
       "<td><a href=\"https://www.fasttrack.co.uk/company_profile/ebury-4/\"><span class=\"company-name\">Ebury</span></a>Business finance provider</td>\n",
       "<td>Central London</td>\n",
       "<td>Apr-18</td>\n",
       "<td style=\"text-align:right;\">62.77%</td>\n",
       "<td style=\"text-align:right;\">*47,000</td>\n",
       "<td style=\"text-align:right;\">628</td>\n",
       "<td>Has traded £12.5bn in foreign exchange in 140 different currencies</td>\n",
       "<!--\t\t\t\t\t\t<td>Apr-18</td>-->\n",
       "</tr>\n",
       "<tr>\n",
       "<td>74</td>\n",
       "<td><a href=\"https://www.fasttrack.co.uk/company_profile/zappistore-2/\"><span class=\"company-name\">ZappiStore</span></a>Research services provider</td>\n",
       "<td>Central London</td>\n",
       "<td>Dec-17</td>\n",
       "<td style=\"text-align:right;\">61.62%</td>\n",
       "<td style=\"text-align:right;\">19,323</td>\n",
       "<td style=\"text-align:right;\">128</td>\n",
       "<td>Holds weekly hackathons with its clients and programmers</td>\n",
       "<!--\t\t\t\t\t\t<td>Dec-17</td>-->\n",
       "</tr>\n",
       "<tr>\n",
       "<td>75</td>\n",
       "<td><a href=\"https://www.fasttrack.co.uk/company_profile/blis-3/\"><span class=\"company-name\">Blis</span></a>Location data technology</td>\n",
       "<td>Central London</td>\n",
       "<td>Dec-17</td>\n",
       "<td style=\"text-align:right;\">61.28%</td>\n",
       "<td style=\"text-align:right;\">*33,400</td>\n",
       "<td style=\"text-align:right;\">186</td>\n",
       "<td>Analyses more than 5.5bn data points each day</td>\n",
       "<!--\t\t\t\t\t\t<td>Dec-17</td>-->\n",
       "</tr>\n",
       "<tr>\n",
       "<td>76</td>\n",
       "<td><a href=\"https://www.fasttrack.co.uk/company_profile/bookingbug/\"><span class=\"company-name\">BookingBug</span></a>Booking systems developer</td>\n",
       "<td>Central London</td>\n",
       "<td>Mar-18</td>\n",
       "<td style=\"text-align:right;\">60.61%</td>\n",
       "<td style=\"text-align:right;\">*6,937</td>\n",
       "<td style=\"text-align:right;\">117</td>\n",
       "<td>Raised nearly £10m in April from backers including PeakSpan Capital and Downing Ventures</td>\n",
       "<!--\t\t\t\t\t\t<td>Mar-18</td>-->\n",
       "</tr>\n",
       "<tr>\n",
       "<td>77</td>\n",
       "<td><a href=\"https://www.fasttrack.co.uk/company_profile/egress-2/\"><span class=\"company-name\">Egress</span></a>Data security provider</td>\n",
       "<td>Central London</td>\n",
       "<td>Dec-17</td>\n",
       "<td style=\"text-align:right;\">60.22%</td>\n",
       "<td style=\"text-align:right;\">9,403</td>\n",
       "<td style=\"text-align:right;\">115</td>\n",
       "<td>Users of its platform can revoke access to emails after they have reached the recipient’s inbox</td>\n",
       "<!--\t\t\t\t\t\t<td>Dec-17</td>-->\n",
       "</tr>\n",
       "<tr>\n",
       "<td>78</td>\n",
       "<td><a href=\"https://www.fasttrack.co.uk/company_profile/contis-group/\"><span class=\"company-name\">Contis Group</span></a>Payment services provider</td>\n",
       "<td>North Yorkshire</td>\n",
       "<td>Mar-17</td>\n",
       "<td style=\"text-align:right;\">59.56%</td>\n",
       "<td style=\"text-align:right;\">7,161</td>\n",
       "<td style=\"text-align:right;\">86</td>\n",
       "<td>Appointed the former European boss of American Express to drive sales on the continent</td>\n",
       "<!--\t\t\t\t\t\t<td>Mar-17</td>-->\n",
       "</tr>\n",
       "<tr>\n",
       "<td>79</td>\n",
       "<td><a href=\"https://www.fasttrack.co.uk/company_profile/pm-connect-2/\"><span class=\"company-name\">PM Connect</span></a>Mobile content provider</td>\n",
       "<td>Birmingham</td>\n",
       "<td>Feb-18</td>\n",
       "<td style=\"text-align:right;\">59.44%</td>\n",
       "<td style=\"text-align:right;\">*19,317</td>\n",
       "<td style=\"text-align:right;\">35</td>\n",
       "<td>Its clients include World Wrestling Entertainment and the NBA</td>\n",
       "<!--\t\t\t\t\t\t<td>Feb-18</td>-->\n",
       "</tr>\n",
       "<tr>\n",
       "<td>80</td>\n",
       "<td><a href=\"https://www.fasttrack.co.uk/company_profile/zopa-5/\"><span class=\"company-name\">Zopa</span></a>Peer-to-peer lending platform</td>\n",
       "<td>South London</td>\n",
       "<td>Dec-17</td>\n",
       "<td style=\"text-align:right;\">59.43%</td>\n",
       "<td style=\"text-align:right;\">*46,500</td>\n",
       "<td style=\"text-align:right;\">312</td>\n",
       "<td>About £3.5bn has been advanced through its platform</td>\n",
       "<!--\t\t\t\t\t\t<td>Dec-17</td>-->\n",
       "</tr>\n",
       "<tr>\n",
       "<td>81</td>\n",
       "<td><a href=\"https://www.fasttrack.co.uk/company_profile/worldremit-3/\"><span class=\"company-name\">WorldRemit</span></a>Online money transfers</td>\n",
       "<td>Central London</td>\n",
       "<td>Dec-17</td>\n",
       "<td style=\"text-align:right;\">59.07%</td>\n",
       "<td style=\"text-align:right;\">*61,000</td>\n",
       "<td style=\"text-align:right;\">440</td>\n",
       "<td>Has raised $220m since 2010 to expand its online money transfer service</td>\n",
       "<!--\t\t\t\t\t\t<td>Dec-17</td>-->\n",
       "</tr>\n",
       "<tr>\n",
       "<td>82</td>\n",
       "<td><a href=\"https://www.fasttrack.co.uk/company_profile/dianomi-3/\"><span class=\"company-name\">Dianomi</span></a>Financial content marketing</td>\n",
       "<td>Central London</td>\n",
       "<td>Dec-17</td>\n",
       "<td style=\"text-align:right;\">58.99%</td>\n",
       "<td style=\"text-align:right;\">*12,861</td>\n",
       "<td style=\"text-align:right;\">25</td>\n",
       "<td>Works with eight of the top 10 global asset managers</td>\n",
       "<!--\t\t\t\t\t\t<td>Dec-17</td>-->\n",
       "</tr>\n",
       "<tr>\n",
       "<td>83</td>\n",
       "<td><a href=\"https://www.fasttrack.co.uk/company_profile/liberis/\"><span class=\"company-name\">Liberis</span></a>Cash advance provider</td>\n",
       "<td>West London</td>\n",
       "<td>Dec-17</td>\n",
       "<td style=\"text-align:right;\">57.99%</td>\n",
       "<td style=\"text-align:right;\">*15,150</td>\n",
       "<td style=\"text-align:right;\">75</td>\n",
       "<td>Received £57.5m in funding in April from investors including Blenheim Chalcot</td>\n",
       "<!--\t\t\t\t\t\t<td>Dec-17</td>-->\n",
       "</tr>\n",
       "<tr>\n",
       "<td>84</td>\n",
       "<td><a href=\"https://www.fasttrack.co.uk/company_profile/currencycloud/\"><span class=\"company-name\">Currencycloud</span></a>Payment services provider</td>\n",
       "<td>East London</td>\n",
       "<td>Dec-17</td>\n",
       "<td style=\"text-align:right;\">57.48%</td>\n",
       "<td style=\"text-align:right;\">*13,600</td>\n",
       "<td style=\"text-align:right;\">140</td>\n",
       "<td>Has 250 clients and 2m end users across the world</td>\n",
       "<!--\t\t\t\t\t\t<td>Dec-17</td>-->\n",
       "</tr>\n",
       "<tr>\n",
       "<td>85</td>\n",
       "<td><a href=\"https://www.fasttrack.co.uk/company_profile/featurespace/\"><span class=\"company-name\">Featurespace</span></a>Analytics software developer</td>\n",
       "<td>Cambridge</td>\n",
       "<td>Dec-17</td>\n",
       "<td style=\"text-align:right;\">57.48%</td>\n",
       "<td style=\"text-align:right;\">*5,170</td>\n",
       "<td style=\"text-align:right;\">113</td>\n",
       "<td>Is recruiting for more than 100 positions this year, following customer demand in UK and US</td>\n",
       "<!--\t\t\t\t\t\t<td>Dec-17</td>-->\n",
       "</tr>\n",
       "<tr>\n",
       "<td>86</td>\n",
       "<td><a href=\"https://www.fasttrack.co.uk/company_profile/cloud-technology-solutions-3/\"><span class=\"company-name\">Cloud Technology Solutions</span></a>Cloud IT developer</td>\n",
       "<td>Manchester</td>\n",
       "<td>Mar-18</td>\n",
       "<td style=\"text-align:right;\">57.21%</td>\n",
       "<td style=\"text-align:right;\">*21,902</td>\n",
       "<td style=\"text-align:right;\">102</td>\n",
       "<td>Its software has moved nearly 12,000 companies in 20 countries onto Google Apps</td>\n",
       "<!--\t\t\t\t\t\t<td>Mar-18</td>-->\n",
       "</tr>\n",
       "<tr>\n",
       "<td>87</td>\n",
       "<td><a href=\"https://www.fasttrack.co.uk/company_profile/leisure-pass-group-3/\"><span class=\"company-name\">Leisure Pass Group</span></a>Tourism smartcard developer</td>\n",
       "<td>Central London</td>\n",
       "<td>Dec-17</td>\n",
       "<td style=\"text-align:right;\">57.16%</td>\n",
       "<td style=\"text-align:right;\">†225,803</td>\n",
       "<td style=\"text-align:right;\">105</td>\n",
       "<td>Has partnered with the booking platform Ctrip to target Chinese tourists visiting Europe</td>\n",
       "<!--\t\t\t\t\t\t<td>Dec-17</td>-->\n",
       "</tr>\n",
       "<tr>\n",
       "<td>88</td>\n",
       "<td><a href=\"https://www.fasttrack.co.uk/company_profile/rradar/\"><span class=\"company-name\">rradar</span></a>Legal digital services</td>\n",
       "<td>Hull</td>\n",
       "<td>Dec-17</td>\n",
       "<td style=\"text-align:right;\">57.03%</td>\n",
       "<td style=\"text-align:right;\">*5,083</td>\n",
       "<td style=\"text-align:right;\">125</td>\n",
       "<td>Uses machine learning and AI to provide legal advice to customers</td>\n",
       "<!--\t\t\t\t\t\t<td>Dec-17</td>-->\n",
       "</tr>\n",
       "<tr>\n",
       "<td>89</td>\n",
       "<td><a href=\"https://www.fasttrack.co.uk/company_profile/converge-ts/\"><span class=\"company-name\">Converge TS</span></a>Cloud services provider</td>\n",
       "<td>Cheshire</td>\n",
       "<td>Dec-17</td>\n",
       "<td style=\"text-align:right;\">55.00%</td>\n",
       "<td style=\"text-align:right;\">*5,802</td>\n",
       "<td style=\"text-align:right;\">38</td>\n",
       "<td>Focused solely on the legal sector after its first three clients were all law firms</td>\n",
       "<!--\t\t\t\t\t\t<td>Dec-17</td>-->\n",
       "</tr>\n",
       "<tr>\n",
       "<td>90</td>\n",
       "<td><a href=\"https://www.fasttrack.co.uk/company_profile/kimble-applications-2/\"><span class=\"company-name\">Kimble Applications</span></a>Software developer</td>\n",
       "<td>Central London</td>\n",
       "<td>Dec-17</td>\n",
       "<td style=\"text-align:right;\">54.67%</td>\n",
       "<td style=\"text-align:right;\">*9,153</td>\n",
       "<td style=\"text-align:right;\">78</td>\n",
       "<td>More than half of its new business is in the US, where it has offices in Boston and Park City</td>\n",
       "<!--\t\t\t\t\t\t<td>Dec-17</td>-->\n",
       "</tr>\n",
       "<tr>\n",
       "<td>91</td>\n",
       "<td><a href=\"https://www.fasttrack.co.uk/company_profile/paymentsense-8/\"><span class=\"company-name\">Paymentsense</span></a>Payment services provider</td>\n",
       "<td>West London</td>\n",
       "<td>Mar-18</td>\n",
       "<td style=\"text-align:right;\">53.54%</td>\n",
       "<td style=\"text-align:right;\">*72,400</td>\n",
       "<td style=\"text-align:right;\">243</td>\n",
       "<td>Processed more than £6.5bn of card payments last year in the UK and Ireland</td>\n",
       "<!--\t\t\t\t\t\t<td>Mar-18</td>-->\n",
       "</tr>\n",
       "<tr>\n",
       "<td>92</td>\n",
       "<td><a href=\"https://www.fasttrack.co.uk/company_profile/godel-technologies-2/\"><span class=\"company-name\">Godel Technologies</span></a>Software developer</td>\n",
       "<td>Manchester</td>\n",
       "<td>Dec-17</td>\n",
       "<td style=\"text-align:right;\">53.01%</td>\n",
       "<td style=\"text-align:right;\">*13,853</td>\n",
       "<td style=\"text-align:right;\">637</td>\n",
       "<td>Is named after the late German mathematician Kurt Gödel</td>\n",
       "<!--\t\t\t\t\t\t<td>Dec-17</td>-->\n",
       "</tr>\n",
       "<tr>\n",
       "<td>93</td>\n",
       "<td><a href=\"https://www.fasttrack.co.uk/company_profile/secret-escapes-2/\"><span class=\"company-name\">Secret Escapes</span></a>Online travel services</td>\n",
       "<td>Central London</td>\n",
       "<td>Dec-17</td>\n",
       "<td style=\"text-align:right;\">52.99%</td>\n",
       "<td style=\"text-align:right;\">*73,000</td>\n",
       "<td style=\"text-align:right;\">850</td>\n",
       "<td>Has raised £132m from investors including Google Ventures</td>\n",
       "<!--\t\t\t\t\t\t<td>Dec-17</td>-->\n",
       "</tr>\n",
       "<tr>\n",
       "<td>94</td>\n",
       "<td><a href=\"https://www.fasttrack.co.uk/company_profile/neuven-4/\"><span class=\"company-name\">Neuven</span></a>HR software developer</td>\n",
       "<td>Manchester</td>\n",
       "<td>Jul-17</td>\n",
       "<td style=\"text-align:right;\">52.23%</td>\n",
       "<td style=\"text-align:right;\">130,071</td>\n",
       "<td style=\"text-align:right;\">28</td>\n",
       "<td>Appearing on Tech Track 100 for a fourth consecutive year</td>\n",
       "<!--\t\t\t\t\t\t<td>Jul-17</td>-->\n",
       "</tr>\n",
       "<tr>\n",
       "<td>95</td>\n",
       "<td><a href=\"https://www.fasttrack.co.uk/company_profile/citnow-3/\"><span class=\"company-name\">CitNOW</span></a>Video software developer</td>\n",
       "<td>Wokingham</td>\n",
       "<td>Dec-17</td>\n",
       "<td style=\"text-align:right;\">51.85%</td>\n",
       "<td style=\"text-align:right;\">*11,611</td>\n",
       "<td style=\"text-align:right;\">71</td>\n",
       "<td>Has more than 8,000 installations in franchised car dealerships in 45 countries</td>\n",
       "<!--\t\t\t\t\t\t<td>Dec-17</td>-->\n",
       "</tr>\n",
       "<tr>\n",
       "<td>96</td>\n",
       "<td><a href=\"https://www.fasttrack.co.uk/company_profile/geo-2/\"><span class=\"company-name\">geo</span></a>Smart energy monitoring</td>\n",
       "<td>Cambridge</td>\n",
       "<td>Mar-18</td>\n",
       "<td style=\"text-align:right;\">51.24%</td>\n",
       "<td style=\"text-align:right;\">*29,406</td>\n",
       "<td style=\"text-align:right;\">85</td>\n",
       "<td>Customers in Norway, Sweden and Luxembourg use its smart energy monitoring devices</td>\n",
       "<!--\t\t\t\t\t\t<td>Mar-18</td>-->\n",
       "</tr>\n",
       "<tr>\n",
       "<td>97</td>\n",
       "<td><a href=\"https://www.fasttrack.co.uk/company_profile/vision-rt/\"><span class=\"company-name\">Vision RT</span></a>Medical technology developer</td>\n",
       "<td>North London</td>\n",
       "<td>Jul-17</td>\n",
       "<td style=\"text-align:right;\">50.99%</td>\n",
       "<td style=\"text-align:right;\">32,468</td>\n",
       "<td style=\"text-align:right;\">132</td>\n",
       "<td>Has secured 60 patents and has another 46 pending</td>\n",
       "<!--\t\t\t\t\t\t<td>Jul-17</td>-->\n",
       "</tr>\n",
       "<tr>\n",
       "<td>98</td>\n",
       "<td><a href=\"https://www.fasttrack.co.uk/company_profile/thread/\"><span class=\"company-name\">Thread</span></a>Online fashion services</td>\n",
       "<td>Central London</td>\n",
       "<td>Dec-17</td>\n",
       "<td style=\"text-align:right;\">50.77%</td>\n",
       "<td style=\"text-align:right;\">*6,492</td>\n",
       "<td style=\"text-align:right;\">60</td>\n",
       "<td>More than 800,000 men subscribe to its free personal styling service</td>\n",
       "<!--\t\t\t\t\t\t<td>Dec-17</td>-->\n",
       "</tr>\n",
       "<tr>\n",
       "<td>99</td>\n",
       "<td><a href=\"https://www.fasttrack.co.uk/company_profile/the-media-image-4/\"><span class=\"company-name\">The Media Image</span></a>Digital marketing agency</td>\n",
       "<td>South London</td>\n",
       "<td>Feb-18</td>\n",
       "<td style=\"text-align:right;\">50.38%</td>\n",
       "<td style=\"text-align:right;\">*27,515</td>\n",
       "<td style=\"text-align:right;\">37</td>\n",
       "<td>Founded by the man who was Google UK’s first recruit when it launched its AdWords service in 2002</td>\n",
       "<!--\t\t\t\t\t\t<td>Feb-18</td>-->\n",
       "</tr>\n",
       "<tr>\n",
       "<td>100</td>\n",
       "<td><a href=\"https://www.fasttrack.co.uk/company_profile/brompton-technology/\"><span class=\"company-name\">Brompton Technology</span></a>Video technology provider</td>\n",
       "<td>West London</td>\n",
       "<td>Aug-17</td>\n",
       "<td style=\"text-align:right;\">50.17%</td>\n",
       "<td style=\"text-align:right;\">*5,250</td>\n",
       "<td style=\"text-align:right;\">27</td>\n",
       "<td>Its technology is used in high-profile events such as the Oscars</td>\n",
       "<!--\t\t\t\t\t\t<td>Aug-17</td>-->\n",
       "</tr>\n",
       "</tbody>\n",
       "</table> </div>\n",
       "<div class=\"row\"><div class=\"col-md-8 legend\"><p><span data-sheets-userformat='[null,null,12736,null,null,null,null,null,null,0,0,0,null,null,null,\"Calibri\",11]' data-sheets-value='[null,2,\"* supplied by company \\u2021 annualised figure\"]'>* supplied by company  </span>†<span data-sheets-userformat='[null,null,12736,null,null,null,null,null,null,0,0,0,null,null,null,\"Calibri\",11]' data-sheets-value='[null,2,\"* supplied by company \\u2021 annualised figure\"]'> annualised figure</span></p>\n",
       "</div></div>\n",
       "</div>\n",
       "<section class=\"normal-padding hidden-md hidden-lg\">\n",
       "<div class=\"container\"><div class=\"row\">\n",
       "<h2>Sponsors</h2>\n",
       "<div class=\"col-xs-6\">\n",
       "<a href=\"https://www.fasttrack.co.uk/sponsor-profiles/hiscox/\"><img src=\"https://www.fasttrack.co.uk/wp-content/uploads/Hiscox-logo-1.png\"/>\n",
       "</a>\n",
       "</div>\n",
       "<div class=\"col-xs-6\">\n",
       "<a href=\"https://www.fasttrack.co.uk/sponsor-profiles/barclays/\"><img src=\"https://www.fasttrack.co.uk/wp-content/uploads/Barclays-logo-1.png\"/></a>\n",
       "</div>\n",
       "<div class=\"col-xs-6\">\n",
       "<a href=\"https://www.fasttrack.co.uk/sponsor-profiles/bdo/\"><img src=\"https://www.fasttrack.co.uk/wp-content/uploads/BDO-logo-1.png\"/></a>\n",
       "</div>\n",
       "<div class=\"col-xs-6\">\n",
       "<a href=\"https://www.fasttrack.co.uk/sponsor-profiles/bgf/\"><img src=\"https://www.fasttrack.co.uk/wp-content/uploads/BGF-logo-no-strapline-padding-2018.png\"/></a>\n",
       "</div>\n",
       "<div class=\"col-xs-6\">\n",
       "<a href=\"https://www.fasttrack.co.uk/sponsor-profiles/n1-singer/\"><img src=\"https://www.fasttrack.co.uk/wp-content/uploads/n1singer.png\"/></a>\n",
       "</div>\n",
       "</div></div>\n",
       "<div class=\"mobile-only text-center\" style=\"margin-top: 20px;\">\n",
       "<a class=\"button skew_forward\" href=\"/league-tables/league-table/sponsorship/\">Sponsorship</a>\n",
       "</div>\n",
       "</section>\n",
       "</div>\n",
       "</div> <!-- END DIV MAIN CONTENT -->\n",
       "<footer class=\"\" id=\"footer\">\n",
       "<div class=\"container\">\n",
       "<div class=\"col-sm-3\">\n",
       "<img class=\"footer-logo\" src=\"https://www.fasttrack.co.uk/wp-content/uploads/Fast-Track-logo-white-strapline.png\"/>\n",
       "</div>\n",
       "<div class=\"col-sm-3 col-xs-6\">\n",
       "<h5>League tables</h5>\n",
       "<ul>\n",
       "<li><a href=\"https://www.fasttrack.co.uk/league-tables/sme-export-track-100/\">SME Export Track 100</a></li>\n",
       "<li><a href=\"https://www.fasttrack.co.uk/league-tables/tech-track-100/\">Tech Track 100</a></li>\n",
       "<li><a href=\"https://www.fasttrack.co.uk/league-tables/fast-track-100/\">Fast Track 100</a></li>\n",
       "<li><a href=\"https://www.fasttrack.co.uk/league-tables/international-track-200/\">International Track 200</a></li>\n",
       "<li><a href=\"https://www.fasttrack.co.uk/league-tables/profit-track-100/\">Profit Track 100</a></li>\n",
       "<li><a href=\"https://www.fasttrack.co.uk/league-tables/top-track-250/\">Top Track 250</a></li>\n",
       "<li><a href=\"https://www.fasttrack.co.uk/league-tables/top-track-100/\">Top Track 100</a></li>\n",
       "</ul>\n",
       "</div>\n",
       "<div class=\"col-sm-3 col-xs-6\">\n",
       "<h5>Further info</h5>\n",
       "<ul>\n",
       "<li><a href=\"https://www.fasttrack.co.uk/about-us/\">About us</a></li>\n",
       "<li><a href=\"https://www.fasttrack.co.uk/nominate-a-company/\">Nominate a company</a></li>\n",
       "<li><a href=\"https://www.fasttrack.co.uk/sponsorship/\">Sponsorship</a></li>\n",
       "<li><a href=\"https://www.fasttrack.co.uk/media-centre/\">Media centre</a></li>\n",
       "<li><a href=\"https://www.fasttrack.co.uk/contact-us/\">Contact us</a></li>\n",
       "</ul>\n",
       "<div class=\"social-links\" style=\"margin: 15px 0;\">\n",
       "<a href=\"https://www.linkedin.com/company/sunday-times-fast-track\" target=\"_blank\"><img alt=\"linkedIn\" src=\"https://www.fasttrack.co.uk/wp-content/themes/fast_track/assets/img/linkedin_circle_icon.png\" style=\"padding-right:5px;\"/></a>\n",
       "<a href=\"https://twitter.com/ST_FastTrack\" target=\"_blank\"><img alt=\"twitter\" src=\"https://www.fasttrack.co.uk/wp-content/themes/fast_track/assets/img/twitter_circle_icon.png\" style=\"padding-right:5px;\"/></a>\n",
       "<a href=\"https://www.instagram.com/thesundaytimesfasttrack\" target=\"_blank\"><img alt=\"instagram\" src=\"https://www.fasttrack.co.uk/wp-content/themes/fast_track/assets/img/instagram_circle_icon.png\" style=\"width: 40px; height: 35px; padding-right:5px\"/></a>\n",
       "</div>\n",
       "</div>\n",
       "<div class=\"col-sm-3 col-xs-12\">\n",
       "<h5>Other</h5>\n",
       "<ul>\n",
       "<li><a href=\"https://www.fasttrack.co.uk/privacy-cookies-policy/\">Privacy &amp; cookies policy</a></li>\n",
       "<li><a href=\"http://www.thewebkitchen.co.uk/\" target=\"_blank\">Web design</a> by TWK</li>\n",
       "</ul>\n",
       "</div>\n",
       "</div>\n",
       "</footer>\n",
       "</body></html>\n",
       "<script type=\"text/javascript\">\n",
       "\n",
       "_linkedin_data_partner_id = \"323508\";\n",
       "\n",
       "</script><script type=\"text/javascript\">\n",
       "\n",
       "(function(){var s = document.getElementsByTagName(\"script\")[0];\n",
       "\n",
       "var b = document.createElement(\"script\");\n",
       "\n",
       "b.type = \"text/javascript\";b.async = true;\n",
       "\n",
       "b.src = \"https://snap.licdn.com/li.lms-analytics/insight.min.js\";\n",
       "\n",
       "s.parentNode.insertBefore(b, s);})();\n",
       "\n",
       "</script>\n",
       "<noscript>\n",
       "<img alt=\"\" height=\"1\" src=\"https://dc.ads.linkedin.com/collect/?pid=323508&amp;fmt=gif\" style=\"display:none;\" width=\"1\">\n",
       "</img></noscript>\n",
       "<!-- JS ARE LOADED HERE WITH FUNCTION.PHP -->\n",
       "<script src=\"https://www.fasttrack.co.uk/wp-content/themes/fast_track/assets/js/bootstrap.min.js?ver=-b-modified-1558604255\" type=\"text/javascript\"></script>\n",
       "<script src=\"https://www.fasttrack.co.uk/wp-content/themes/fast_track/assets/js/owl.carousel.min.js?ver=-b-modified-1558604255\" type=\"text/javascript\"></script>\n",
       "<script src=\"https://www.fasttrack.co.uk/wp-content/themes/fast_track/assets/js/slick.js?ver=-b-modified-1558604255\" type=\"text/javascript\"></script>\n",
       "<script src=\"https://www.fasttrack.co.uk/wp-content/themes/fast_track/assets/js/jquery.magnific-popup.min.js?ver=-b-modified-1558604255\" type=\"text/javascript\"></script>\n",
       "<script src=\"https://www.fasttrack.co.uk/wp-content/themes/fast_track/assets/js/lightbox.js?ver=-b-modified-1558604255\" type=\"text/javascript\"></script>\n",
       "<script src=\"https://www.fasttrack.co.uk/wp-content/themes/fast_track/assets/js/script.js?ver=-b-modified-1558604255\" type=\"text/javascript\"></script>\n",
       "<script src=\"https://www.fasttrack.co.uk/wp-includes/js/wp-embed.min.js?ver=5.2.1\" type=\"text/javascript\"></script>\n",
       "<!-- Wordpress-friendly way via functions.php -->\n",
       "<!-- Asynchronous google analytics; this is the official snippet.\n",
       "\t\t Replace UA-XXXXXX-XX with your site's ID and uncomment to enable.\n",
       "\t\t \n",
       "\t<script>\n",
       "\n",
       "\t  var _gaq = _gaq || [];\n",
       "\t  _gaq.push(['_setAccount', 'UA-XXXXXX-XX']);\n",
       "\t  _gaq.push(['_trackPageview']);\n",
       "\n",
       "\t  (function() {\n",
       "\t    var ga = document.createElement('script'); ga.type = 'text/javascript'; ga.async = true;\n",
       "\t    ga.src = ('https:' == document.location.protocol ? 'https://ssl' : 'http://www') + '.google-analytics.com/ga.js';\n",
       "\t    var s = document.getElementsByTagName('script')[0]; s.parentNode.insertBefore(ga, s);\n",
       "\t  })();\n",
       "\n",
       "\t</script>\n",
       "\t-->\n",
       "\n",
       "\n",
       "<!-- Cached page for great performance - Debug: cached@1558973923 -->"
      ]
     },
     "execution_count": 127,
     "metadata": {},
     "output_type": "execute_result"
    }
   ],
   "source": [
    "soup"
   ]
  },
  {
   "cell_type": "code",
   "execution_count": 128,
   "metadata": {},
   "outputs": [],
   "source": [
    "table = soup.find('table', class_ = 'tableSorter')"
   ]
  },
  {
   "cell_type": "code",
   "execution_count": 130,
   "metadata": {},
   "outputs": [
    {
     "data": {
      "text/plain": [
       "3"
      ]
     },
     "execution_count": 130,
     "metadata": {},
     "output_type": "execute_result"
    }
   ],
   "source": [
    "len(table)"
   ]
  },
  {
   "cell_type": "code",
   "execution_count": 131,
   "metadata": {},
   "outputs": [],
   "source": [
    "#prva vrstica - prvi TR\n",
    "results = table.find_all('tr')"
   ]
  },
  {
   "cell_type": "code",
   "execution_count": 132,
   "metadata": {},
   "outputs": [
    {
     "name": "stdout",
     "output_type": "stream",
     "text": [
      "Number of rows:  101\n"
     ]
    }
   ],
   "source": [
    "print('Number of rows: ', len(results))"
   ]
  },
  {
   "cell_type": "code",
   "execution_count": 133,
   "metadata": {},
   "outputs": [
    {
     "data": {
      "text/plain": [
       "<tr>\n",
       "<th>Rank</th>\n",
       "<th>Company</th>\n",
       "<th class=\"\">Location</th>\n",
       "<th class=\"no-word-wrap\">Year end</th>\n",
       "<th class=\"\" style=\"text-align:right;\">Annual sales rise over 3 years</th>\n",
       "<th class=\"\" style=\"text-align:right;\">Latest sales £000s</th>\n",
       "<th class=\"\" style=\"text-align:right;\">Staff</th>\n",
       "<th class=\"\">Comment</th>\n",
       "<!--\t\t\t\t<th>FYE</th>-->\n",
       "</tr>"
      ]
     },
     "execution_count": 133,
     "metadata": {},
     "output_type": "execute_result"
    }
   ],
   "source": [
    "results[0]"
   ]
  },
  {
   "cell_type": "code",
   "execution_count": 134,
   "metadata": {},
   "outputs": [],
   "source": [
    "# najprej naredimo header list z vsemi headerji"
   ]
  },
  {
   "cell_type": "code",
   "execution_count": 135,
   "metadata": {},
   "outputs": [],
   "source": [
    "rows = []\n",
    "\n",
    "for row in results[0].find_all('th'):\n",
    "    rows.append(row.contents[0])"
   ]
  },
  {
   "cell_type": "code",
   "execution_count": 136,
   "metadata": {},
   "outputs": [
    {
     "data": {
      "text/plain": [
       "['Rank',\n",
       " 'Company',\n",
       " 'Location',\n",
       " 'Year end',\n",
       " 'Annual sales rise over 3 years',\n",
       " 'Latest sales £000s',\n",
       " 'Staff',\n",
       " 'Comment']"
      ]
     },
     "execution_count": 136,
     "metadata": {},
     "output_type": "execute_result"
    }
   ],
   "source": [
    "rows"
   ]
  },
  {
   "cell_type": "code",
   "execution_count": 137,
   "metadata": {},
   "outputs": [],
   "source": [
    "# naredimo listo za podatke"
   ]
  },
  {
   "cell_type": "code",
   "execution_count": 139,
   "metadata": {},
   "outputs": [],
   "source": [
    "rows = []\n",
    "rows.append(['rank','Company Name','Webpage','Description','Location','Year end',\n",
    "             'Annual sales rise over 3 years','Sales €000s','Staff','Comments'])"
   ]
  },
  {
   "cell_type": "code",
   "execution_count": 140,
   "metadata": {},
   "outputs": [],
   "source": [
    "# za vsak row, ki ga najdemo, dodamo podatke"
   ]
  },
  {
   "cell_type": "code",
   "execution_count": 141,
   "metadata": {},
   "outputs": [],
   "source": [
    "#sprehodimo se po vseh td-jih\n",
    "for result in results:\n",
    "    data = result.find_all('td')\n",
    "    if len(data) == 0:\n",
    "        continue"
   ]
  },
  {
   "cell_type": "code",
   "execution_count": 142,
   "metadata": {},
   "outputs": [
    {
     "data": {
      "text/plain": [
       "[<td>100</td>,\n",
       " <td><a href=\"https://www.fasttrack.co.uk/company_profile/brompton-technology/\"><span class=\"company-name\">Brompton Technology</span></a>Video technology provider</td>,\n",
       " <td>West London</td>,\n",
       " <td>Aug-17</td>,\n",
       " <td style=\"text-align:right;\">50.17%</td>,\n",
       " <td style=\"text-align:right;\">*5,250</td>,\n",
       " <td style=\"text-align:right;\">27</td>,\n",
       " <td>Its technology is used in high-profile events such as the Oscars</td>]"
      ]
     },
     "execution_count": 142,
     "metadata": {},
     "output_type": "execute_result"
    }
   ],
   "source": [
    "data"
   ]
  },
  {
   "cell_type": "code",
   "execution_count": 143,
   "metadata": {},
   "outputs": [],
   "source": [
    "# write columns to variables\n",
    "rank = data[0].getText()\n",
    "company = data[1].getText()\n",
    "location = data[2].getText()\n",
    "yearend = data[3].getText()\n",
    "salesrise = data[4].getText()\n",
    "sales = data[5].getText()\n",
    "staff = data[6].getText()\n",
    "comments = data[7].getText()"
   ]
  },
  {
   "cell_type": "code",
   "execution_count": 144,
   "metadata": {},
   "outputs": [
    {
     "data": {
      "text/plain": [
       "'100'"
      ]
     },
     "execution_count": 144,
     "metadata": {},
     "output_type": "execute_result"
    }
   ],
   "source": [
    "rank\n"
   ]
  },
  {
   "cell_type": "code",
   "execution_count": 145,
   "metadata": {},
   "outputs": [
    {
     "data": {
      "text/plain": [
       "'Brompton TechnologyVideo technology provider'"
      ]
     },
     "execution_count": 145,
     "metadata": {},
     "output_type": "execute_result"
    }
   ],
   "source": [
    "company"
   ]
  },
  {
   "cell_type": "code",
   "execution_count": 146,
   "metadata": {},
   "outputs": [
    {
     "data": {
      "text/plain": [
       "'*5,250'"
      ]
     },
     "execution_count": 146,
     "metadata": {},
     "output_type": "execute_result"
    }
   ],
   "source": [
    "sales"
   ]
  },
  {
   "cell_type": "code",
   "execution_count": 148,
   "metadata": {},
   "outputs": [],
   "source": [
    "# ni nam všeč to, kar je v \"company\", ker je skupaj ime firme in opis\n",
    "# sta pa v HTML ta dva dela teksta v ločenih classih, tako jih bomo ločili\n"
   ]
  },
  {
   "cell_type": "code",
   "execution_count": 149,
   "metadata": {},
   "outputs": [
    {
     "data": {
      "text/plain": [
       "[<td>100</td>,\n",
       " <td><a href=\"https://www.fasttrack.co.uk/company_profile/brompton-technology/\"><span class=\"company-name\">Brompton Technology</span></a>Video technology provider</td>,\n",
       " <td>West London</td>,\n",
       " <td>Aug-17</td>,\n",
       " <td style=\"text-align:right;\">50.17%</td>,\n",
       " <td style=\"text-align:right;\">*5,250</td>,\n",
       " <td style=\"text-align:right;\">27</td>,\n",
       " <td>Its technology is used in high-profile events such as the Oscars</td>]"
      ]
     },
     "execution_count": 149,
     "metadata": {},
     "output_type": "execute_result"
    }
   ],
   "source": [
    "data"
   ]
  },
  {
   "cell_type": "code",
   "execution_count": 152,
   "metadata": {},
   "outputs": [],
   "source": [
    "companyname = data[1].find('span', class_ = 'company-name').getText()"
   ]
  },
  {
   "cell_type": "code",
   "execution_count": 153,
   "metadata": {},
   "outputs": [
    {
     "data": {
      "text/plain": [
       "'Brompton Technology'"
      ]
     },
     "execution_count": 153,
     "metadata": {},
     "output_type": "execute_result"
    }
   ],
   "source": [
    "companyname"
   ]
  },
  {
   "cell_type": "code",
   "execution_count": 154,
   "metadata": {},
   "outputs": [],
   "source": [
    "# trik: \n",
    "description = company.replace(companyname, '')"
   ]
  },
  {
   "cell_type": "code",
   "execution_count": 155,
   "metadata": {},
   "outputs": [
    {
     "data": {
      "text/plain": [
       "'Video technology provider'"
      ]
     },
     "execution_count": 155,
     "metadata": {},
     "output_type": "execute_result"
    }
   ],
   "source": [
    "description"
   ]
  },
  {
   "cell_type": "code",
   "execution_count": 156,
   "metadata": {},
   "outputs": [
    {
     "data": {
      "text/plain": [
       "'*5,250'"
      ]
     },
     "execution_count": 156,
     "metadata": {},
     "output_type": "execute_result"
    }
   ],
   "source": [
    "sales"
   ]
  },
  {
   "cell_type": "code",
   "execution_count": 157,
   "metadata": {},
   "outputs": [],
   "source": [
    "# radi bi se znebili zvezdice"
   ]
  },
  {
   "cell_type": "code",
   "execution_count": 160,
   "metadata": {},
   "outputs": [
    {
     "data": {
      "text/plain": [
       "'5250'"
      ]
     },
     "execution_count": 160,
     "metadata": {},
     "output_type": "execute_result"
    }
   ],
   "source": [
    "sales.strip('*').strip('†').replace(',','')"
   ]
  },
  {
   "cell_type": "code",
   "execution_count": 161,
   "metadata": {},
   "outputs": [],
   "source": [
    "# kako dobimo spletno stran\n"
   ]
  },
  {
   "cell_type": "code",
   "execution_count": 162,
   "metadata": {},
   "outputs": [
    {
     "data": {
      "text/plain": [
       "<td><a href=\"https://www.fasttrack.co.uk/company_profile/brompton-technology/\"><span class=\"company-name\">Brompton Technology</span></a>Video technology provider</td>"
      ]
     },
     "execution_count": 162,
     "metadata": {},
     "output_type": "execute_result"
    }
   ],
   "source": [
    "data[1]"
   ]
  },
  {
   "cell_type": "code",
   "execution_count": 163,
   "metadata": {},
   "outputs": [],
   "source": [
    "url = data[1].find('a').get('href')"
   ]
  },
  {
   "cell_type": "code",
   "execution_count": 164,
   "metadata": {},
   "outputs": [
    {
     "data": {
      "text/plain": [
       "'https://www.fasttrack.co.uk/company_profile/brompton-technology/'"
      ]
     },
     "execution_count": 164,
     "metadata": {},
     "output_type": "execute_result"
    }
   ],
   "source": [
    "url"
   ]
  },
  {
   "cell_type": "code",
   "execution_count": 165,
   "metadata": {},
   "outputs": [],
   "source": [
    "page = requests.get(url)"
   ]
  },
  {
   "cell_type": "code",
   "execution_count": 166,
   "metadata": {},
   "outputs": [],
   "source": [
    "soup = BeautifulSoup(page.text, 'html.parser')"
   ]
  },
  {
   "cell_type": "code",
   "execution_count": 168,
   "metadata": {},
   "outputs": [],
   "source": [
    "#nimajo vse strani vpisanega websitea\n",
    "# ko pa je, je to zadnji tr\n",
    "try:\n",
    "    tableRow = soup.find('table').find_all('tr')[-1]\n",
    "    webpage = tableRow.find('a').get('href')\n",
    "except:\n",
    "    webpage = None"
   ]
  },
  {
   "cell_type": "code",
   "execution_count": 170,
   "metadata": {},
   "outputs": [
    {
     "data": {
      "text/plain": [
       "'http://www.bromptontech.com'"
      ]
     },
     "execution_count": 170,
     "metadata": {},
     "output_type": "execute_result"
    }
   ],
   "source": [
    "webpage"
   ]
  },
  {
   "cell_type": "code",
   "execution_count": 171,
   "metadata": {},
   "outputs": [
    {
     "name": "stdout",
     "output_type": "stream",
     "text": [
      "Number of rows:  101\n"
     ]
    }
   ],
   "source": [
    "# to vse do zdaj sestavimo v eno celoto\n",
    "# import libraries\n",
    "from bs4 import BeautifulSoup\n",
    "import requests\n",
    "import csv\n",
    "\n",
    "# specify the url\n",
    "urlpage =  'http://www.fasttrack.co.uk/league-tables/tech-track-100/league-table/'\n",
    "\n",
    "#najprej request na stran\n",
    "page = requests.get(urlpage)\n",
    "\n",
    "soup = BeautifulSoup(page.text, 'html.parser')\n",
    "\n",
    "table = soup.find('table', class_ = 'tableSorter')\n",
    "results = table.find_all('tr')\n",
    "print('Number of rows: ', len(results))"
   ]
  },
  {
   "cell_type": "code",
   "execution_count": 172,
   "metadata": {},
   "outputs": [],
   "source": [
    "rows = []\n",
    "rows.append(['rank','Company Name','Webpage','Description','Location','Year end',\n",
    "             'Annual sales rise over 3 years','Sales €000s','Staff','Comments'])"
   ]
  },
  {
   "cell_type": "code",
   "execution_count": 174,
   "metadata": {},
   "outputs": [
    {
     "name": "stdout",
     "output_type": "stream",
     "text": [
      "1  - Company is  Plan.com\n",
      "2  - Company is  PsiOxus\n",
      "3  - Company is  CensorNet\n",
      "4  - Company is  thoughtonomy\n",
      "5  - Company is  Perkbox\n",
      "6  - Company is  Ogury\n",
      "7  - Company is  Verve\n",
      "8  - Company is  goHenry\n",
      "9  - Company is  Darktrace\n",
      "10  - Company is  Bizuma\n",
      "11  - Company is  Depop\n",
      "12  - Company is  Laser Wire Solutions\n",
      "13  - Company is  Bought By Many\n",
      "14  - Company is  Optal\n",
      "15  - Company is  Infinox\n",
      "16  - Company is  Oakbrook\n",
      "17  - Company is  Carwow\n",
      "18  - Company is  Receipt Bank\n",
      "19  - Company is  dB Broadcast\n",
      "20  - Company is  The Car Buying Group\n",
      "21  - Company is  Festicket\n",
      "22  - Company is  Planixs\n",
      "23  - Company is  Gigaclear\n",
      "24  - Company is  TransferWise\n",
      "25  - Company is  PatSnap\n",
      "26  - Company is  Hyperoptic\n",
      "27  - Company is  GoCardless\n",
      "28  - Company is  Purple\n",
      "29  - Company is  Trustpay Global\n",
      "30  - Company is  iwoca\n",
      "31  - Company is  LADBible Group\n",
      "32  - Company is  Threads Styling\n",
      "33  - Company is  Prodigy Finance\n",
      "34  - Company is  Azimo\n",
      "35  - Company is  Chameleon\n",
      "36  - Company is  SuperAwesome\n",
      "37  - Company is  Gousto\n",
      "38  - Company is  Vizolution\n",
      "39  - Company is  MoveGB\n",
      "40  - Company is  BBOXX\n",
      "41  - Company is  Funding Circle\n",
      "42  - Company is  LoopMe\n",
      "43  - Company is  Kano\n",
      "44  - Company is  Capital on Tap\n",
      "45  - Company is  Hutch\n",
      "46  - Company is  ENSEK\n",
      "47  - Company is  MiQ\n",
      "48  - Company is  StarLeaf\n",
      "49  - Company is  BigChange\n",
      "50  - Company is  The Lead Agency\n",
      "51  - Company is  UNiDAYS\n",
      "52  - Company is  Farfetch\n",
      "53  - Company is  Assetz Capital\n",
      "54  - Company is  iPulse\n",
      "55  - Company is  Giacom\n",
      "56  - Company is  Arcus Global\n",
      "57  - Company is  disguise\n",
      "58  - Company is  Tech21\n",
      "59  - Company is  Victor\n",
      "60  - Company is  Cinesite\n",
      "61  - Company is  Biosite Systems\n",
      "62  - Company is  Ecometrica\n",
      "63  - Company is  Qualasept Pharmaxo\n",
      "64  - Company is  Edesix\n",
      "65  - Company is  LendInvest\n",
      "66  - Company is  E3D Online\n",
      "67  - Company is  Lyst\n",
      "68  - Company is  Diaceutics\n",
      "69  - Company is  Amplience\n",
      "70  - Company is  GlucoRx\n",
      "71  - Company is  Love Energy Savings\n",
      "72  - Company is  Creative Virtual\n",
      "73  - Company is  Ebury\n",
      "74  - Company is  ZappiStore\n",
      "75  - Company is  Blis\n",
      "76  - Company is  BookingBug\n",
      "77  - Company is  Egress\n",
      "78  - Company is  Contis Group\n",
      "79  - Company is  PM Connect\n",
      "80  - Company is  Zopa\n",
      "81  - Company is  WorldRemit\n",
      "82  - Company is  Dianomi\n",
      "83  - Company is  Liberis\n",
      "84  - Company is  Currencycloud\n",
      "85  - Company is  Featurespace\n",
      "86  - Company is  Cloud Technology Solutions\n",
      "87  - Company is  Leisure Pass Group\n",
      "88  - Company is  rradar\n",
      "89  - Company is  Converge TS\n",
      "90  - Company is  Kimble Applications\n",
      "91  - Company is  Paymentsense\n",
      "92  - Company is  Godel Technologies\n",
      "93  - Company is  Secret Escapes\n",
      "94  - Company is  Neuven\n",
      "95  - Company is  CitNOW\n",
      "96  - Company is  geo\n",
      "97  - Company is  Vision RT\n",
      "98  - Company is  Thread\n",
      "99  - Company is  The Media Image\n",
      "100  - Company is  Brompton Technology\n"
     ]
    }
   ],
   "source": [
    "#sprehodimo se po vseh td-jih\n",
    "for num, result in enumerate(results):\n",
    "    data = result.find_all('td')\n",
    "    if len(data) == 0:\n",
    "        continue\n",
    "    \n",
    "    rank = data[0].getText()\n",
    "    company = data[1].getText()\n",
    "    location = data[2].getText()\n",
    "    yearend = data[3].getText()\n",
    "    salesrise = data[4].getText()\n",
    "    sales = data[5].getText()\n",
    "    staff = data[6].getText()\n",
    "    comments = data[7].getText()\n",
    "    \n",
    "    companyname = data[1].find('span', class_ = 'company-name').getText()\n",
    "    description = company.replace(companyname, '')\n",
    "    print(num, ' - Company is ', companyname)\n",
    "    \n",
    "    sales = sales.strip('*').strip('†').replace(',','')\n",
    "    \n",
    "    url = data[1].find('a').get('href')\n",
    "    page = requests.get(url)\n",
    "    soup = BeautifulSoup(page.text, 'html.parser')\n",
    "    \n",
    "    #nimajo vse strani vpisanega websitea\n",
    "    # ko pa je, je to zadnji tr\n",
    "    try:\n",
    "        tableRow = soup.find('table').find_all('tr')[-1]\n",
    "        webpage = tableRow.find('a').get('href')\n",
    "    except:\n",
    "        webpage = None\n",
    "        \n",
    "    rows.append([rank, companyname, webpage, description, location, yearend, salesrise, sales,\n",
    "              staff, comments])\n",
    "        \n",
    "        "
   ]
  },
  {
   "cell_type": "code",
   "execution_count": 176,
   "metadata": {},
   "outputs": [],
   "source": [
    "with open('OUT_companies.csv', 'w', newline = '') as f_output:\n",
    "    csv_output = csv.writer(f_output)\n",
    "    csv_output.writerows(rows)"
   ]
  },
  {
   "cell_type": "code",
   "execution_count": 177,
   "metadata": {},
   "outputs": [],
   "source": [
    "df = pd.read_csv('OUT_companies.csv')"
   ]
  },
  {
   "cell_type": "code",
   "execution_count": 178,
   "metadata": {},
   "outputs": [
    {
     "data": {
      "text/html": [
       "<div>\n",
       "<style scoped>\n",
       "    .dataframe tbody tr th:only-of-type {\n",
       "        vertical-align: middle;\n",
       "    }\n",
       "\n",
       "    .dataframe tbody tr th {\n",
       "        vertical-align: top;\n",
       "    }\n",
       "\n",
       "    .dataframe thead th {\n",
       "        text-align: right;\n",
       "    }\n",
       "</style>\n",
       "<table border=\"1\" class=\"dataframe\">\n",
       "  <thead>\n",
       "    <tr style=\"text-align: right;\">\n",
       "      <th></th>\n",
       "      <th>rank</th>\n",
       "      <th>Company Name</th>\n",
       "      <th>Webpage</th>\n",
       "      <th>Description</th>\n",
       "      <th>Location</th>\n",
       "      <th>Year end</th>\n",
       "      <th>Annual sales rise over 3 years</th>\n",
       "      <th>Sales €000s</th>\n",
       "      <th>Staff</th>\n",
       "      <th>Comments</th>\n",
       "    </tr>\n",
       "  </thead>\n",
       "  <tbody>\n",
       "    <tr>\n",
       "      <th>0</th>\n",
       "      <td>1</td>\n",
       "      <td>Plan.com</td>\n",
       "      <td>http://www.plan.com</td>\n",
       "      <td>Communications provider</td>\n",
       "      <td>Isle of Man</td>\n",
       "      <td>Sep-17</td>\n",
       "      <td>364.38%</td>\n",
       "      <td>35418</td>\n",
       "      <td>90</td>\n",
       "      <td>About 650 partners use its telecoms platform t...</td>\n",
       "    </tr>\n",
       "    <tr>\n",
       "      <th>1</th>\n",
       "      <td>2</td>\n",
       "      <td>PsiOxus</td>\n",
       "      <td>http://www.psioxus.com</td>\n",
       "      <td>Biotechnology developer</td>\n",
       "      <td>Oxfordshire</td>\n",
       "      <td>Dec-17</td>\n",
       "      <td>311.67%</td>\n",
       "      <td>53136</td>\n",
       "      <td>54</td>\n",
       "      <td>Received a $15m milestone payment from its dev...</td>\n",
       "    </tr>\n",
       "    <tr>\n",
       "      <th>2</th>\n",
       "      <td>3</td>\n",
       "      <td>CensorNet</td>\n",
       "      <td>http://www.censornet.com</td>\n",
       "      <td>Cloud security software developer</td>\n",
       "      <td>Basingstoke</td>\n",
       "      <td>Dec-17</td>\n",
       "      <td>210.17%</td>\n",
       "      <td>7535</td>\n",
       "      <td>77</td>\n",
       "      <td>Has more than 4,000 customers, including McDon...</td>\n",
       "    </tr>\n",
       "    <tr>\n",
       "      <th>3</th>\n",
       "      <td>4</td>\n",
       "      <td>thoughtonomy</td>\n",
       "      <td>http://www.thoughtonomy.com</td>\n",
       "      <td>Automation software developer</td>\n",
       "      <td>East London</td>\n",
       "      <td>May-18</td>\n",
       "      <td>205.20%</td>\n",
       "      <td>16916</td>\n",
       "      <td>100</td>\n",
       "      <td>It sells to 28 countries and 50% of revenue is...</td>\n",
       "    </tr>\n",
       "    <tr>\n",
       "      <th>4</th>\n",
       "      <td>5</td>\n",
       "      <td>Perkbox</td>\n",
       "      <td>http://www.perkbox.com</td>\n",
       "      <td>Employee engagement services</td>\n",
       "      <td>Central London</td>\n",
       "      <td>Dec-17</td>\n",
       "      <td>204.12%</td>\n",
       "      <td>34700</td>\n",
       "      <td>200</td>\n",
       "      <td>Acquired software platform Loyalty Bay for an ...</td>\n",
       "    </tr>\n",
       "  </tbody>\n",
       "</table>\n",
       "</div>"
      ],
      "text/plain": [
       "   rank  Company Name                      Webpage  \\\n",
       "0     1      Plan.com          http://www.plan.com   \n",
       "1     2       PsiOxus       http://www.psioxus.com   \n",
       "2     3     CensorNet     http://www.censornet.com   \n",
       "3     4  thoughtonomy  http://www.thoughtonomy.com   \n",
       "4     5       Perkbox       http://www.perkbox.com   \n",
       "\n",
       "                         Description        Location Year end  \\\n",
       "0            Communications provider     Isle of Man   Sep-17   \n",
       "1            Biotechnology developer     Oxfordshire   Dec-17   \n",
       "2  Cloud security software developer     Basingstoke   Dec-17   \n",
       "3      Automation software developer     East London   May-18   \n",
       "4       Employee engagement services  Central London   Dec-17   \n",
       "\n",
       "  Annual sales rise over 3 years Sales €000s Staff  \\\n",
       "0                        364.38%       35418    90   \n",
       "1                        311.67%       53136    54   \n",
       "2                        210.17%        7535    77   \n",
       "3                        205.20%       16916   100   \n",
       "4                        204.12%       34700   200   \n",
       "\n",
       "                                            Comments  \n",
       "0  About 650 partners use its telecoms platform t...  \n",
       "1  Received a $15m milestone payment from its dev...  \n",
       "2  Has more than 4,000 customers, including McDon...  \n",
       "3  It sells to 28 countries and 50% of revenue is...  \n",
       "4  Acquired software platform Loyalty Bay for an ...  "
      ]
     },
     "execution_count": 178,
     "metadata": {},
     "output_type": "execute_result"
    }
   ],
   "source": [
    "df.head()"
   ]
  },
  {
   "cell_type": "code",
   "execution_count": null,
   "metadata": {},
   "outputs": [],
   "source": []
  },
  {
   "cell_type": "markdown",
   "metadata": {},
   "source": [
    "#### Celotni program skupaj"
   ]
  },
  {
   "cell_type": "code",
   "execution_count": null,
   "metadata": {},
   "outputs": [],
   "source": []
  },
  {
   "cell_type": "code",
   "execution_count": null,
   "metadata": {},
   "outputs": [],
   "source": []
  },
  {
   "cell_type": "code",
   "execution_count": null,
   "metadata": {},
   "outputs": [],
   "source": []
  },
  {
   "cell_type": "code",
   "execution_count": null,
   "metadata": {},
   "outputs": [],
   "source": []
  },
  {
   "cell_type": "code",
   "execution_count": null,
   "metadata": {},
   "outputs": [],
   "source": []
  },
  {
   "cell_type": "code",
   "execution_count": null,
   "metadata": {},
   "outputs": [],
   "source": []
  },
  {
   "cell_type": "code",
   "execution_count": null,
   "metadata": {},
   "outputs": [],
   "source": []
  },
  {
   "cell_type": "code",
   "execution_count": null,
   "metadata": {},
   "outputs": [],
   "source": []
  },
  {
   "cell_type": "code",
   "execution_count": null,
   "metadata": {},
   "outputs": [],
   "source": []
  },
  {
   "cell_type": "code",
   "execution_count": null,
   "metadata": {},
   "outputs": [],
   "source": []
  },
  {
   "cell_type": "code",
   "execution_count": null,
   "metadata": {},
   "outputs": [],
   "source": []
  },
  {
   "cell_type": "code",
   "execution_count": null,
   "metadata": {},
   "outputs": [],
   "source": []
  },
  {
   "cell_type": "code",
   "execution_count": null,
   "metadata": {},
   "outputs": [],
   "source": []
  }
 ],
 "metadata": {
  "kernelspec": {
   "display_name": "Python 3",
   "language": "python",
   "name": "python3"
  },
  "language_info": {
   "codemirror_mode": {
    "name": "ipython",
    "version": 3
   },
   "file_extension": ".py",
   "mimetype": "text/x-python",
   "name": "python",
   "nbconvert_exporter": "python",
   "pygments_lexer": "ipython3",
   "version": "3.7.3"
  }
 },
 "nbformat": 4,
 "nbformat_minor": 2
}
