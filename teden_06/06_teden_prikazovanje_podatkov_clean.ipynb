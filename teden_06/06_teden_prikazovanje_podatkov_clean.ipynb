{
 "cells": [
  {
   "cell_type": "markdown",
   "metadata": {},
   "source": [
    "# Uvod\n",
    "\n"
   ]
  },
  {
   "cell_type": "code",
   "execution_count": 2,
   "metadata": {},
   "outputs": [],
   "source": [
    "# najprej vedno to:\n",
    "# to nam omogoči rich outputs in interaktivne zadeve\n",
    "\n",
    "%matplotlib notebook\n",
    "%matplotlib inline"
   ]
  },
  {
   "cell_type": "code",
   "execution_count": 3,
   "metadata": {},
   "outputs": [],
   "source": [
    "import matplotlib.pyplot as plt\n",
    "import pandas as pd\n",
    "import numpy as np"
   ]
  },
  {
   "cell_type": "markdown",
   "metadata": {},
   "source": [
    "## pyplot\n",
    "\n",
    "\n",
    "## The Matplotlib Object Hierarchy\n",
    "\n",
    "\n"
   ]
  },
  {
   "cell_type": "code",
   "execution_count": null,
   "metadata": {},
   "outputs": [],
   "source": [
    "# glavni del (najvišji v hierarhiji) je figure\n",
    "# znotraj tega je več axes (to so dejansko posamezni grafi znotraj figurea. Sopomenka je subplot)\n",
    "# Vsak graf ima svoje objekte: tick, lines, legend, text, axis ...\n"
   ]
  },
  {
   "cell_type": "markdown",
   "metadata": {},
   "source": [
    "### Simple plot\n",
    "\n"
   ]
  },
  {
   "cell_type": "code",
   "execution_count": null,
   "metadata": {},
   "outputs": [],
   "source": [
    "import numpy as np\n",
    "\n",
    "x = np.linspace(-np.pi, np.pi, 256)\n",
    "\n",
    "C = np.cos(x)\n",
    "S = np.sin(x)"
   ]
  },
  {
   "cell_type": "code",
   "execution_count": null,
   "metadata": {
    "scrolled": false
   },
   "outputs": [],
   "source": [
    "# matplotlib že ima default nastavitve. Mi bomo najprej narisali default, nato pa dodajali svoje nastavitve\n",
    "# na začetku najprej definiramo neko figuro"
   ]
  },
  {
   "cell_type": "code",
   "execution_count": null,
   "metadata": {},
   "outputs": [],
   "source": [
    "# vsa koda, ki jo pišemo pod prvo vrstico spodaj, spada pod ta figure\n",
    "plt.figure()\n",
    "plt.plot(x, C)\n",
    "plt.plot(x, S)\n",
    "plt.show()"
   ]
  },
  {
   "cell_type": "markdown",
   "metadata": {},
   "source": [
    "### Matplotlib - osnovne lastnosti\n",
    "\n"
   ]
  },
  {
   "cell_type": "code",
   "execution_count": null,
   "metadata": {},
   "outputs": [],
   "source": [
    "!head -n 3 data/DATA_percent-bachelors-degrees-women-usa.csv"
   ]
  },
  {
   "cell_type": "code",
   "execution_count": null,
   "metadata": {},
   "outputs": [],
   "source": [
    "# kolikšen je procent diplom pri ženskah v ZDA po področjih\n",
    "import csv\n",
    "import numpy as np\n",
    "\n",
    "year = list()\n",
    "physical_sciences = list()\n",
    "computer_science = list()\n",
    "health = list()\n",
    "education = list()\n",
    "\n",
    "with open('data/DATA_percent-bachelors-degrees-women-usa.csv', 'r') as csv_file:\n",
    "    csv_reader = csv.DictReader(csv_file)\n",
    "    line_count = 0\n",
    "    for row in csv_reader:\n",
    "        year.append(int(row['Year']))\n",
    "        physical_sciences.append(float(row['Physical Sciences']))\n",
    "        computer_science.append(float(row['Computer Science']))\n",
    "        health.append(float(row['Health Professions']))\n",
    "        education.append(float(row['Education']))\n",
    "\n",
    "year = np.array(year)    \n",
    "physical_sciences = np.array(physical_sciences)    \n",
    "computer_science = np.array(computer_science)    \n",
    "health = np.array(health)    \n",
    "education = np.array(education)    \n"
   ]
  },
  {
   "cell_type": "code",
   "execution_count": null,
   "metadata": {},
   "outputs": [],
   "source": [
    "year"
   ]
  },
  {
   "cell_type": "code",
   "execution_count": null,
   "metadata": {},
   "outputs": [],
   "source": [
    "physical_sciences"
   ]
  },
  {
   "cell_type": "markdown",
   "metadata": {},
   "source": [
    "**Figures**"
   ]
  },
  {
   "cell_type": "code",
   "execution_count": null,
   "metadata": {},
   "outputs": [],
   "source": [
    "# prva lastnost, ki je pomembna je Figures - zgornji objekt v hierarhiji\n",
    "# najprej naredimo plt.figure(). Parametri so razmerje in resolucija\n",
    "plt.figure(figsize = (8,6), dpi = 80)\n",
    "\n",
    "plt.plot(year, physical_sciences, c='blue')\n",
    "plt.plot(year, computer_science, c='red')\n",
    "\n",
    "plt.show()"
   ]
  },
  {
   "cell_type": "markdown",
   "metadata": {},
   "source": [
    "**Axes**\n"
   ]
  },
  {
   "cell_type": "code",
   "execution_count": null,
   "metadata": {},
   "outputs": [],
   "source": [
    "# radi bi več podatkov spravili v dva ločena grafa\n",
    "# axes so podobni subplotom, ampak nam omogočajo več opcij. Subplots so precej avtomatsko nastavljeni\n",
    "plt.figure(figsize = (8,6), dpi = 80)\n",
    "\n",
    "#prvi axes: x os, y os, velikost x, velikost y\n",
    "plt.axes([0.05, 0.05, 0.425, 0.9])\n",
    "plt.plot(year, physical_sciences, c='blue')\n",
    "\n",
    "#drugi axes\n",
    "plt.axes([0.525, 0.05, 0.425, 0.9])\n",
    "plt.plot(year, computer_science, c='red')\n",
    "\n",
    "plt.show()"
   ]
  },
  {
   "cell_type": "code",
   "execution_count": null,
   "metadata": {},
   "outputs": [],
   "source": [
    "# kako to isto naredimo s subploti\n",
    "plt.figure(figsize = (8,6), dpi = 80)\n",
    "\n",
    "#ena krat dva, in rišemo prvega\n",
    "plt.subplot(1,2,1)\n",
    "plt.plot(year, physical_sciences, c='blue')\n",
    "plt.title('Physical sciences')\n",
    "\n",
    "#ena krat dva, in rišemo drugega\n",
    "plt.subplot(1,2,2)\n",
    "plt.plot(year, computer_science, c='red')\n",
    "plt.title('Computer Science')\n",
    "\n",
    "# ta metoda prilagodi vse skupaj, da lepše zgleda\n",
    "plt.tight_layout()\n",
    "plt.show()"
   ]
  },
  {
   "cell_type": "markdown",
   "metadata": {},
   "source": [
    "**Subplots**"
   ]
  },
  {
   "cell_type": "code",
   "execution_count": null,
   "metadata": {
    "scrolled": false
   },
   "outputs": [],
   "source": [
    "plt.figure(figsize=(8,6), dpi=80)\n",
    "\n",
    "\n",
    "\n"
   ]
  },
  {
   "cell_type": "code",
   "execution_count": null,
   "metadata": {
    "scrolled": false
   },
   "outputs": [],
   "source": [
    "plt.figure(figsize=(8,6), dpi=80)\n",
    "\n",
    "\n",
    "plt.subplot(2,2,1)\n",
    "plt.plot(year, physical_sciences, color='blue')\n",
    "plt.title('Physical Sciences')\n",
    "\n",
    "\n",
    "plt.subplot(2,2,2)\n",
    "plt.plot(year, computer_science, color='red')\n",
    "plt.title('Computer Science')\n",
    "\n",
    "\n",
    "plt.subplot(2,2,3)\n",
    "plt.plot(year, health, color='green')\n",
    "plt.title('Health Professions')\n",
    "\n",
    "\n",
    "plt.subplot(2,2,4)\n",
    "plt.plot(year, education, color='yellow')\n",
    "plt.title('Education')\n",
    "\n",
    "plt.tight_layout()\n",
    "plt.show()"
   ]
  },
  {
   "cell_type": "markdown",
   "metadata": {},
   "source": [
    "**Customizing axes**\n"
   ]
  },
  {
   "cell_type": "code",
   "execution_count": null,
   "metadata": {
    "scrolled": false
   },
   "outputs": [],
   "source": [
    "# urejanje osi\n",
    "plt.figure(figsize=(8,6), dpi=80)\n",
    "\n",
    "\n",
    "plt.plot(year,computer_science, color='red') \n",
    "plt.plot(year, physical_sciences, color='blue')\n",
    "\n",
    "# tako naredimo ime osi:\n",
    "plt.xlabel('Year')\n",
    "plt.ylabel('Degrees awarded to women (%)')\n",
    "\n",
    "# od koliko do koliko hočemo, da se prikazuje na osi\n",
    "plt.xlim(1990, 2010)\n",
    "plt.ylim(0,50)\n",
    "\n",
    "\n",
    "plt.title('Degrees awarded to women (1990-2010)\\nComputer Science (red)\\nPhysical Sciences (blue)')\n",
    "\n",
    "plt.show()"
   ]
  },
  {
   "cell_type": "code",
   "execution_count": null,
   "metadata": {},
   "outputs": [],
   "source": [
    "plt.figure(figsize=(8,6), dpi=80)\n",
    "\n",
    "plt.plot(year,computer_science, color='blue')\n",
    "plt.plot(year, physical_sciences,color='red')\n",
    "\n",
    "#isto kot zgoraj, samo na drugi način\n",
    "plt.axis((1990,2010,0,50))\n",
    "\n",
    "plt.show()\n",
    "\n",
    "#tako shranimo sliko\n",
    "plt.savefig('myfig.png')"
   ]
  },
  {
   "cell_type": "markdown",
   "metadata": {},
   "source": [
    "**Using legend()**\n"
   ]
  },
  {
   "cell_type": "code",
   "execution_count": null,
   "metadata": {},
   "outputs": [],
   "source": [
    "plt.figure(figsize=(8,6), dpi=80)\n",
    "\n",
    "#ko dodajamo legendo, moramo vedno dati \"label\"\n",
    "plt.plot(year, computer_science, color='red', label='Computer Science') \n",
    "plt.plot(year, physical_sciences, color='blue', label='Physical Sciences')\n",
    "\n",
    "plt.legend(loc='lower center')\n",
    "plt.xlabel('Year')\n",
    "plt.ylabel('Degrees awarded to women')\n",
    "\n",
    "\n",
    "plt.title('Undergraduate enrollment of women')\n",
    "\n",
    "plt.show()"
   ]
  },
  {
   "cell_type": "markdown",
   "metadata": {},
   "source": [
    "**Using annotate()**"
   ]
  },
  {
   "cell_type": "code",
   "execution_count": null,
   "metadata": {},
   "outputs": [],
   "source": [
    "#dodajanje puščic in oznak na graf\n",
    "plt.figure(figsize=(8,6), dpi=80)\n",
    "\n",
    "\n",
    "plt.plot(year, computer_science, color='red', label='Computer Science') \n",
    "plt.plot(year, physical_sciences, color='blue', label='Physical Sciences')\n",
    "plt.legend(loc='lower right')\n",
    "\n",
    "#najdemo lokacijo maksimuma (x in y točko maksimuma), kjer bomo postavili puščico\n",
    "cs_max = computer_science.max()\n",
    "yr_max = year[computer_science.argmax()]\n",
    "\n",
    "plt.annotate('maksimum', xy = (yr_max, cs_max), xytext=(yr_max+5, cs_max+5), arrowprops = dict(facecolor='black'))\n",
    "\n",
    "plt.xlabel('Year')\n",
    "plt.ylabel('Enrollment (%)')\n",
    "plt.title('Undergraduate enrollment of women')\n",
    "\n",
    "plt.show()"
   ]
  },
  {
   "cell_type": "markdown",
   "metadata": {},
   "source": [
    "**Modifying styles**"
   ]
  },
  {
   "cell_type": "code",
   "execution_count": null,
   "metadata": {},
   "outputs": [],
   "source": [
    "print(plt.style.available)"
   ]
  },
  {
   "cell_type": "code",
   "execution_count": null,
   "metadata": {},
   "outputs": [],
   "source": [
    "plt.figure(figsize=(8,6), dpi=80)\n",
    "\n",
    "#tako določimo stil:\n",
    "plt.style.use('ggplot')\n",
    "\n",
    "\n",
    "\n",
    "\n",
    "plt.subplot(2, 2, 1) \n",
    "plt.plot(year, physical_sciences, color='blue')\n",
    "plt.title('Physical Sciences')\n",
    "\n",
    "plt.subplot(2, 2, 2)\n",
    "plt.plot(year, computer_science, color='red')\n",
    "plt.title('Computer Science')\n",
    "\n",
    "cs_max = computer_science.max()\n",
    "yr_max = year[computer_science.argmax()]\n",
    "plt.annotate('Maximum', xy=(yr_max, cs_max), xytext=(yr_max-1, cs_max-10), arrowprops=dict(facecolor='black'))\n",
    "\n",
    "\n",
    "plt.subplot(2, 2, 3)\n",
    "plt.plot(year, health, color='green')\n",
    "plt.title('Health Professions')\n",
    "\n",
    "\n",
    "plt.subplot(2, 2, 4)\n",
    "plt.plot(year, education, color='yellow')\n",
    "plt.title('Education')\n",
    "\n",
    "plt.tight_layout()\n",
    "plt.show()"
   ]
  },
  {
   "cell_type": "markdown",
   "metadata": {},
   "source": [
    "**Ticks**"
   ]
  },
  {
   "cell_type": "code",
   "execution_count": null,
   "metadata": {},
   "outputs": [],
   "source": [
    "plt.figure(figsize=(8,6), dpi=80)\n",
    "\n",
    "\n",
    "plt.plot(year, computer_science, color='red', label='Computer Science') \n",
    "plt.plot(year, physical_sciences, color='blue', label='Physical Sciences')\n",
    "\n",
    "\n",
    "plt.legend(loc='lower center')\n",
    "\n",
    "\n",
    "plt.xlabel('Year')\n",
    "plt.ylabel('Enrollment (%)')\n",
    "plt.title('Undergraduate enrollment of women')\n",
    "\n",
    "#definiramo točno katere številke naj pišejo na oseh\n",
    "plt.xticks(np.linspace(1970,2015,10, endpoint = True))\n",
    "plt.yticks(np.linspace(0,50,26, endpoint = True))\n",
    "\n",
    "plt.show()"
   ]
  },
  {
   "cell_type": "markdown",
   "metadata": {},
   "source": [
    "### Vrste grafov\n"
   ]
  },
  {
   "cell_type": "code",
   "execution_count": null,
   "metadata": {},
   "outputs": [],
   "source": [
    "#Regular Plots\n",
    "import numpy as np\n",
    "import matplotlib.pyplot as plt\n",
    "\n",
    "plt.figure(figsize=(6,3), dpi=80)\n",
    "\n",
    "n = 256\n",
    "X = np.linspace(-np.pi,np.pi,n,endpoint=True)\n",
    "Y = np.sin(2*X)\n",
    "\n",
    "plt.axes([0.025,0.025,0.95,0.95])\n",
    "\n",
    "plt.plot (X, Y+1, color='blue', alpha=1.00)\n",
    "plt.fill_between(X, 1, Y+1, color='blue', alpha=.25)\n",
    "\n",
    "plt.plot (X, Y-1, color='blue', alpha=1.00)\n",
    "plt.fill_between(X, -1, Y-1, (Y-1) > -1, color='blue', alpha=.25)\n",
    "plt.fill_between(X, -1, Y-1, (Y-1) < -1, color='red',  alpha=.25)\n",
    "\n",
    "plt.xlim(-np.pi,np.pi), plt.xticks([])\n",
    "plt.ylim(-2.5,2.5), plt.yticks([])\n",
    "# savefig('../figures/plot_ex.png',dpi=48)\n",
    "plt.show()"
   ]
  },
  {
   "cell_type": "code",
   "execution_count": null,
   "metadata": {},
   "outputs": [],
   "source": [
    "#Scatter Plots\n",
    "import numpy as np\n",
    "import matplotlib.pyplot as plt\n",
    "\n",
    "plt.figure(figsize=(6,3), dpi=80)\n",
    "\n",
    "n = 1024\n",
    "X = np.random.normal(0,1,n)\n",
    "Y = np.random.normal(0,1,n)\n",
    "T = np.arctan2(Y,X)\n",
    "\n",
    "plt.axes([0.025,0.025,0.95,0.95])\n",
    "plt.scatter(X,Y, s=75, c=T, alpha=.5)\n",
    "\n",
    "plt.xlim(-1.5,1.5), plt.xticks([])\n",
    "plt.ylim(-1.5,1.5), plt.yticks([])\n",
    "# savefig('../figures/scatter_ex.png',dpi=48)\n",
    "plt.show()"
   ]
  },
  {
   "cell_type": "code",
   "execution_count": null,
   "metadata": {},
   "outputs": [],
   "source": [
    "#Bar Plots\n",
    "import numpy as np\n",
    "import matplotlib.pyplot as plt\n",
    "\n",
    "plt.figure(figsize=(6,3), dpi=80)\n",
    "\n",
    "n = 12\n",
    "X = np.arange(n)\n",
    "Y1 = (1-X/float(n)) * np.random.uniform(0.5,1.0,n)\n",
    "Y2 = (1-X/float(n)) * np.random.uniform(0.5,1.0,n)\n",
    "\n",
    "plt.axes([0.025,0.025,0.95,0.95])\n",
    "plt.bar(X, +Y1, facecolor='#9999ff', edgecolor='white')\n",
    "plt.bar(X, -Y2, facecolor='#ff9999', edgecolor='white')\n",
    "\n",
    "for x,y in zip(X,Y1):\n",
    "    plt.text(x+0.4, y+0.05, '%.2f' % y, ha='center', va= 'bottom')\n",
    "\n",
    "for x,y in zip(X,Y2):\n",
    "    plt.text(x+0.4, -y-0.05, '%.2f' % y, ha='center', va= 'top')\n",
    "\n",
    "plt.xlim(-.5,n), plt.xticks([])\n",
    "plt.ylim(-1.25,+1.25), plt.yticks([])\n",
    "\n",
    "# savefig('../figures/bar_ex.png', dpi=48)\n",
    "plt.show()"
   ]
  },
  {
   "cell_type": "code",
   "execution_count": null,
   "metadata": {},
   "outputs": [],
   "source": [
    "#Contour Plots\n",
    "import numpy as np\n",
    "import matplotlib.pyplot as plt\n",
    "\n",
    "plt.figure(figsize=(6,3), dpi=80)\n",
    "\n",
    "def f(x,y):\n",
    "    return (1-x/2+x**5+y**3)*np.exp(-x**2-y**2)\n",
    "\n",
    "n = 256\n",
    "x = np.linspace(-3,3,n)\n",
    "y = np.linspace(-3,3,n)\n",
    "X,Y = np.meshgrid(x,y)\n",
    "\n",
    "plt.axes([0.025,0.025,0.95,0.95])\n",
    "\n",
    "plt.contourf(X, Y, f(X,Y), 8, alpha=.75, cmap=plt.cm.hot)\n",
    "C = plt.contour(X, Y, f(X,Y), 8, colors='black')\n",
    "plt.clabel(C, inline=1, fontsize=10)\n",
    "\n",
    "plt.xticks([]), plt.yticks([])\n",
    "# savefig('../figures/contour_ex.png',dpi=48)\n",
    "plt.show()"
   ]
  },
  {
   "cell_type": "code",
   "execution_count": null,
   "metadata": {},
   "outputs": [],
   "source": [
    "#Pie Charts\n",
    "import numpy as np\n",
    "import matplotlib.pyplot as plt\n",
    "\n",
    "plt.figure(figsize=(6,3), dpi=80)\n",
    "\n",
    "n = 20\n",
    "Z = np.ones(n)\n",
    "Z[-1] *= 2\n",
    "\n",
    "plt.axes([0.025,0.025,0.95,0.95])\n",
    "\n",
    "plt.pie(Z, explode=Z*.05, colors = ['%f' % (i/float(n)) for i in range(n)])\n",
    "plt.gca().set_aspect('equal')\n",
    "plt.xticks([]), plt.yticks([])\n",
    "\n",
    "# savefig('../figures/pie_ex.png',dpi=48)\n",
    "plt.show()"
   ]
  },
  {
   "cell_type": "code",
   "execution_count": null,
   "metadata": {},
   "outputs": [],
   "source": [
    "#Polar Axis\n",
    "import numpy as np\n",
    "import matplotlib.pyplot as plt\n",
    "\n",
    "plt.figure(figsize=(6,3), dpi=80)\n",
    "\n",
    "ax = plt.axes([0.025,0.025,0.95,0.95], polar=True)\n",
    "\n",
    "N = 20\n",
    "theta = np.arange(0.0, 2*np.pi, 2*np.pi/N)\n",
    "radii = 10*np.random.rand(N)\n",
    "width = np.pi/4*np.random.rand(N)\n",
    "bars = plt.bar(theta, radii, width=width, bottom=0.0)\n",
    "\n",
    "for r,bar in zip(radii, bars):\n",
    "    bar.set_facecolor( plt.cm.jet(r/10.))\n",
    "    bar.set_alpha(0.5)\n",
    "\n",
    "ax.set_xticklabels([])\n",
    "ax.set_yticklabels([])\n",
    "# savefig('../figures/polar_ex.png',dpi=48)\n",
    "plt.show()"
   ]
  },
  {
   "cell_type": "markdown",
   "metadata": {},
   "source": [
    "### Ploting two-dimensional arrays"
   ]
  },
  {
   "cell_type": "markdown",
   "metadata": {},
   "source": [
    "**Generating meshes**\n"
   ]
  },
  {
   "cell_type": "code",
   "execution_count": null,
   "metadata": {},
   "outputs": [],
   "source": [
    "import numpy as np\n",
    "Y,X = np.meshgrid(range(10),range(20))"
   ]
  },
  {
   "cell_type": "code",
   "execution_count": null,
   "metadata": {},
   "outputs": [],
   "source": [
    "#zajebaval računalnik, mi ni uspelo prepisati\n",
    "\n",
    "plt.figure(figsize=(6,4), dpi=80)\n",
    "\n",
    "\n",
    "u = np.linspace(-2, 2, 41)\n",
    "v = np.linspace(-1, 1, 21)\n",
    "\n"
   ]
  },
  {
   "cell_type": "markdown",
   "metadata": {},
   "source": [
    "**Contour & filled contour plots**\n",
    "\n"
   ]
  },
  {
   "cell_type": "code",
   "execution_count": null,
   "metadata": {
    "scrolled": false
   },
   "outputs": [],
   "source": [
    "plt.figure(figsize=(6,4), dpi=80)\n",
    "\n",
    "plt.subplot(2,2,1)\n",
    "plt.contourf(X,Y,Z,20, cmap='viridis')\n",
    "plt.colorbar()\n",
    "plt.title('Viridis')\n",
    "\n",
    "\n",
    "plt.subplot(2,2,2)\n",
    "plt.contourf(X,Y,Z,20, cmap='gray')\n",
    "plt.colorbar()\n",
    "plt.title('Gray')\n",
    "\n",
    "\n",
    "plt.subplot(2,2,3)\n",
    "plt.contourf(X,Y,Z,20, cmap='autumn')\n",
    "plt.colorbar()\n",
    "plt.title('Autumn')\n",
    "\n",
    "\n",
    "plt.subplot(2,2,4)\n",
    "plt.contourf(X,Y,Z,20, cmap='winter')\n",
    "plt.colorbar()\n",
    "plt.title('Winter')\n",
    "\n",
    "\n",
    "plt.tight_layout()\n",
    "plt.show()"
   ]
  },
  {
   "cell_type": "markdown",
   "metadata": {},
   "source": [
    "### Analiza časovnih vrst"
   ]
  },
  {
   "cell_type": "markdown",
   "metadata": {},
   "source": [
    "***Multiple time series on common axes***\n"
   ]
  },
  {
   "cell_type": "code",
   "execution_count": null,
   "metadata": {},
   "outputs": [],
   "source": [
    "import pandas as pd"
   ]
  },
  {
   "cell_type": "code",
   "execution_count": null,
   "metadata": {},
   "outputs": [],
   "source": [
    "stocks = pd.read_csv('data/DATA_stocks.csv')\n",
    "stocks.head()"
   ]
  },
  {
   "cell_type": "code",
   "execution_count": null,
   "metadata": {},
   "outputs": [],
   "source": [
    "stocks.info()"
   ]
  },
  {
   "cell_type": "code",
   "execution_count": null,
   "metadata": {},
   "outputs": [],
   "source": [
    "#pretvorimo datumski stolpec v datetime, da imamo bolj optimiziran df\n",
    "stocks['Date'] = pd.to_datetime(stocks['Date'])"
   ]
  },
  {
   "cell_type": "code",
   "execution_count": null,
   "metadata": {},
   "outputs": [],
   "source": [
    "stocks.info()"
   ]
  },
  {
   "cell_type": "code",
   "execution_count": null,
   "metadata": {},
   "outputs": [],
   "source": [
    "# damo Date kot indeks, ker je boljše\n",
    "\n",
    "stocks = stocks.set_index('Date')"
   ]
  },
  {
   "cell_type": "code",
   "execution_count": null,
   "metadata": {},
   "outputs": [],
   "source": [
    "stocks.head()"
   ]
  },
  {
   "cell_type": "code",
   "execution_count": null,
   "metadata": {},
   "outputs": [],
   "source": [
    "# da lažje rišemo\n",
    "aapl = stocks['AAPL']\n",
    "ibm = stocks['IBM']\n",
    "csco = stocks['CSCO']\n",
    "msft = stocks['MSFT']"
   ]
  },
  {
   "cell_type": "code",
   "execution_count": null,
   "metadata": {},
   "outputs": [],
   "source": []
  },
  {
   "cell_type": "code",
   "execution_count": null,
   "metadata": {},
   "outputs": [],
   "source": []
  },
  {
   "cell_type": "code",
   "execution_count": null,
   "metadata": {
    "scrolled": false
   },
   "outputs": [],
   "source": [
    "plt.figure(figsize=(6,4), dpi=80)\n",
    "\n",
    "plt.plot(aapl, color = 'blue', label = 'APPL')\n",
    "plt.plot(ibm, color='green', label='IBM')\n",
    "plt.plot(csco, color='red', label='CSCO')\n",
    "plt.plot(msft, color='magenta', label='MSFT')\n",
    "\n",
    "\n",
    "plt.legend(loc='upper left')\n",
    "plt.xticks(rotation=60)\n",
    "\n",
    "plt.show()"
   ]
  },
  {
   "cell_type": "markdown",
   "metadata": {},
   "source": [
    "**Multiple time series slices**\n",
    "\n"
   ]
  },
  {
   "cell_type": "code",
   "execution_count": null,
   "metadata": {},
   "outputs": [],
   "source": [
    "# najprej celotno časovno obdobje, nato pa samo od 2007 do 2008\n",
    "\n",
    "plt.figure(figsize=(6,4), dpi=80)\n",
    "\n",
    "\n",
    "plt.subplot(2,1,1)\n",
    "#obrne številke, da lepše izgleda\n",
    "plt.xticks(rotation=45)\n",
    "plt.title('AAPL: All time')\n",
    "plt.plot(aapl, color='blue')\n",
    "\n",
    "\n",
    "view = aapl['2007':'2008']\n",
    "\n",
    "plt.subplot(2,1,2)\n",
    "plt.xticks(rotation = 45)\n",
    "plt.title('AAPL: 2007 to 2008')\n",
    "plt.plot(view,color = 'black')\n",
    "\n",
    "plt.tight_layout()\n",
    "plt.show()\n"
   ]
  },
  {
   "cell_type": "code",
   "execution_count": null,
   "metadata": {
    "scrolled": false
   },
   "outputs": [],
   "source": [
    "plt.figure(figsize=(6,4), dpi=80)\n",
    "\n",
    "#lahko pišemo datume, mesece, leta, dneve, in bo matplotlib vedel, kaj hočemo\n",
    "view = aapl['2007-11':'2008-04']\n",
    "\n",
    "\n",
    "plt.subplot(2,1,1)\n",
    "plt.plot(view, color='red')\n",
    "plt.title('AAPL: Nov. 2007 to Apr. 2008')\n",
    "plt.xticks(rotation=45)\n",
    "\n",
    "\n",
    "view = aapl['2008-01']\n",
    "\n",
    "\n",
    "plt.subplot(2,1,2)\n",
    "plt.plot(view, color='green')\n",
    "plt.title('AAPL: Jan. 2008')\n",
    "plt.xticks(rotation=45)\n",
    "\n",
    "\n",
    "plt.tight_layout()\n",
    "plt.show()"
   ]
  },
  {
   "cell_type": "markdown",
   "metadata": {},
   "source": [
    "**Plotting an inset view**"
   ]
  },
  {
   "cell_type": "code",
   "execution_count": null,
   "metadata": {},
   "outputs": [],
   "source": [
    "plt.figure(figsize=(6,4), dpi=80)\n",
    "\n",
    "view = aapl['2007-11':'2008-04']\n",
    "\n",
    "\n",
    "plt.plot(aapl)\n",
    "plt.xticks(rotation=45)\n",
    "plt.title('AAPL: 2001-2011')\n",
    "\n",
    "#drugi graf na isti sliki, na spodnji poziciji\n",
    "plt.axes([0.25,0.5, 0.35, 0.30])\n",
    "\n",
    "\n",
    "plt.plot(view, color='red')\n",
    "plt.xticks(rotation=45)\n",
    "plt.title('2007/11-2008/04')\n",
    "plt.show()\n"
   ]
  },
  {
   "cell_type": "markdown",
   "metadata": {},
   "source": [
    "### Pandas df.plot"
   ]
  },
  {
   "cell_type": "markdown",
   "metadata": {},
   "source": [
    "#### Data preparation\n",
    "\n",
    "[OECD](https://data.oecd.org/unemp/unemployment-rate.htm)"
   ]
  },
  {
   "cell_type": "code",
   "execution_count": null,
   "metadata": {},
   "outputs": [],
   "source": [
    "#pandas ima že sam funkcijo plot. Ima večino glavnih argumentov iz matplotliba. \n",
    "# pandas dejansko uporablja matplotlib za risanje\n",
    "# na njegove default grafe nato lahko dodajamo dodatne funkcionalnosti\n",
    "\n",
    "oecd = pd.read_csv('data/DATA_oecd.csv')\n",
    "# oecd.info()\n",
    "oecd.head()\n",
    "\n",
    "columns_to_drop = ['INDICATOR', 'SUBJECT','FREQUENCY','MEASURE', 'Flag Codes']\n",
    "oecd.drop(columns=columns_to_drop, inplace=True)"
   ]
  },
  {
   "cell_type": "code",
   "execution_count": null,
   "metadata": {},
   "outputs": [],
   "source": [
    "# vse države so v stolpcu LOCATION, mi bi pa risali ločeno po državah\n",
    "oecd.head()"
   ]
  },
  {
   "cell_type": "markdown",
   "metadata": {},
   "source": [
    "#### pandas vs matplotlib"
   ]
  },
  {
   "cell_type": "code",
   "execution_count": null,
   "metadata": {},
   "outputs": [],
   "source": [
    "# "
   ]
  },
  {
   "cell_type": "markdown",
   "metadata": {},
   "source": [
    "#### Which .plot do I use?"
   ]
  },
  {
   "cell_type": "markdown",
   "metadata": {},
   "source": [
    "#### Plotting Version 1: .plot plots the index against every column"
   ]
  },
  {
   "cell_type": "code",
   "execution_count": null,
   "metadata": {},
   "outputs": [],
   "source": [
    "# index je avtomatsko generiran\n",
    "oecd[35:40]"
   ]
  },
  {
   "cell_type": "code",
   "execution_count": null,
   "metadata": {},
   "outputs": [],
   "source": [
    "# če narišemo vse po defaultu, bo dal index na x os in za vsak column (številčni) bo narisal črto\n",
    "# to v tem primeru ni ok\n",
    "# takšno risanje je dobro le, če imamo nek index, ki nam nekaj pove\n",
    "oecd.plot()"
   ]
  },
  {
   "cell_type": "code",
   "execution_count": null,
   "metadata": {},
   "outputs": [],
   "source": [
    "mean_val = oecd.groupby('LOCATION')['Value'].mean()"
   ]
  },
  {
   "cell_type": "code",
   "execution_count": null,
   "metadata": {},
   "outputs": [],
   "source": [
    "mean_val"
   ]
  },
  {
   "cell_type": "code",
   "execution_count": null,
   "metadata": {},
   "outputs": [],
   "source": [
    "mean_val.plot(kind = \"bar\")"
   ]
  },
  {
   "cell_type": "code",
   "execution_count": null,
   "metadata": {},
   "outputs": [],
   "source": []
  },
  {
   "cell_type": "code",
   "execution_count": null,
   "metadata": {},
   "outputs": [],
   "source": []
  },
  {
   "cell_type": "markdown",
   "metadata": {},
   "source": [
    "#### Plotting Version 2: .plot(x='col1') plots against a single specific column\n",
    "\n",
    "Več o tem v naslednjem poglaviju.\n",
    "\n",
    "#### Plotting Version 3: .plot(x='col1', y='col2') plots one specific column against another specific column"
   ]
  },
  {
   "cell_type": "code",
   "execution_count": null,
   "metadata": {},
   "outputs": [],
   "source": [
    "# po defaultu kar poveže vse podatke, zato imamo eno samo črto\n",
    "oecd.plot(x='TIME', y='Value')"
   ]
  },
  {
   "cell_type": "code",
   "execution_count": null,
   "metadata": {},
   "outputs": [],
   "source": [
    "#zato moramo ločiti države\n",
    "oecd.groupby('LOCATION').plot(x='TIME',y='Value')"
   ]
  },
  {
   "cell_type": "code",
   "execution_count": null,
   "metadata": {},
   "outputs": [],
   "source": [
    "# radi bi vse imeli na enem grafu in ne na 4 grafih\n",
    "# zato potrebujemo matplotlib\n",
    "\n",
    "fig, ax = plt.subplots()\n",
    "\n",
    "oecd.groupby('LOCATION').plot(x='TIME', y='Value', ax=ax, legend=False)"
   ]
  },
  {
   "cell_type": "markdown",
   "metadata": {},
   "source": [
    "#### Primeri"
   ]
  },
  {
   "cell_type": "markdown",
   "metadata": {},
   "source": [
    "##### Basic Plotting: plot"
   ]
  },
  {
   "cell_type": "code",
   "execution_count": 4,
   "metadata": {},
   "outputs": [],
   "source": [
    "df = pd.DataFrame(np.random.randn(10,4),\n",
    "                  index=pd.date_range('1/1/2000',periods=10), \n",
    "                  columns=list('ABCD'))"
   ]
  },
  {
   "cell_type": "code",
   "execution_count": 5,
   "metadata": {},
   "outputs": [
    {
     "data": {
      "text/html": [
       "<div>\n",
       "<style scoped>\n",
       "    .dataframe tbody tr th:only-of-type {\n",
       "        vertical-align: middle;\n",
       "    }\n",
       "\n",
       "    .dataframe tbody tr th {\n",
       "        vertical-align: top;\n",
       "    }\n",
       "\n",
       "    .dataframe thead th {\n",
       "        text-align: right;\n",
       "    }\n",
       "</style>\n",
       "<table border=\"1\" class=\"dataframe\">\n",
       "  <thead>\n",
       "    <tr style=\"text-align: right;\">\n",
       "      <th></th>\n",
       "      <th>A</th>\n",
       "      <th>B</th>\n",
       "      <th>C</th>\n",
       "      <th>D</th>\n",
       "    </tr>\n",
       "  </thead>\n",
       "  <tbody>\n",
       "    <tr>\n",
       "      <th>2000-01-01</th>\n",
       "      <td>1.946781</td>\n",
       "      <td>0.455868</td>\n",
       "      <td>0.054893</td>\n",
       "      <td>0.912930</td>\n",
       "    </tr>\n",
       "    <tr>\n",
       "      <th>2000-01-02</th>\n",
       "      <td>0.440479</td>\n",
       "      <td>-0.581534</td>\n",
       "      <td>0.403239</td>\n",
       "      <td>-1.350363</td>\n",
       "    </tr>\n",
       "    <tr>\n",
       "      <th>2000-01-03</th>\n",
       "      <td>-0.985144</td>\n",
       "      <td>1.348673</td>\n",
       "      <td>-0.298302</td>\n",
       "      <td>0.006975</td>\n",
       "    </tr>\n",
       "    <tr>\n",
       "      <th>2000-01-04</th>\n",
       "      <td>2.268359</td>\n",
       "      <td>-0.176511</td>\n",
       "      <td>-1.971529</td>\n",
       "      <td>0.046378</td>\n",
       "    </tr>\n",
       "    <tr>\n",
       "      <th>2000-01-05</th>\n",
       "      <td>0.661421</td>\n",
       "      <td>1.578638</td>\n",
       "      <td>-1.571410</td>\n",
       "      <td>1.436675</td>\n",
       "    </tr>\n",
       "  </tbody>\n",
       "</table>\n",
       "</div>"
      ],
      "text/plain": [
       "                   A         B         C         D\n",
       "2000-01-01  1.946781  0.455868  0.054893  0.912930\n",
       "2000-01-02  0.440479 -0.581534  0.403239 -1.350363\n",
       "2000-01-03 -0.985144  1.348673 -0.298302  0.006975\n",
       "2000-01-04  2.268359 -0.176511 -1.971529  0.046378\n",
       "2000-01-05  0.661421  1.578638 -1.571410  1.436675"
      ]
     },
     "execution_count": 5,
     "metadata": {},
     "output_type": "execute_result"
    }
   ],
   "source": [
    "df.head()"
   ]
  },
  {
   "cell_type": "code",
   "execution_count": 6,
   "metadata": {},
   "outputs": [
    {
     "data": {
      "text/plain": [
       "<matplotlib.axes._subplots.AxesSubplot at 0x7f7e28665b00>"
      ]
     },
     "execution_count": 6,
     "metadata": {},
     "output_type": "execute_result"
    },
    {
     "data": {
      "text/plain": [
       "<Figure size 480x320 with 0 Axes>"
      ]
     },
     "metadata": {},
     "output_type": "display_data"
    },
    {
     "data": {
      "image/png": "[encoded data removed]",
      "text/plain": [
       "<Figure size 432x288 with 1 Axes>"
      ]
     },
     "metadata": {
      "needs_background": "light"
     },
     "output_type": "display_data"
    }
   ],
   "source": [
    "plt.figure(figsize=(6,4), dpi=80)\n",
    "df.plot()"
   ]
  },
  {
   "cell_type": "code",
   "execution_count": null,
   "metadata": {},
   "outputs": [],
   "source": []
  },
  {
   "cell_type": "markdown",
   "metadata": {},
   "source": [
    "##### Bar Plot\n",
    "\n"
   ]
  },
  {
   "cell_type": "code",
   "execution_count": 7,
   "metadata": {},
   "outputs": [],
   "source": [
    "df = pd.DataFrame(np.random.rand(10,4),columns=['a','b','c','d'])"
   ]
  },
  {
   "cell_type": "code",
   "execution_count": 11,
   "metadata": {},
   "outputs": [
    {
     "data": {
      "text/plain": [
       "<matplotlib.axes._subplots.AxesSubplot at 0x7f7e2803a710>"
      ]
     },
     "execution_count": 11,
     "metadata": {},
     "output_type": "execute_result"
    },
    {
     "data": {
      "image/png": "[encoded data removed]",
      "text/plain": [
       "<Figure size 432x288 with 1 Axes>"
      ]
     },
     "metadata": {
      "needs_background": "light"
     },
     "output_type": "display_data"
    }
   ],
   "source": [
    "# radi bi jih narisali kot bar\n",
    "df.plot(kind='bar')"
   ]
  },
  {
   "cell_type": "code",
   "execution_count": 12,
   "metadata": {},
   "outputs": [
    {
     "data": {
      "text/plain": [
       "<matplotlib.axes._subplots.AxesSubplot at 0x7f7e27f66f60>"
      ]
     },
     "execution_count": 12,
     "metadata": {},
     "output_type": "execute_result"
    },
    {
     "data": {
      "image/png": "[encoded data removed]",
      "text/plain": [
       "<Figure size 432x288 with 1 Axes>"
      ]
     },
     "metadata": {
      "needs_background": "light"
     },
     "output_type": "display_data"
    }
   ],
   "source": [
    "# stacked bar chart\n",
    "df.plot(kind='bar', stacked = True)"
   ]
  },
  {
   "cell_type": "code",
   "execution_count": 14,
   "metadata": {},
   "outputs": [
    {
     "data": {
      "text/plain": [
       "<matplotlib.axes._subplots.AxesSubplot at 0x7f7e27e18da0>"
      ]
     },
     "execution_count": 14,
     "metadata": {},
     "output_type": "execute_result"
    },
    {
     "data": {
      "image/png": "[encoded data removed]",
      "text/plain": [
       "<Figure size 432x288 with 1 Axes>"
      ]
     },
     "metadata": {
      "needs_background": "light"
     },
     "output_type": "display_data"
    }
   ],
   "source": [
    "# horizontalni bar\n",
    "df.plot(kind='barh', stacked = True)"
   ]
  },
  {
   "cell_type": "markdown",
   "metadata": {},
   "source": [
    "### seaborn: statistical data visualization\n",
    "\n",
    "> [Seaborn dokumentacija](https://seaborn.pydata.org/)"
   ]
  },
  {
   "cell_type": "markdown",
   "metadata": {},
   "source": [
    "**Simple linear regressions**\n"
   ]
  },
  {
   "cell_type": "code",
   "execution_count": 17,
   "metadata": {},
   "outputs": [
    {
     "data": {
      "text/html": [
       "<div>\n",
       "<style scoped>\n",
       "    .dataframe tbody tr th:only-of-type {\n",
       "        vertical-align: middle;\n",
       "    }\n",
       "\n",
       "    .dataframe tbody tr th {\n",
       "        vertical-align: top;\n",
       "    }\n",
       "\n",
       "    .dataframe thead th {\n",
       "        text-align: right;\n",
       "    }\n",
       "</style>\n",
       "<table border=\"1\" class=\"dataframe\">\n",
       "  <thead>\n",
       "    <tr style=\"text-align: right;\">\n",
       "      <th></th>\n",
       "      <th>mpg</th>\n",
       "      <th>cyl</th>\n",
       "      <th>displ</th>\n",
       "      <th>hp</th>\n",
       "      <th>weight</th>\n",
       "      <th>accel</th>\n",
       "      <th>yr</th>\n",
       "      <th>origin</th>\n",
       "      <th>name</th>\n",
       "      <th>color</th>\n",
       "      <th>size</th>\n",
       "      <th>marker</th>\n",
       "    </tr>\n",
       "  </thead>\n",
       "  <tbody>\n",
       "    <tr>\n",
       "      <th>0</th>\n",
       "      <td>18.0</td>\n",
       "      <td>6</td>\n",
       "      <td>250.0</td>\n",
       "      <td>88</td>\n",
       "      <td>3139</td>\n",
       "      <td>14.5</td>\n",
       "      <td>71</td>\n",
       "      <td>US</td>\n",
       "      <td>ford mustang</td>\n",
       "      <td>red</td>\n",
       "      <td>27.370336</td>\n",
       "      <td>o</td>\n",
       "    </tr>\n",
       "    <tr>\n",
       "      <th>1</th>\n",
       "      <td>9.0</td>\n",
       "      <td>8</td>\n",
       "      <td>304.0</td>\n",
       "      <td>193</td>\n",
       "      <td>4732</td>\n",
       "      <td>18.5</td>\n",
       "      <td>70</td>\n",
       "      <td>US</td>\n",
       "      <td>hi 1200d</td>\n",
       "      <td>green</td>\n",
       "      <td>62.199511</td>\n",
       "      <td>o</td>\n",
       "    </tr>\n",
       "    <tr>\n",
       "      <th>2</th>\n",
       "      <td>36.1</td>\n",
       "      <td>4</td>\n",
       "      <td>91.0</td>\n",
       "      <td>60</td>\n",
       "      <td>1800</td>\n",
       "      <td>16.4</td>\n",
       "      <td>78</td>\n",
       "      <td>Asia</td>\n",
       "      <td>honda civic cvcc</td>\n",
       "      <td>blue</td>\n",
       "      <td>9.000000</td>\n",
       "      <td>x</td>\n",
       "    </tr>\n",
       "    <tr>\n",
       "      <th>3</th>\n",
       "      <td>18.5</td>\n",
       "      <td>6</td>\n",
       "      <td>250.0</td>\n",
       "      <td>98</td>\n",
       "      <td>3525</td>\n",
       "      <td>19.0</td>\n",
       "      <td>77</td>\n",
       "      <td>US</td>\n",
       "      <td>ford granada</td>\n",
       "      <td>red</td>\n",
       "      <td>34.515625</td>\n",
       "      <td>o</td>\n",
       "    </tr>\n",
       "    <tr>\n",
       "      <th>4</th>\n",
       "      <td>34.3</td>\n",
       "      <td>4</td>\n",
       "      <td>97.0</td>\n",
       "      <td>78</td>\n",
       "      <td>2188</td>\n",
       "      <td>15.8</td>\n",
       "      <td>80</td>\n",
       "      <td>Europe</td>\n",
       "      <td>audi 4000</td>\n",
       "      <td>blue</td>\n",
       "      <td>13.298178</td>\n",
       "      <td>s</td>\n",
       "    </tr>\n",
       "  </tbody>\n",
       "</table>\n",
       "</div>"
      ],
      "text/plain": [
       "    mpg  cyl  displ   hp  weight  accel  yr  origin              name  color  \\\n",
       "0  18.0    6  250.0   88    3139   14.5  71      US      ford mustang    red   \n",
       "1   9.0    8  304.0  193    4732   18.5  70      US          hi 1200d  green   \n",
       "2  36.1    4   91.0   60    1800   16.4  78    Asia  honda civic cvcc   blue   \n",
       "3  18.5    6  250.0   98    3525   19.0  77      US      ford granada    red   \n",
       "4  34.3    4   97.0   78    2188   15.8  80  Europe         audi 4000   blue   \n",
       "\n",
       "        size marker  \n",
       "0  27.370336      o  \n",
       "1  62.199511      o  \n",
       "2   9.000000      x  \n",
       "3  34.515625      o  \n",
       "4  13.298178      s  "
      ]
     },
     "execution_count": 17,
     "metadata": {},
     "output_type": "execute_result"
    }
   ],
   "source": [
    "# seaborn je višjenivojska knjižnica za risanje, ki v osnovi uporablja matplotlib\n",
    "# gre za statistično prikazovanje podatkov v pandasu\n",
    "# izriše kompleksne grafe v par ukazih\n",
    "\n",
    "#uvoz podatkov\n",
    "import pandas as pd\n",
    "\n",
    "auto = pd.read_csv('data/DATA_auto-mpg.csv')\n",
    "auto.head()"
   ]
  },
  {
   "cell_type": "code",
   "execution_count": 18,
   "metadata": {
    "scrolled": false
   },
   "outputs": [
    {
     "data": {
      "text/plain": [
       "<seaborn.axisgrid.FacetGrid at 0x7f7e27ca9048>"
      ]
     },
     "execution_count": 18,
     "metadata": {},
     "output_type": "execute_result"
    },
    {
     "data": {
      "image/png": "[encoded data removed]",
      "text/plain": [
       "<Figure size 360x360 with 1 Axes>"
      ]
     },
     "metadata": {
      "needs_background": "light"
     },
     "output_type": "display_data"
    }
   ],
   "source": [
    "# število konjev in teža ter njihove odvisnosti\n",
    "import seaborn as sns\n",
    "\n",
    "sns.lmplot(data=auto, x='weight', y='hp')\n",
    "\n",
    "\n"
   ]
  },
  {
   "cell_type": "code",
   "execution_count": null,
   "metadata": {},
   "outputs": [],
   "source": []
  }
 ],
 "metadata": {
  "kernelspec": {
   "display_name": "Python 3",
   "language": "python",
   "name": "python3"
  },
  "language_info": {
   "codemirror_mode": {
    "name": "ipython",
    "version": 3
   },
   "file_extension": ".py",
   "mimetype": "text/x-python",
   "name": "python",
   "nbconvert_exporter": "python",
   "pygments_lexer": "ipython3",
   "version": "3.7.3"
  }
 },
 "nbformat": 4,
 "nbformat_minor": 2
}
